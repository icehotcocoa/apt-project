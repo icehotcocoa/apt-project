{
 "cells": [
  {
   "cell_type": "code",
   "execution_count": 77,
   "metadata": {},
   "outputs": [],
   "source": [
    "import pandas as pd\n",
    "import numpy as np\n",
    "import matplotlib.pyplot as plt\n",
    "import seaborn as sns\n",
    "\n",
    "import geopandas as gpd\n",
    "from shapely.geometry import Point"
   ]
  },
  {
   "cell_type": "code",
   "execution_count": 78,
   "metadata": {},
   "outputs": [],
   "source": [
    "# 맷플롯립 한글 사용 가능\n",
    "import matplotlib.pyplot as plt\n",
    "plt.rcParams['font.family'] ='Malgun Gothic'\n",
    "plt.rcParams['axes.unicode_minus'] =False"
   ]
  },
  {
   "cell_type": "code",
   "execution_count": 79,
   "metadata": {},
   "outputs": [],
   "source": [
    "# 데이터 불러오기\n",
    "dong_gdf = gpd.read_file('BND_ADM_DONG_PG_dong/seoul_dong_2018.shp', encoding=\"UTF-8\")\n",
    "gu_gdf = gpd.read_file('LARD_ADM_SECT_SGG_서울/LARD_ADM_SECT_SGG_11_202405.shp', encoding=\"CP949\")\n",
    "bus_stops = pd.read_csv('busstop_counts/busstop_counts_20242.csv')"
   ]
  },
  {
   "cell_type": "code",
   "execution_count": 80,
   "metadata": {},
   "outputs": [],
   "source": [
    "# 버스 정류소 데이터를 GeoDataFrame으로 변환\n",
    "bus_stops['geometry'] = bus_stops.apply(lambda x: Point(x['X좌표'], x['Y좌표']), axis=1)\n",
    "bus_stops_gdf = gpd.GeoDataFrame(bus_stops, geometry='geometry', crs=\"EPSG:4326\")"
   ]
  },
  {
   "cell_type": "code",
   "execution_count": 81,
   "metadata": {},
   "outputs": [],
   "source": [
    "# 좌표계 통일 (EPSG:5181 - Korea Central Belt 2010)\n",
    "dong_gdf = dong_gdf.to_crs(\"EPSG:5181\")\n",
    "gu_gdf = gu_gdf.to_crs(\"EPSG:5181\")\n",
    "bus_stops_gdf = bus_stops_gdf.to_crs(\"EPSG:5181\")"
   ]
  },
  {
   "cell_type": "code",
   "execution_count": 82,
   "metadata": {},
   "outputs": [
    {
     "name": "stdout",
     "output_type": "stream",
     "text": [
      "총 동 개수: 424\n",
      "          adm_nm  Bus_Stop_Count\n",
      "0  서울특별시 종로구 사직동              41\n",
      "1  서울특별시 종로구 삼청동              16\n",
      "2  서울특별시 종로구 부암동              35\n",
      "3  서울특별시 종로구 평창동              60\n",
      "4  서울특별시 종로구 무악동               4\n"
     ]
    }
   ],
   "source": [
    "# Spatial Join: 버스 정류소와 동 경계 결합\n",
    "joined_dong = gpd.sjoin(bus_stops_gdf, dong_gdf, how=\"inner\", predicate=\"within\")\n",
    "\n",
    "# 동별 버스 정류소 개수 계산\n",
    "dong_bus_counts = joined_dong.groupby('adm_nm').size().reset_index(name='Bus_Stop_Count')\n",
    "\n",
    "# 병합: 동 경계 데이터에 버스 정류소 개수 추가\n",
    "dong_gdf = dong_gdf.merge(dong_bus_counts, how=\"left\", on=\"adm_nm\")\n",
    "dong_gdf['Bus_Stop_Count'] = dong_gdf['Bus_Stop_Count'].fillna(0)  # NaN 값을 0으로 대체\n",
    "\n",
    "# 동 데이터 확인\n",
    "print(\"총 동 개수:\", len(dong_gdf))\n",
    "print(dong_gdf[['adm_nm', 'Bus_Stop_Count']].head())\n"
   ]
  },
  {
   "cell_type": "code",
   "execution_count": 83,
   "metadata": {},
   "outputs": [],
   "source": [
    "# csv파일로 저장\n",
    "column_names = ['adm_nm', 'Bus_Stop_Count']\n",
    "dong_gdf.to_csv('busstop_counts_20242.csv', index=False, columns=column_names)"
   ]
  }
 ],
 "metadata": {
  "kernelspec": {
   "display_name": "human-da-env2",
   "language": "python",
   "name": "python3"
  },
  "language_info": {
   "codemirror_mode": {
    "name": "ipython",
    "version": 3
   },
   "file_extension": ".py",
   "mimetype": "text/x-python",
   "name": "python",
   "nbconvert_exporter": "python",
   "pygments_lexer": "ipython3",
   "version": "3.12.7"
  }
 },
 "nbformat": 4,
 "nbformat_minor": 2
}
