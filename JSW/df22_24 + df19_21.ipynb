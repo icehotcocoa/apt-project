{
 "cells": [
  {
   "cell_type": "markdown",
   "metadata": {},
   "source": [
    "2019~2021년 데이터 or 2022~2024년 데이터 불러오기"
   ]
  },
  {
   "cell_type": "code",
   "execution_count": 1,
   "metadata": {},
   "outputs": [],
   "source": [
    "import numpy as np \n",
    "import pandas as pd"
   ]
  },
  {
   "cell_type": "code",
   "execution_count": 2,
   "metadata": {},
   "outputs": [],
   "source": [
    "df19_21 = pd.read_csv('file/hang_sw_count19_21.csv')\n",
    "df22_24 = pd.read_csv('file/hang_all_22_24.csv')"
   ]
  },
  {
   "cell_type": "code",
   "execution_count": 6,
   "metadata": {},
   "outputs": [
    {
     "data": {
      "text/html": [
       "<div>\n",
       "<style scoped>\n",
       "    .dataframe tbody tr th:only-of-type {\n",
       "        vertical-align: middle;\n",
       "    }\n",
       "\n",
       "    .dataframe tbody tr th {\n",
       "        vertical-align: top;\n",
       "    }\n",
       "\n",
       "    .dataframe thead th {\n",
       "        text-align: right;\n",
       "    }\n",
       "</style>\n",
       "<table border=\"1\" class=\"dataframe\">\n",
       "  <thead>\n",
       "    <tr style=\"text-align: right;\">\n",
       "      <th></th>\n",
       "      <th>행정동</th>\n",
       "      <th>시군구</th>\n",
       "      <th>총_승객수</th>\n",
       "      <th>연분기</th>\n",
       "    </tr>\n",
       "  </thead>\n",
       "  <tbody>\n",
       "    <tr>\n",
       "      <th>0</th>\n",
       "      <td>가락1동</td>\n",
       "      <td>송파구</td>\n",
       "      <td>18745</td>\n",
       "      <td>20221</td>\n",
       "    </tr>\n",
       "    <tr>\n",
       "      <th>1</th>\n",
       "      <td>가락2동</td>\n",
       "      <td>송파구</td>\n",
       "      <td>10442</td>\n",
       "      <td>20221</td>\n",
       "    </tr>\n",
       "    <tr>\n",
       "      <th>2</th>\n",
       "      <td>가산동</td>\n",
       "      <td>금천구</td>\n",
       "      <td>38186</td>\n",
       "      <td>20221</td>\n",
       "    </tr>\n",
       "    <tr>\n",
       "      <th>3</th>\n",
       "      <td>갈현1동</td>\n",
       "      <td>은평구</td>\n",
       "      <td>29402</td>\n",
       "      <td>20221</td>\n",
       "    </tr>\n",
       "    <tr>\n",
       "      <th>4</th>\n",
       "      <td>갈현2동</td>\n",
       "      <td>은평구</td>\n",
       "      <td>5997</td>\n",
       "      <td>20221</td>\n",
       "    </tr>\n",
       "    <tr>\n",
       "      <th>...</th>\n",
       "      <td>...</td>\n",
       "      <td>...</td>\n",
       "      <td>...</td>\n",
       "      <td>...</td>\n",
       "    </tr>\n",
       "    <tr>\n",
       "      <th>4190</th>\n",
       "      <td>화곡본동</td>\n",
       "      <td>강서구</td>\n",
       "      <td>0</td>\n",
       "      <td>20242</td>\n",
       "    </tr>\n",
       "    <tr>\n",
       "      <th>4191</th>\n",
       "      <td>황학동</td>\n",
       "      <td>중구</td>\n",
       "      <td>0</td>\n",
       "      <td>20242</td>\n",
       "    </tr>\n",
       "    <tr>\n",
       "      <th>4192</th>\n",
       "      <td>회기동</td>\n",
       "      <td>동대문구</td>\n",
       "      <td>0</td>\n",
       "      <td>20242</td>\n",
       "    </tr>\n",
       "    <tr>\n",
       "      <th>4193</th>\n",
       "      <td>후암동</td>\n",
       "      <td>용산구</td>\n",
       "      <td>0</td>\n",
       "      <td>20242</td>\n",
       "    </tr>\n",
       "    <tr>\n",
       "      <th>4194</th>\n",
       "      <td>휘경2동</td>\n",
       "      <td>동대문구</td>\n",
       "      <td>0</td>\n",
       "      <td>20242</td>\n",
       "    </tr>\n",
       "  </tbody>\n",
       "</table>\n",
       "<p>4195 rows × 4 columns</p>\n",
       "</div>"
      ],
      "text/plain": [
       "       행정동   시군구  총_승객수    연분기\n",
       "0     가락1동   송파구  18745  20221\n",
       "1     가락2동   송파구  10442  20221\n",
       "2      가산동   금천구  38186  20221\n",
       "3     갈현1동   은평구  29402  20221\n",
       "4     갈현2동   은평구   5997  20221\n",
       "...    ...   ...    ...    ...\n",
       "4190  화곡본동   강서구      0  20242\n",
       "4191   황학동    중구      0  20242\n",
       "4192   회기동  동대문구      0  20242\n",
       "4193   후암동   용산구      0  20242\n",
       "4194  휘경2동  동대문구      0  20242\n",
       "\n",
       "[4195 rows x 4 columns]"
      ]
     },
     "execution_count": 6,
     "metadata": {},
     "output_type": "execute_result"
    }
   ],
   "source": [
    "df19_21\n",
    "df22_24"
   ]
  },
  {
   "cell_type": "code",
   "execution_count": 9,
   "metadata": {},
   "outputs": [
    {
     "name": "stdout",
     "output_type": "stream",
     "text": [
      "Index(['행정동', '년분기', '지하철역_갯수', '총승하차인원_합계', '지하철역_목록'], dtype='object')\n",
      "Index(['행정동', '시군구', '총_승객수', '년분기'], dtype='object')\n"
     ]
    }
   ],
   "source": [
    "print(df19_21.columns)\n",
    "print(df22_24.columns)"
   ]
  },
  {
   "cell_type": "code",
   "execution_count": 7,
   "metadata": {},
   "outputs": [],
   "source": [
    "df22_24.rename(columns={'연분기':'년분기'}, inplace=True)"
   ]
  },
  {
   "cell_type": "code",
   "execution_count": 11,
   "metadata": {},
   "outputs": [
    {
     "name": "stdout",
     "output_type": "stream",
     "text": [
      "    행정동    년분기  지하철역_갯수  총승하차인원_합계   지하철역_목록  시군구  총_승객수\n",
      "0  가락1동  20191        2        0.0  송파, 가락시장  NaN    NaN\n",
      "1  가락1동  20192        2        0.0  송파, 가락시장  NaN    NaN\n",
      "2  가락1동  20193        2        0.0  가락시장, 송파  NaN    NaN\n",
      "3  가락1동  20194        2        0.0  가락시장, 송파  NaN    NaN\n",
      "4  가락1동  20201        2        0.0  송파, 가락시장  NaN    NaN\n"
     ]
    }
   ],
   "source": [
    "# 'hang_sw_count'와 'merged_data'를 '행정동'과 '년분기'를 기준으로 병합\n",
    "merged_result = pd.merge(\n",
    "    df19_21,  # 병합할 첫 번째 데이터프레임\n",
    "    df22_24,  # 병합할 두 번째 데이터프레임\n",
    "    on=['행정동', '년분기'],  # 병합 기준 컬럼\n",
    "    how='left'  # 병합 방법: 'left'는 왼쪽 데이터프레임을 기준으로 병합\n",
    ")\n",
    "\n",
    "# 결과 확인\n",
    "print(merged_result.head())  # 병합된 상위 5개 행 출력\n",
    "\n",
    "# 결과를 CSV로 저장 (필요한 경우)\n",
    "merged_result.to_csv('merged_result.csv', index=False, encoding='utf-8')"
   ]
  }
 ],
 "metadata": {
  "kernelspec": {
   "display_name": "human-da-env",
   "language": "python",
   "name": "python3"
  },
  "language_info": {
   "codemirror_mode": {
    "name": "ipython",
    "version": 3
   },
   "file_extension": ".py",
   "mimetype": "text/x-python",
   "name": "python",
   "nbconvert_exporter": "python",
   "pygments_lexer": "ipython3",
   "version": "3.12.7"
  }
 },
 "nbformat": 4,
 "nbformat_minor": 2
}
