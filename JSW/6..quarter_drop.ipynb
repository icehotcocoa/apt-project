{
 "cells": [
  {
   "cell_type": "markdown",
   "metadata": {},
   "source": [
    "년도별로 승객수가 있는 데이터와 없는 데이터로 분할"
   ]
  },
  {
   "cell_type": "code",
   "execution_count": 2,
   "metadata": {},
   "outputs": [],
   "source": [
    "import numpy \n",
    "import pandas as pd"
   ]
  },
  {
   "cell_type": "code",
   "execution_count": 3,
   "metadata": {},
   "outputs": [],
   "source": [
    "# 파일불러오기\n",
    "is22 = pd.read_csv('../makefile2-2/year_2022_is_dong.csv')\n",
    "is23 = pd.read_csv('../makefile2-2/year_2023_is_dong.csv')\n",
    "is24 = pd.read_csv('../makefile2-2/year_2024_is_dong.csv')"
   ]
  },
  {
   "cell_type": "code",
   "execution_count": 4,
   "metadata": {},
   "outputs": [],
   "source": [
    "zero22 = '../makefile2-2/year_2022_zero_dong.csv'\n",
    "zero23 = '../makefile2-2/year_2023_zero_dong.csv'\n",
    "zero24 = '../makefile2-2/year_2024_zero_dong.csv'"
   ]
  },
  {
   "cell_type": "code",
   "execution_count": 5,
   "metadata": {},
   "outputs": [],
   "source": [
    "no22 = pd.read_csv(zero22)\n",
    "no23 = pd.read_csv(zero23)\n",
    "no24 = pd.read_csv(zero24)"
   ]
  },
  {
   "cell_type": "code",
   "execution_count": 6,
   "metadata": {},
   "outputs": [
    {
     "data": {
      "text/html": [
       "<div>\n",
       "<style scoped>\n",
       "    .dataframe tbody tr th:only-of-type {\n",
       "        vertical-align: middle;\n",
       "    }\n",
       "\n",
       "    .dataframe tbody tr th {\n",
       "        vertical-align: top;\n",
       "    }\n",
       "\n",
       "    .dataframe thead th {\n",
       "        text-align: right;\n",
       "    }\n",
       "</style>\n",
       "<table border=\"1\" class=\"dataframe\">\n",
       "  <thead>\n",
       "    <tr style=\"text-align: right;\">\n",
       "      <th></th>\n",
       "      <th>연도</th>\n",
       "      <th>분기</th>\n",
       "      <th>행정동</th>\n",
       "      <th>시군구</th>\n",
       "      <th>총_승객수</th>\n",
       "    </tr>\n",
       "  </thead>\n",
       "  <tbody>\n",
       "    <tr>\n",
       "      <th>0</th>\n",
       "      <td>2022</td>\n",
       "      <td>1분기</td>\n",
       "      <td>가락본동</td>\n",
       "      <td>송파구</td>\n",
       "      <td>0.0</td>\n",
       "    </tr>\n",
       "    <tr>\n",
       "      <th>1</th>\n",
       "      <td>2022</td>\n",
       "      <td>1분기</td>\n",
       "      <td>가리봉동</td>\n",
       "      <td>구로구</td>\n",
       "      <td>0.0</td>\n",
       "    </tr>\n",
       "    <tr>\n",
       "      <th>2</th>\n",
       "      <td>2022</td>\n",
       "      <td>1분기</td>\n",
       "      <td>가양2동</td>\n",
       "      <td>강서구</td>\n",
       "      <td>0.0</td>\n",
       "    </tr>\n",
       "    <tr>\n",
       "      <th>3</th>\n",
       "      <td>2022</td>\n",
       "      <td>1분기</td>\n",
       "      <td>가양3동</td>\n",
       "      <td>강서구</td>\n",
       "      <td>0.0</td>\n",
       "    </tr>\n",
       "    <tr>\n",
       "      <th>4</th>\n",
       "      <td>2022</td>\n",
       "      <td>1분기</td>\n",
       "      <td>가회동</td>\n",
       "      <td>종로구</td>\n",
       "      <td>0.0</td>\n",
       "    </tr>\n",
       "    <tr>\n",
       "      <th>...</th>\n",
       "      <td>...</td>\n",
       "      <td>...</td>\n",
       "      <td>...</td>\n",
       "      <td>...</td>\n",
       "      <td>...</td>\n",
       "    </tr>\n",
       "    <tr>\n",
       "      <th>796</th>\n",
       "      <td>2022</td>\n",
       "      <td>3분기</td>\n",
       "      <td>화곡본동</td>\n",
       "      <td>강서구</td>\n",
       "      <td>0.0</td>\n",
       "    </tr>\n",
       "    <tr>\n",
       "      <th>797</th>\n",
       "      <td>2022</td>\n",
       "      <td>3분기</td>\n",
       "      <td>황학동</td>\n",
       "      <td>중구</td>\n",
       "      <td>0.0</td>\n",
       "    </tr>\n",
       "    <tr>\n",
       "      <th>798</th>\n",
       "      <td>2022</td>\n",
       "      <td>3분기</td>\n",
       "      <td>회기동</td>\n",
       "      <td>동대문구</td>\n",
       "      <td>0.0</td>\n",
       "    </tr>\n",
       "    <tr>\n",
       "      <th>799</th>\n",
       "      <td>2022</td>\n",
       "      <td>3분기</td>\n",
       "      <td>후암동</td>\n",
       "      <td>용산구</td>\n",
       "      <td>0.0</td>\n",
       "    </tr>\n",
       "    <tr>\n",
       "      <th>800</th>\n",
       "      <td>2022</td>\n",
       "      <td>3분기</td>\n",
       "      <td>휘경2동</td>\n",
       "      <td>동대문구</td>\n",
       "      <td>0.0</td>\n",
       "    </tr>\n",
       "  </tbody>\n",
       "</table>\n",
       "<p>801 rows × 5 columns</p>\n",
       "</div>"
      ],
      "text/plain": [
       "       연도   분기   행정동   시군구  총_승객수\n",
       "0    2022  1분기  가락본동   송파구    0.0\n",
       "1    2022  1분기  가리봉동   구로구    0.0\n",
       "2    2022  1분기  가양2동   강서구    0.0\n",
       "3    2022  1분기  가양3동   강서구    0.0\n",
       "4    2022  1분기   가회동   종로구    0.0\n",
       "..    ...  ...   ...   ...    ...\n",
       "796  2022  3분기  화곡본동   강서구    0.0\n",
       "797  2022  3분기   황학동    중구    0.0\n",
       "798  2022  3분기   회기동  동대문구    0.0\n",
       "799  2022  3분기   후암동   용산구    0.0\n",
       "800  2022  3분기  휘경2동  동대문구    0.0\n",
       "\n",
       "[801 rows x 5 columns]"
      ]
     },
     "execution_count": 6,
     "metadata": {},
     "output_type": "execute_result"
    }
   ],
   "source": [
    "no22"
   ]
  },
  {
   "cell_type": "code",
   "execution_count": 7,
   "metadata": {},
   "outputs": [
    {
     "name": "stdout",
     "output_type": "stream",
     "text": [
      "연도       0\n",
      "분기       0\n",
      "행정동      0\n",
      "시군구      0\n",
      "총_승객수    0\n",
      "dtype: int64\n"
     ]
    }
   ],
   "source": [
    "print(no24.isna().sum())"
   ]
  },
  {
   "cell_type": "code",
   "execution_count": 8,
   "metadata": {},
   "outputs": [
    {
     "data": {
      "text/plain": [
       "221"
      ]
     },
     "execution_count": 8,
     "metadata": {},
     "output_type": "execute_result"
    }
   ],
   "source": [
    "# 년도별 데이터에 행정동 갯수,목록 확인\n",
    "\n",
    "is22['행정동'].unique()\n",
    "is22['행정동'].nunique()\n",
    "\n",
    "is23['행정동'].unique()\n",
    "is23['행정동'].nunique()\n",
    "\n",
    "is24['행정동'].unique()\n",
    "is24['행정동'].nunique()\n",
    "\n",
    "# 22 : 219\n",
    "# 23 : 219\n",
    "# 24 : 221"
   ]
  },
  {
   "cell_type": "markdown",
   "metadata": {},
   "source": [
    "행정동 존재 여부 확인"
   ]
  },
  {
   "cell_type": "code",
   "execution_count": 9,
   "metadata": {},
   "outputs": [
    {
     "name": "stdout",
     "output_type": "stream",
     "text": [
      "2022년 데이터에 '항동' 존재 여부: False\n"
     ]
    }
   ],
   "source": [
    "is22['행정동'].unique()\n",
    "print(\"2022년 데이터에 '항동' 존재 여부:\", \"항동\" in is22)"
   ]
  },
  {
   "cell_type": "code",
   "execution_count": 10,
   "metadata": {},
   "outputs": [
    {
     "name": "stdout",
     "output_type": "stream",
     "text": [
      "2022년 데이터에 '항동' 존재 여부: False\n"
     ]
    }
   ],
   "source": [
    "is23['행정동'].unique()\n",
    "print(\"2022년 데이터에 '항동' 존재 여부:\", \"항동\" in is23)"
   ]
  },
  {
   "cell_type": "code",
   "execution_count": 11,
   "metadata": {},
   "outputs": [],
   "source": [
    "# 2022-2023, 2023-2024, 2022-2024\n",
    "# 년도별 공통된 행정동목록과 차이가 있는 행정동목록 확인\n",
    "\n",
    "# 문자열로 변환\n",
    "dong22 = set(is22['행정동'].astype(str).unique())\n",
    "dong23 = set(is23['행정동'].astype(str).unique())\n",
    "dong24 = set(is24['행정동'].astype(str).unique())"
   ]
  },
  {
   "cell_type": "code",
   "execution_count": 12,
   "metadata": {},
   "outputs": [
    {
     "name": "stdout",
     "output_type": "stream",
     "text": [
      "공통된 행정동(219개):\n",
      "{'거여1동', '성수1가1동', '논현1동', '약수동', '신사1동', '서초1동', '오륜동', '중화2동', '을지로동', '용답동', '제기동', '신정3동', '동화동', '청룡동', '옥수동', '서빙고동', '사근동', '인헌동', '반포4동', '이화동', '등촌3동', '상암동', '화곡1동', '금호1가동', '아현동', '사당4동', '수궁동', '신촌동', '면목본동', '장위2동', '둔촌2동', '방학1동', '양재1동', '장충동', '중곡3동', '성내1동', '월계2동', '압구정동', '문정2동', '미아동', '잠실6동', '대치2동', '성수1가2동', '공덕동', '오금동', '신당동', '시흥1동', '중계2.3동', '용강동', '역삼1동', '장지동', '상도1동', '휘경1동', '암사2동', '능동', '방이1동', '신도림동', '신대방2동', '수색동', '우이동', '왕십리2동', '잠실2동', '전농1동', '양평2동', '신정7동', '안암동', '사당2동', '명동', '진관동', '상봉2동', '목1동', '서림동', '성수2가3동', '이문1동', '삼양동', '수서동', '남현동', '상계8동', '도곡1동', '방화1동', '당산1동', '오류1동', '천연동', '구의1동', '구로5동', '월계3동', '금호4가동', '석관동', '이태원1동', '잠실7동', '도곡2동', '서교동', '녹번동', '소공동', '용산2가동', '하계2동', '등촌1동', '문래동', '신길7동', '둔촌1동', '개포2동', '잠원동', '가산동', '한남동', '행당2동', '상계1동', '반포1동', '양재2동', '신사2동', '독산1동', '서강동', '방배3동', '용신동', '목2동', '구로2동', '상계2동', '종로5.6가동', '일원본동', '공릉1동', '도봉2동', '송파1동', '잠실본동', '대림3동', '마장동', '방배1동', '번1동', '필동', '여의동', '창1동', '상계3.4동', '성산2동', '석촌동', '성내2동', '대방동', '수유1동', '충현동', '면목3.8동', '신림동', '천호1동', '송천동', '상계5동', '상도2동', '구의3동', '신길1동', '대학동', '서초2동', '서초3동', '신정4동', '구로3동', '마천1동', '삼성2동', '상봉1동', '종로1.2.3.4가동', '한강로동', '월곡2동', '광희동', '보라매동', '논현2동', '반포2동', '우장산동', '삼성1동', '신길6동', '노량진1동', '광장동', '삼선동', '서원동', '반포본동', '갈현1동', '길음1동', '불광1동', '창신3동', '홍제1동', '면목4동', '가락2동', '개봉1동', '보문동', '정릉4동', '남영동', '당산2동', '창5동', '길동', '영등포본동', '이문2동', '신사동', '묵2동', '숭인2동', '대흥동', '목3동', '명일1동', '대치4동', '잠실4동', '자양4동', '흑석동', '수유2동', '신내1동', '발산1동', '응봉동', '명일2동', '망우본동', '방배2동', '공릉2동', '화양동', '증산동', '행당1동', '효창동', '대조동', '갈현2동', '방이2동', '공항동', '내곡동', '사직동', '구의2동', '가락1동', '정릉1동', '방화2동', '영등포동', '회현동', '양평1동', '남가좌1동'}\n",
      "\n",
      "다른 행정동 (0개):\n",
      "set()\n"
     ]
    }
   ],
   "source": [
    "# 2022-2023\n",
    "\n",
    "# 공통된 행정동 (교집합) \n",
    "samedong_22_23 = dong22 & dong23 \n",
    "\n",
    "# 다른 행정동 (공통된 행정동 제거)\n",
    "diffdong_22_23 = (dong22 | dong23) - samedong_22_23\n",
    "\n",
    "print(f\"공통된 행정동({len(samedong_22_23)}개):\")\n",
    "print(samedong_22_23)\n",
    "\n",
    "print(f\"\\n다른 행정동 ({len(diffdong_22_23)}개):\")\n",
    "print(diffdong_22_23)\n",
    "\n",
    "# 공통된 행정동(219)\n",
    "# 다른 행정동(X)"
   ]
  },
  {
   "cell_type": "code",
   "execution_count": 13,
   "metadata": {},
   "outputs": [
    {
     "name": "stdout",
     "output_type": "stream",
     "text": [
      "공통된 행정동(219개):\n",
      "{'거여1동', '성수1가1동', '논현1동', '약수동', '신사1동', '서초1동', '오륜동', '중화2동', '을지로동', '용답동', '제기동', '신정3동', '동화동', '청룡동', '옥수동', '서빙고동', '사근동', '인헌동', '반포4동', '이화동', '등촌3동', '상암동', '화곡1동', '금호1가동', '아현동', '사당4동', '수궁동', '신촌동', '면목본동', '장위2동', '둔촌2동', '방학1동', '양재1동', '장충동', '중곡3동', '성내1동', '월계2동', '압구정동', '문정2동', '미아동', '잠실6동', '대치2동', '성수1가2동', '공덕동', '오금동', '신당동', '시흥1동', '중계2.3동', '용강동', '역삼1동', '장지동', '상도1동', '휘경1동', '암사2동', '능동', '방이1동', '신도림동', '신대방2동', '수색동', '우이동', '왕십리2동', '잠실2동', '전농1동', '양평2동', '신정7동', '안암동', '사당2동', '명동', '진관동', '상봉2동', '목1동', '서림동', '성수2가3동', '이문1동', '삼양동', '수서동', '남현동', '상계8동', '도곡1동', '방화1동', '당산1동', '오류1동', '천연동', '구의1동', '구로5동', '월계3동', '금호4가동', '석관동', '이태원1동', '잠실7동', '도곡2동', '서교동', '녹번동', '소공동', '용산2가동', '하계2동', '등촌1동', '문래동', '신길7동', '둔촌1동', '개포2동', '잠원동', '가산동', '한남동', '행당2동', '상계1동', '반포1동', '양재2동', '신사2동', '독산1동', '서강동', '방배3동', '용신동', '목2동', '구로2동', '상계2동', '종로5.6가동', '일원본동', '공릉1동', '도봉2동', '송파1동', '잠실본동', '대림3동', '마장동', '방배1동', '번1동', '필동', '여의동', '창1동', '상계3.4동', '성산2동', '석촌동', '성내2동', '대방동', '수유1동', '충현동', '면목3.8동', '신림동', '천호1동', '송천동', '상계5동', '상도2동', '구의3동', '신길1동', '대학동', '서초2동', '서초3동', '신정4동', '구로3동', '마천1동', '삼성2동', '상봉1동', '종로1.2.3.4가동', '한강로동', '월곡2동', '광희동', '보라매동', '논현2동', '반포2동', '우장산동', '삼성1동', '신길6동', '노량진1동', '광장동', '삼선동', '서원동', '반포본동', '갈현1동', '길음1동', '불광1동', '창신3동', '홍제1동', '면목4동', '가락2동', '개봉1동', '보문동', '정릉4동', '남영동', '당산2동', '창5동', '길동', '영등포본동', '이문2동', '신사동', '묵2동', '숭인2동', '대흥동', '목3동', '명일1동', '대치4동', '잠실4동', '자양4동', '흑석동', '수유2동', '신내1동', '발산1동', '응봉동', '명일2동', '망우본동', '방배2동', '공릉2동', '화양동', '증산동', '행당1동', '효창동', '대조동', '갈현2동', '방이2동', '공항동', '내곡동', '사직동', '구의2동', '가락1동', '정릉1동', '방화2동', '영등포동', '회현동', '양평1동', '남가좌1동'}\n",
      "\n",
      "다른 행정동 (2개):\n",
      "{'오류2동', '암사3동'}\n"
     ]
    }
   ],
   "source": [
    "# 2023-2024\n",
    "\n",
    "# 공통된 행정동 (교집합) \n",
    "samedong_23_24 = dong23 & dong24\n",
    "\n",
    "# 다른 행정동 (공통된 행정동 제거)\n",
    "diffdong_23_24 = (dong23 | dong24) - samedong_23_24\n",
    "\n",
    "print(f\"공통된 행정동({len(samedong_22_23)}개):\")\n",
    "print(samedong_23_24)\n",
    "\n",
    "print(f\"\\n다른 행정동 ({len(diffdong_23_24)}개):\")\n",
    "print(diffdong_23_24)\n",
    "\n",
    "# 공통된 행정동(219)\n",
    "# 다른 행정동(2개) : {'오류2동', '암사3동'}"
   ]
  },
  {
   "cell_type": "code",
   "execution_count": 14,
   "metadata": {},
   "outputs": [],
   "source": [
    "# 2022 2024\n"
   ]
  },
  {
   "cell_type": "code",
   "execution_count": 15,
   "metadata": {},
   "outputs": [
    {
     "name": "stdout",
     "output_type": "stream",
     "text": [
      "공통된 행정동(219개):\n",
      "{'거여1동', '성수1가1동', '논현1동', '약수동', '신사1동', '서초1동', '오륜동', '중화2동', '을지로동', '용답동', '제기동', '신정3동', '동화동', '청룡동', '옥수동', '서빙고동', '사근동', '인헌동', '반포4동', '이화동', '등촌3동', '상암동', '화곡1동', '금호1가동', '아현동', '사당4동', '수궁동', '신촌동', '면목본동', '장위2동', '둔촌2동', '방학1동', '양재1동', '장충동', '중곡3동', '성내1동', '월계2동', '압구정동', '문정2동', '미아동', '잠실6동', '대치2동', '성수1가2동', '공덕동', '오금동', '신당동', '시흥1동', '중계2.3동', '용강동', '역삼1동', '장지동', '상도1동', '휘경1동', '암사2동', '능동', '방이1동', '신도림동', '우이동', '수색동', '잠실2동', '왕십리2동', '전농1동', '신대방2동', '양평2동', '신정7동', '안암동', '사당2동', '명동', '진관동', '상봉2동', '목1동', '이문1동', '성수2가3동', '서림동', '삼양동', '수서동', '남현동', '상계8동', '도곡1동', '방화1동', '당산1동', '오류1동', '천연동', '구의1동', '구로5동', '월계3동', '금호4가동', '석관동', '이태원1동', '잠실7동', '도곡2동', '서교동', '녹번동', '소공동', '용산2가동', '하계2동', '등촌1동', '문래동', '신길7동', '둔촌1동', '개포2동', '잠원동', '가산동', '한남동', '행당2동', '상계1동', '반포1동', '양재2동', '신사2동', '독산1동', '서강동', '방배3동', '용신동', '목2동', '구로2동', '상계2동', '종로5.6가동', '일원본동', '공릉1동', '도봉2동', '송파1동', '잠실본동', '대림3동', '마장동', '방배1동', '번1동', '필동', '여의동', '창1동', '상계3.4동', '성산2동', '석촌동', '성내2동', '대방동', '수유1동', '충현동', '면목3.8동', '신림동', '천호1동', '송천동', '상계5동', '상도2동', '구의3동', '신길1동', '대학동', '서초2동', '서초3동', '신정4동', '구로3동', '마천1동', '삼성2동', '상봉1동', '종로1.2.3.4가동', '한강로동', '월곡2동', '광희동', '보라매동', '논현2동', '반포2동', '우장산동', '삼성1동', '신길6동', '노량진1동', '광장동', '삼선동', '서원동', '반포본동', '갈현1동', '길음1동', '불광1동', '창신3동', '홍제1동', '면목4동', '가락2동', '개봉1동', '보문동', '정릉4동', '남영동', '당산2동', '창5동', '길동', '영등포본동', '이문2동', '신사동', '묵2동', '숭인2동', '대흥동', '목3동', '명일1동', '대치4동', '잠실4동', '자양4동', '흑석동', '수유2동', '신내1동', '발산1동', '응봉동', '명일2동', '망우본동', '방배2동', '공릉2동', '화양동', '증산동', '행당1동', '효창동', '대조동', '갈현2동', '방이2동', '공항동', '내곡동', '사직동', '구의2동', '가락1동', '정릉1동', '방화2동', '영등포동', '회현동', '양평1동', '남가좌1동'}\n",
      "\n",
      "다른 행정동 (2개):\n",
      "{'오류2동', '암사3동'}\n"
     ]
    }
   ],
   "source": [
    "# 공통된 행정동 (교집합) \n",
    "samedong_22_24 = dong22 & dong24\n",
    "\n",
    "# 다른 행정동 (공통된 행정동 제거)\n",
    "diffdong_22_24 = (dong22 | dong24) - samedong_22_24\n",
    "\n",
    "print(f\"공통된 행정동({len(samedong_22_23)}개):\")\n",
    "print(samedong_22_24)\n",
    "\n",
    "print(f\"\\n다른 행정동 ({len(diffdong_22_24)}개):\")\n",
    "print(diffdong_22_24)\n",
    "\n",
    "# 공통된 행정동(219)\n",
    "# 다른 행정동(2개) : {'오류2동', '암사3동','항동'}\n",
    "\n",
    "# 결론 : 2024년에 3개가 다름"
   ]
  },
  {
   "cell_type": "code",
   "execution_count": 16,
   "metadata": {},
   "outputs": [
    {
     "name": "stdout",
     "output_type": "stream",
     "text": [
      "연도         int64\n",
      "분기        object\n",
      "행정동       object\n",
      "시군구       object\n",
      "총_승객수    float64\n",
      "dtype: object\n"
     ]
    }
   ],
   "source": [
    "print(is24.dtypes)"
   ]
  },
  {
   "cell_type": "code",
   "execution_count": 17,
   "metadata": {},
   "outputs": [],
   "source": [
    "# # 삭제할 컬럼명\n",
    "# c_drop = '분기'\n",
    "\n",
    "# if c_drop in no22.columns:\n",
    "#     no22 = no22.drop(columns=[c_drop])\n",
    "\n",
    "# if c_drop in no23.columns:\n",
    "#     no23 = no23.drop(columns=[c_drop])\n",
    "\n",
    "# if c_drop in no24.columns:\n",
    "#     no24 = no24.drop(columns=[c_drop])\n",
    "\n",
    "# # 파일로 다시 저장 \n",
    "# no22.to_csv('year_2022_zero_dong.csv', index=False)\n",
    "# no23.to_csv('year_2023_zero_dong.csv', index=False)\n",
    "# no24.to_csv('year_2024_zero_dong.csv', index=False)\n",
    "\n",
    "# print(f\"컬럼 '{c_drop} 가 삭제되었습니다.\")"
   ]
  },
  {
   "cell_type": "code",
   "execution_count": null,
   "metadata": {},
   "outputs": [
    {
     "data": {
      "text/html": [
       "<div>\n",
       "<style scoped>\n",
       "    .dataframe tbody tr th:only-of-type {\n",
       "        vertical-align: middle;\n",
       "    }\n",
       "\n",
       "    .dataframe tbody tr th {\n",
       "        vertical-align: top;\n",
       "    }\n",
       "\n",
       "    .dataframe thead th {\n",
       "        text-align: right;\n",
       "    }\n",
       "</style>\n",
       "<table border=\"1\" class=\"dataframe\">\n",
       "  <thead>\n",
       "    <tr style=\"text-align: right;\">\n",
       "      <th></th>\n",
       "      <th>연도</th>\n",
       "      <th>분기</th>\n",
       "      <th>행정동</th>\n",
       "      <th>시군구</th>\n",
       "      <th>총_승객수</th>\n",
       "    </tr>\n",
       "  </thead>\n",
       "  <tbody>\n",
       "    <tr>\n",
       "      <th>0</th>\n",
       "      <td>2022</td>\n",
       "      <td>1분기</td>\n",
       "      <td>가락본동</td>\n",
       "      <td>송파구</td>\n",
       "      <td>0.0</td>\n",
       "    </tr>\n",
       "    <tr>\n",
       "      <th>1</th>\n",
       "      <td>2022</td>\n",
       "      <td>1분기</td>\n",
       "      <td>가리봉동</td>\n",
       "      <td>구로구</td>\n",
       "      <td>0.0</td>\n",
       "    </tr>\n",
       "    <tr>\n",
       "      <th>2</th>\n",
       "      <td>2022</td>\n",
       "      <td>1분기</td>\n",
       "      <td>가양2동</td>\n",
       "      <td>강서구</td>\n",
       "      <td>0.0</td>\n",
       "    </tr>\n",
       "    <tr>\n",
       "      <th>3</th>\n",
       "      <td>2022</td>\n",
       "      <td>1분기</td>\n",
       "      <td>가양3동</td>\n",
       "      <td>강서구</td>\n",
       "      <td>0.0</td>\n",
       "    </tr>\n",
       "    <tr>\n",
       "      <th>4</th>\n",
       "      <td>2022</td>\n",
       "      <td>1분기</td>\n",
       "      <td>가회동</td>\n",
       "      <td>종로구</td>\n",
       "      <td>0.0</td>\n",
       "    </tr>\n",
       "    <tr>\n",
       "      <th>...</th>\n",
       "      <td>...</td>\n",
       "      <td>...</td>\n",
       "      <td>...</td>\n",
       "      <td>...</td>\n",
       "      <td>...</td>\n",
       "    </tr>\n",
       "    <tr>\n",
       "      <th>796</th>\n",
       "      <td>2022</td>\n",
       "      <td>3분기</td>\n",
       "      <td>화곡본동</td>\n",
       "      <td>강서구</td>\n",
       "      <td>0.0</td>\n",
       "    </tr>\n",
       "    <tr>\n",
       "      <th>797</th>\n",
       "      <td>2022</td>\n",
       "      <td>3분기</td>\n",
       "      <td>황학동</td>\n",
       "      <td>중구</td>\n",
       "      <td>0.0</td>\n",
       "    </tr>\n",
       "    <tr>\n",
       "      <th>798</th>\n",
       "      <td>2022</td>\n",
       "      <td>3분기</td>\n",
       "      <td>회기동</td>\n",
       "      <td>동대문구</td>\n",
       "      <td>0.0</td>\n",
       "    </tr>\n",
       "    <tr>\n",
       "      <th>799</th>\n",
       "      <td>2022</td>\n",
       "      <td>3분기</td>\n",
       "      <td>후암동</td>\n",
       "      <td>용산구</td>\n",
       "      <td>0.0</td>\n",
       "    </tr>\n",
       "    <tr>\n",
       "      <th>800</th>\n",
       "      <td>2022</td>\n",
       "      <td>3분기</td>\n",
       "      <td>휘경2동</td>\n",
       "      <td>동대문구</td>\n",
       "      <td>0.0</td>\n",
       "    </tr>\n",
       "  </tbody>\n",
       "</table>\n",
       "<p>801 rows × 5 columns</p>\n",
       "</div>"
      ],
      "text/plain": [
       "       연도   분기   행정동   시군구  총_승객수\n",
       "0    2022  1분기  가락본동   송파구    0.0\n",
       "1    2022  1분기  가리봉동   구로구    0.0\n",
       "2    2022  1분기  가양2동   강서구    0.0\n",
       "3    2022  1분기  가양3동   강서구    0.0\n",
       "4    2022  1분기   가회동   종로구    0.0\n",
       "..    ...  ...   ...   ...    ...\n",
       "796  2022  3분기  화곡본동   강서구    0.0\n",
       "797  2022  3분기   황학동    중구    0.0\n",
       "798  2022  3분기   회기동  동대문구    0.0\n",
       "799  2022  3분기   후암동   용산구    0.0\n",
       "800  2022  3분기  휘경2동  동대문구    0.0\n",
       "\n",
       "[801 rows x 5 columns]"
      ]
     },
     "execution_count": 18,
     "metadata": {},
     "output_type": "execute_result"
    }
   ],
   "source": [
    "is22 \n",
    "no22"
   ]
  },
  {
   "cell_type": "markdown",
   "metadata": {},
   "source": [
    "groupby 해서 총_승객수 평균값 구하기"
   ]
  },
  {
   "cell_type": "code",
   "execution_count": null,
   "metadata": {},
   "outputs": [
    {
     "data": {
      "text/plain": [
       "연도    분기   행정동   시군구 \n",
       "2024  1분기  가락1동  송파구      2260444.0\n",
       "           가락2동  송파구      1180218.0\n",
       "           가산동   금천구      4112467.0\n",
       "           갈현1동  은평구      2943302.0\n",
       "           갈현2동  은평구       684093.0\n",
       "                            ...    \n",
       "      4분기  화양동   광진구      2406614.0\n",
       "           회현동   중구      53971340.0\n",
       "           효창동   용산구       460143.0\n",
       "           휘경1동  동대문구      873080.0\n",
       "           흑석동   동작구       449863.0\n",
       "Name: 총_승객수, Length: 880, dtype: float64"
      ]
     },
     "execution_count": 32,
     "metadata": {},
     "output_type": "execute_result"
    }
   ],
   "source": [
    "is22.groupby(['연도', '분기', '행정동', '시군구'])['총_승객수'].mean()\n",
    "is23.groupby(['연도', '분기', '행정동', '시군구'])['총_승객수'].mean()\n",
    "is24.groupby(['연도', '분기', '행정동', '시군구'])['총_승객수'].mean()\n",
    "\n",
    "# is_years = [is22, is23, is24]\n",
    "# results = [df.groupby(['연도','분기','행정동'])['총_승객수'].mean().reset_index() for df in is_years]"
   ]
  },
  {
   "cell_type": "code",
   "execution_count": 35,
   "metadata": {},
   "outputs": [],
   "source": [
    "# is22 데이터프레임 그룹화 후 CSV로 저장\n",
    "is22_grouped = is22.groupby(['연도', '분기', '행정동', '시군구'])['총_승객수'].mean().reset_index()\n",
    "is22_grouped.to_csv('is22_grouped.csv', index=False)\n",
    "\n",
    "# is23 데이터프레임 그룹화 후 CSV로 저장\n",
    "is23_grouped = is23.groupby(['연도', '분기', '행정동', '시군구'])['총_승객수'].mean().reset_index()\n",
    "is23_grouped.to_csv('is23_grouped.csv', index=False)\n",
    "\n",
    "# is24 데이터프레임 그룹화 후 CSV로 저장\n",
    "is24_grouped = is24.groupby(['연도', '분기', '행정동', '시군구'])['총_승객수'].mean().reset_index()\n",
    "is24_grouped.to_csv('is24_grouped.csv', index=False)"
   ]
  },
  {
   "cell_type": "code",
   "execution_count": 37,
   "metadata": {},
   "outputs": [
    {
     "data": {
      "text/html": [
       "<div>\n",
       "<style scoped>\n",
       "    .dataframe tbody tr th:only-of-type {\n",
       "        vertical-align: middle;\n",
       "    }\n",
       "\n",
       "    .dataframe tbody tr th {\n",
       "        vertical-align: top;\n",
       "    }\n",
       "\n",
       "    .dataframe thead th {\n",
       "        text-align: right;\n",
       "    }\n",
       "</style>\n",
       "<table border=\"1\" class=\"dataframe\">\n",
       "  <thead>\n",
       "    <tr style=\"text-align: right;\">\n",
       "      <th></th>\n",
       "      <th>연도</th>\n",
       "      <th>분기</th>\n",
       "      <th>행정동</th>\n",
       "      <th>시군구</th>\n",
       "      <th>총_승객수</th>\n",
       "    </tr>\n",
       "  </thead>\n",
       "  <tbody>\n",
       "    <tr>\n",
       "      <th>0</th>\n",
       "      <td>2024</td>\n",
       "      <td>1분기</td>\n",
       "      <td>가락1동</td>\n",
       "      <td>송파구</td>\n",
       "      <td>2260444.0</td>\n",
       "    </tr>\n",
       "    <tr>\n",
       "      <th>1</th>\n",
       "      <td>2024</td>\n",
       "      <td>1분기</td>\n",
       "      <td>가락2동</td>\n",
       "      <td>송파구</td>\n",
       "      <td>1180218.0</td>\n",
       "    </tr>\n",
       "    <tr>\n",
       "      <th>2</th>\n",
       "      <td>2024</td>\n",
       "      <td>1분기</td>\n",
       "      <td>가산동</td>\n",
       "      <td>금천구</td>\n",
       "      <td>4112467.0</td>\n",
       "    </tr>\n",
       "    <tr>\n",
       "      <th>3</th>\n",
       "      <td>2024</td>\n",
       "      <td>1분기</td>\n",
       "      <td>갈현1동</td>\n",
       "      <td>은평구</td>\n",
       "      <td>2943302.0</td>\n",
       "    </tr>\n",
       "    <tr>\n",
       "      <th>4</th>\n",
       "      <td>2024</td>\n",
       "      <td>1분기</td>\n",
       "      <td>갈현2동</td>\n",
       "      <td>은평구</td>\n",
       "      <td>684093.0</td>\n",
       "    </tr>\n",
       "  </tbody>\n",
       "</table>\n",
       "</div>"
      ],
      "text/plain": [
       "     연도   분기   행정동  시군구      총_승객수\n",
       "0  2024  1분기  가락1동  송파구  2260444.0\n",
       "1  2024  1분기  가락2동  송파구  1180218.0\n",
       "2  2024  1분기   가산동  금천구  4112467.0\n",
       "3  2024  1분기  갈현1동  은평구  2943302.0\n",
       "4  2024  1분기  갈현2동  은평구   684093.0"
      ]
     },
     "execution_count": 37,
     "metadata": {},
     "output_type": "execute_result"
    }
   ],
   "source": [
    "# 데이터프레임 합치기 \n",
    "year22_df_all = pd.concat([is22_grouped, no22],ignore_index=True)\n",
    "year23_df_all = pd.concat([is23_grouped, no23],ignore_index=True)\n",
    "year24_df_all = pd.concat([is24_grouped, no24],ignore_index=True)\n",
    "\n",
    "year22_df_all.head()\n",
    "year23_df_all.head()\n",
    "year24_df_all.head()"
   ]
  },
  {
   "cell_type": "code",
   "execution_count": 38,
   "metadata": {},
   "outputs": [],
   "source": [
    "# 데이터프레임 저장 \n",
    "year22_df_all.to_csv('year22_df_all.csv', index=False)\n",
    "year23_df_all.to_csv('year23_df_all.csv', index=False)\n",
    "year24_df_all.to_csv('year24_df_all.csv', index=False)"
   ]
  }
 ],
 "metadata": {
  "kernelspec": {
   "display_name": "human-da-env",
   "language": "python",
   "name": "python3"
  },
  "language_info": {
   "codemirror_mode": {
    "name": "ipython",
    "version": 3
   },
   "file_extension": ".py",
   "mimetype": "text/x-python",
   "name": "python",
   "nbconvert_exporter": "python",
   "pygments_lexer": "ipython3",
   "version": "3.12.7"
  }
 },
 "nbformat": 4,
 "nbformat_minor": 2
}
