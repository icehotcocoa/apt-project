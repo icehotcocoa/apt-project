{
 "cells": [
  {
   "cell_type": "code",
   "execution_count": 48,
   "metadata": {},
   "outputs": [],
   "source": [
    "import pandas as pd\n",
    "from sklearn.ensemble import RandomForestRegressor\n",
    "from sklearn.preprocessing import StandardScaler\n",
    "import numpy as np\n",
    "import os\n",
    "import seaborn as sns\n",
    "import matplotlib.pyplot as plt"
   ]
  },
  {
   "cell_type": "code",
   "execution_count": null,
   "metadata": {},
   "outputs": [
    {
     "name": "stderr",
     "output_type": "stream",
     "text": [
      "<>:16: SyntaxWarning: invalid escape sequence '\\p'\n",
      "<>:17: SyntaxWarning: invalid escape sequence '\\p'\n",
      "<>:18: SyntaxWarning: invalid escape sequence '\\p'\n",
      "<>:19: SyntaxWarning: invalid escape sequence '\\p'\n",
      "<>:16: SyntaxWarning: invalid escape sequence '\\p'\n",
      "<>:17: SyntaxWarning: invalid escape sequence '\\p'\n",
      "<>:18: SyntaxWarning: invalid escape sequence '\\p'\n",
      "<>:19: SyntaxWarning: invalid escape sequence '\\p'\n",
      "C:\\Users\\human\\AppData\\Local\\Temp\\ipykernel_984\\446977432.py:16: SyntaxWarning: invalid escape sequence '\\p'\n",
      "  1: 'D:\\project\\Project 2\\머신러닝 테스트\\Merged_Sales_data_v2.6(shift1).csv',\n",
      "C:\\Users\\human\\AppData\\Local\\Temp\\ipykernel_984\\446977432.py:17: SyntaxWarning: invalid escape sequence '\\p'\n",
      "  2: 'D:\\project\\Project 2\\머신러닝 테스트\\Merged_Sales_data_v2.6(shift2).csv',\n",
      "C:\\Users\\human\\AppData\\Local\\Temp\\ipykernel_984\\446977432.py:18: SyntaxWarning: invalid escape sequence '\\p'\n",
      "  3: 'D:\\project\\Project 2\\머신러닝 테스트\\Merged_Sales_data_v2.6(shift3).csv',\n",
      "C:\\Users\\human\\AppData\\Local\\Temp\\ipykernel_984\\446977432.py:19: SyntaxWarning: invalid escape sequence '\\p'\n",
      "  4: 'D:\\project\\Project 2\\머신러닝 테스트\\Merged_Sales_data_v2.6(shift4).csv'\n"
     ]
    }
   ],
   "source": [
    "# 메모리 사용량 감소 함수\n",
    "from my_def3 import reduce_memory_usage\n",
    "\n",
    "# 분기별 파일 선택 함수\n",
    "def select_csv_file(shift):\n",
    "    \"\"\"\n",
    "    주어진 분기 이동에 따라 적절한 CSV 파일을 선택합니다.\n",
    "\n",
    "    Parameters:\n",
    "        shift (int): 몇 분기 뒤를 예측할 것인지 (1, 2, 3, 4)\n",
    "\n",
    "    Returns:\n",
    "        str: 선택된 CSV 파일 경로\n",
    "    \"\"\"\n",
    "    file_mapping = {\n",
    "        1: 'D:\\project\\Project 2\\머신러닝 테스트\\Merged_Sales_data_v2.6(shift1).csv',\n",
    "        2: 'D:\\project\\Project 2\\머신러닝 테스트\\Merged_Sales_data_v2.6(shift2).csv',\n",
    "        3: 'D:\\project\\Project 2\\머신러닝 테스트\\Merged_Sales_data_v2.6(shift3).csv',\n",
    "        4: 'D:\\project\\Project 2\\머신러닝 테스트\\Merged_Sales_data_v2.6(shift4).csv'\n",
    "    }\n",
    "    return file_mapping.get(shift, None)"
   ]
  },
  {
   "cell_type": "code",
   "execution_count": 50,
   "metadata": {},
   "outputs": [],
   "source": [
    "# 데이터 불러오기 및 메모리 사용량 최적화\n",
    "def load_and_optimize_data(shift):\n",
    "    file_path = select_csv_file(shift)\n",
    "    if file_path is None:\n",
    "        raise ValueError(f\"지원되지 않는 shift 값입니다: {shift}\")\n",
    "    df = pd.read_csv(file_path)\n",
    "    df = reduce_memory_usage(df)\n",
    "    return df"
   ]
  },
  {
   "cell_type": "code",
   "execution_count": null,
   "metadata": {},
   "outputs": [],
   "source": [
    "# 입력 변수 설정\n",
    "def train_sales_model(category, shift):\n",
    "    \"\"\"\n",
    "    랜덤 포레스트 모델을 사용하여 주어진 업종별 카테고리를 기반으로 매출 예측 모델을 학습합니다.\n",
    "\n",
    "    Parameters:\n",
    "        category (str): 업종별 카테고리\n",
    "        shift (int): 몇 분기 뒤를 예측할 것인지 (예: 1, 2, 3, 4)\n",
    "\n",
    "    Returns:\n",
    "        model: 학습된 랜덤 포레스트 모델\n",
    "        pd.DataFrame: 학습에 사용된 데이터프레임 (피처)\n",
    "    \"\"\"\n",
    "    # 선택 가능한 업종별 카테고리 목록\n",
    "    valid_categories = ['생활서비스', '소매_편의', '식음료', '의료_건강', '가구_전자기기', '교육_학원', '미용_패션', '취미_레저', '부동산_숙박']\n",
    "    if category not in valid_categories:\n",
    "        raise ValueError(f\"지원되지 않는 업종별 카테고리입니다: {category}. 선택 가능한 카테고리: {valid_categories}\")\n",
    "\n",
    "    # 데이터 불러오기\n",
    "    df = load_and_optimize_data(shift)\n",
    "\n",
    "    # 해당 카테고리 데이터 필터링\n",
    "    df_filtered = df[df['업종별카테고리'] == category].copy()\n",
    "    if df_filtered.empty:\n",
    "        raise ValueError(\"해당 업종별 카테고리에 대한 데이터가 없습니다.\")\n",
    "    \n",
    "    # 행정동 데이터 저장\n",
    "    original_dong = df_filtered['행정동']\n",
    "\n",
    "    # 원핫인코딩 수행\n",
    "    df_filtered = pd.get_dummies(df_filtered, columns=['행정동', '업종별카테고리'], drop_first=True)\n",
    "\n",
    "    # 피처와 타겟 설정\n",
    "    features = ['년분기', '인구수', '지역생활인구', '장기외국인', '주차장면적(면)', '주차장개수(개소)', '학교수', '학생수', '버스정류장수'] + \\\n",
    "               [col for col in df_filtered.columns if col.startswith('행정동_') or col.startswith('업종별카테고리_')]\n",
    "    target = '월매출(점포)'\n",
    "\n",
    "    # 피처와 타겟 데이터 분리\n",
    "    X = df_filtered[features]\n",
    "    y = df_filtered[target]\n",
    "\n",
    "    # 스케일링 (Standard Scaler)\n",
    "    scaler = StandardScaler()\n",
    "    X = scaler.fit_transform(X)\n",
    "\n",
    "    # 랜덤 포레스트 회귀 모델 학습 (최종 모델)\n",
    "    model = RandomForestRegressor(n_estimators=500, max_depth=50, random_state=42)\n",
    "    model.fit(X, y)\n",
    "\n",
    "    return model, X, original_dong"
   ]
  },
  {
   "cell_type": "code",
   "execution_count": 57,
   "metadata": {},
   "outputs": [],
   "source": [
    "def predict_sales(model, X, original_dong):\n",
    "    \"\"\"\n",
    "    학습된 모델을 사용하여 매출을 예측합니다.\n",
    "\n",
    "    Parameters:\n",
    "        model: 학습된 랜덤 포레스트 모델\n",
    "        X (pd.DataFrame): 예측에 사용할 피처 데이터프레임\n",
    "\n",
    "    Returns:\n",
    "        pd.DataFrame: 예측 결과 데이터프레임\n",
    "    \"\"\"\n",
    "    # 예측 수행\n",
    "    y_pred = model.predict(X)\n",
    "\n",
    "    # 예측 결과를 데이터프레임으로 결합\n",
    "    df_results = pd.DataFrame(X, columns=[f'feature_{i}' for i in range(X.shape[1])])\n",
    "    df_results['예측_매출'] = y_pred\n",
    "    df_results['행정동'] = original_dong.values\n",
    "\n",
    "    # 예측 매출 상위 5개 행정동 추출\n",
    "    top5_dongs = df_results.groupby('행정동')['예측_매출'].mean().sort_values(ascending=False).head(5).reset_index()\n",
    "\n",
    "    return top5_dongs"
   ]
  },
  {
   "cell_type": "code",
   "execution_count": 58,
   "metadata": {},
   "outputs": [
    {
     "name": "stdout",
     "output_type": "stream",
     "text": [
      "<class 'pandas.core.frame.DataFrame'>\n",
      "RangeIndex: 62298 entries, 0 to 62297\n",
      "Data columns (total 15 columns):\n",
      " #   Column      Non-Null Count  Dtype  \n",
      "---  ------      --------------  -----  \n",
      " 0   년분기         62298 non-null  int16  \n",
      " 1   행정동         62298 non-null  object \n",
      " 2   업종별카테고리     62298 non-null  object \n",
      " 3   월매출(점포)     62298 non-null  int64  \n",
      " 4   인구수         62298 non-null  float16\n",
      " 5   지역생활인구      62298 non-null  float32\n",
      " 6   장기외국인       62298 non-null  float32\n",
      " 7   단기외국인       62298 non-null  float32\n",
      " 8   주차장면적(면)    62298 non-null  float32\n",
      " 9   주차장개수(개소)   62298 non-null  float16\n",
      " 10  학교수         62298 non-null  float16\n",
      " 11  학생수         62298 non-null  float16\n",
      " 12  버스정류장수      62298 non-null  float16\n",
      " 13  년분기_미룸      62298 non-null  float16\n",
      " 14  월매출_shift3  62298 non-null  float32\n",
      "dtypes: float16(6), float32(5), int16(1), int64(1), object(2)\n",
      "memory usage: 3.4+ MB\n",
      "None\n",
      "     행정동         예측_매출\n",
      "0    신림동  1.486674e+08\n",
      "1   상도1동  4.422469e+07\n",
      "2     길동  3.358851e+07\n",
      "3  노량진1동  2.796904e+07\n",
      "4   장안2동  2.199438e+07\n"
     ]
    }
   ],
   "source": [
    "category = '부동산_숙박'\n",
    "shift = 3\n",
    "model, X, original_dong = train_sales_model(category, shift)\n",
    "result = predict_sales(model, X, original_dong)\n",
    "print(result)"
   ]
  },
  {
   "cell_type": "code",
   "execution_count": 60,
   "metadata": {},
   "outputs": [
    {
     "name": "stdout",
     "output_type": "stream",
     "text": [
      "<class 'pandas.core.frame.DataFrame'>\n",
      "RangeIndex: 65647 entries, 0 to 65646\n",
      "Data columns (total 15 columns):\n",
      " #   Column      Non-Null Count  Dtype  \n",
      "---  ------      --------------  -----  \n",
      " 0   년분기         65647 non-null  int16  \n",
      " 1   행정동         65647 non-null  object \n",
      " 2   업종별카테고리     65647 non-null  object \n",
      " 3   월매출(점포)     65647 non-null  int64  \n",
      " 4   인구수         65647 non-null  float16\n",
      " 5   지역생활인구      65647 non-null  float32\n",
      " 6   장기외국인       65647 non-null  float32\n",
      " 7   단기외국인       65647 non-null  float32\n",
      " 8   주차장면적(면)    65647 non-null  float32\n",
      " 9   주차장개수(개소)   65647 non-null  float16\n",
      " 10  학교수         65647 non-null  float16\n",
      " 11  학생수         65647 non-null  float16\n",
      " 12  버스정류장수      65647 non-null  float16\n",
      " 13  년분기_미룸      65647 non-null  float16\n",
      " 14  월매출_shift2  65647 non-null  float32\n",
      "dtypes: float16(6), float32(5), int16(1), int64(1), object(2)\n",
      "memory usage: 3.6+ MB\n",
      "None\n",
      "     행정동         예측_매출\n",
      "0    신림동  1.503405e+08\n",
      "1   상도1동  4.112848e+07\n",
      "2     길동  3.488948e+07\n",
      "3   장안2동  2.930750e+07\n",
      "4  노량진1동  2.815917e+07\n"
     ]
    }
   ],
   "source": [
    "category = '부동산_숙박'\n",
    "shift = 2\n",
    "model, X, original_dong = train_sales_model(category, shift)\n",
    "result = predict_sales(model, X, original_dong)\n",
    "print(result)"
   ]
  },
  {
   "cell_type": "code",
   "execution_count": null,
   "metadata": {},
   "outputs": [
    {
     "ename": "ValueError",
     "evalue": "지원되지 않는 업종별 카테고리입니다: 한식. 선택 가능한 카테고리: ['생활서비스', '소매_편의', '식음료', '의료_건강', '가구_전자기기', '교육_학원', '미용_패션', '취미_레저', '부동산_숙박']",
     "output_type": "error",
     "traceback": [
      "\u001b[1;31m---------------------------------------------------------------------------\u001b[0m",
      "\u001b[1;31mValueError\u001b[0m                                Traceback (most recent call last)",
      "Cell \u001b[1;32mIn[47], line 3\u001b[0m\n\u001b[0;32m      1\u001b[0m category \u001b[38;5;241m=\u001b[39m \u001b[38;5;124m'\u001b[39m\u001b[38;5;124m한식\u001b[39m\u001b[38;5;124m'\u001b[39m\n\u001b[0;32m      2\u001b[0m shift \u001b[38;5;241m=\u001b[39m \u001b[38;5;241m3\u001b[39m\n\u001b[1;32m----> 3\u001b[0m model, X \u001b[38;5;241m=\u001b[39m \u001b[43mtrain_sales_model\u001b[49m\u001b[43m(\u001b[49m\u001b[43mcategory\u001b[49m\u001b[43m,\u001b[49m\u001b[43m \u001b[49m\u001b[43mshift\u001b[49m\u001b[43m)\u001b[49m\n\u001b[0;32m      4\u001b[0m result \u001b[38;5;241m=\u001b[39m predict_sales(model, X)\n\u001b[0;32m      5\u001b[0m \u001b[38;5;28mprint\u001b[39m(result)\n",
      "Cell \u001b[1;32mIn[43], line 17\u001b[0m, in \u001b[0;36mtrain_sales_model\u001b[1;34m(category, shift)\u001b[0m\n\u001b[0;32m     15\u001b[0m valid_categories \u001b[38;5;241m=\u001b[39m [\u001b[38;5;124m'\u001b[39m\u001b[38;5;124m생활서비스\u001b[39m\u001b[38;5;124m'\u001b[39m, \u001b[38;5;124m'\u001b[39m\u001b[38;5;124m소매_편의\u001b[39m\u001b[38;5;124m'\u001b[39m, \u001b[38;5;124m'\u001b[39m\u001b[38;5;124m식음료\u001b[39m\u001b[38;5;124m'\u001b[39m, \u001b[38;5;124m'\u001b[39m\u001b[38;5;124m의료_건강\u001b[39m\u001b[38;5;124m'\u001b[39m, \u001b[38;5;124m'\u001b[39m\u001b[38;5;124m가구_전자기기\u001b[39m\u001b[38;5;124m'\u001b[39m, \u001b[38;5;124m'\u001b[39m\u001b[38;5;124m교육_학원\u001b[39m\u001b[38;5;124m'\u001b[39m, \u001b[38;5;124m'\u001b[39m\u001b[38;5;124m미용_패션\u001b[39m\u001b[38;5;124m'\u001b[39m, \u001b[38;5;124m'\u001b[39m\u001b[38;5;124m취미_레저\u001b[39m\u001b[38;5;124m'\u001b[39m, \u001b[38;5;124m'\u001b[39m\u001b[38;5;124m부동산_숙박\u001b[39m\u001b[38;5;124m'\u001b[39m]\n\u001b[0;32m     16\u001b[0m \u001b[38;5;28;01mif\u001b[39;00m category \u001b[38;5;129;01mnot\u001b[39;00m \u001b[38;5;129;01min\u001b[39;00m valid_categories:\n\u001b[1;32m---> 17\u001b[0m     \u001b[38;5;28;01mraise\u001b[39;00m \u001b[38;5;167;01mValueError\u001b[39;00m(\u001b[38;5;124mf\u001b[39m\u001b[38;5;124m\"\u001b[39m\u001b[38;5;124m지원되지 않는 업종별 카테고리입니다: \u001b[39m\u001b[38;5;132;01m{\u001b[39;00mcategory\u001b[38;5;132;01m}\u001b[39;00m\u001b[38;5;124m. 선택 가능한 카테고리: \u001b[39m\u001b[38;5;132;01m{\u001b[39;00mvalid_categories\u001b[38;5;132;01m}\u001b[39;00m\u001b[38;5;124m\"\u001b[39m)\n\u001b[0;32m     19\u001b[0m \u001b[38;5;66;03m# 데이터 불러오기\u001b[39;00m\n\u001b[0;32m     20\u001b[0m df \u001b[38;5;241m=\u001b[39m load_and_optimize_data(shift)\n",
      "\u001b[1;31mValueError\u001b[0m: 지원되지 않는 업종별 카테고리입니다: 한식. 선택 가능한 카테고리: ['생활서비스', '소매_편의', '식음료', '의료_건강', '가구_전자기기', '교육_학원', '미용_패션', '취미_레저', '부동산_숙박']"
     ]
    }
   ],
   "source": [
    "category = '한식'\n",
    "shift = 3\n",
    "model, X = train_sales_model(category, shift)\n",
    "result = predict_sales(model, X)\n",
    "print(result)"
   ]
  }
 ],
 "metadata": {
  "kernelspec": {
   "display_name": "human-da-env",
   "language": "python",
   "name": "python3"
  },
  "language_info": {
   "codemirror_mode": {
    "name": "ipython",
    "version": 3
   },
   "file_extension": ".py",
   "mimetype": "text/x-python",
   "name": "python",
   "nbconvert_exporter": "python",
   "pygments_lexer": "ipython3",
   "version": "3.12.7"
  }
 },
 "nbformat": 4,
 "nbformat_minor": 2
}
