{
 "cells": [
  {
   "cell_type": "code",
   "execution_count": 297,
   "metadata": {},
   "outputs": [],
   "source": [
    "import numpy as np\n",
    "import pandas as pd"
   ]
  },
  {
   "cell_type": "code",
   "execution_count": 298,
   "metadata": {},
   "outputs": [],
   "source": [
    "# lines = []\n",
    "# with open(\"living ppl (local)/2019/LOCAL_PEOPLE_DONG_201901.csv\", encoding=\"utf-8\") as f:\n",
    "#     columns = f.readline().replace(\"\\\"\", \"\").replace(\"\\n\",\"\").split(\",\")\n",
    "#     while True:\n",
    "#         line = f.readline()\n",
    "#         if not line:\n",
    "#             break\n",
    "#         line2 = line.replace(\",\\\"\\\"\", \"\").replace(\"\\n\", \"\").replace(\"\\\"\", \"\")\n",
    "#         lines.append(line2.split(\",\"))\n",
    "\n",
    "# pd.DataFrame(lines, columns=columns)"
   ]
  },
  {
   "cell_type": "code",
   "execution_count": null,
   "metadata": {},
   "outputs": [],
   "source": [
    "all_lines = []\n",
    "\n",
    "year = 201901\n",
    "for month in range(year, year+3):\n",
    "    file_path = f\"living ppl (temp)/2019/TEMP_FOREIGNER_DONG_{month}.csv\"\n",
    "\n",
    "    with open(file_path, encoding=\"utf-8\") as f:\n",
    "        columns = f.readline().replace(\"\\\"\", \"\").replace(\"\\n\",\"\").split(\",\")\n",
    "        while True:\n",
    "            line = f.readline()\n",
    "            if not line:\n",
    "                break\n",
    "            line2 = line.replace(\",\\\"\\\"\", \"\").replace(\"\\n\", \"\").replace(\"\\\"\", \"\")\n",
    "            all_lines.append(line2.split(\",\"))\n",
    "\n",
    "local = pd.DataFrame(all_lines, columns=columns)"
   ]
  },
  {
   "cell_type": "code",
   "execution_count": 300,
   "metadata": {},
   "outputs": [],
   "source": [
    "# local.head()"
   ]
  },
  {
   "cell_type": "code",
   "execution_count": 301,
   "metadata": {},
   "outputs": [],
   "source": [
    "# local.columns"
   ]
  },
  {
   "cell_type": "code",
   "execution_count": 302,
   "metadata": {},
   "outputs": [],
   "source": [
    "local.columns = local.columns.str.strip()  # 열 이름의 공백 제거\n",
    "local.columns = local.columns.str.replace('\\ufeff', '')  # BOM 제거"
   ]
  },
  {
   "cell_type": "code",
   "execution_count": 303,
   "metadata": {},
   "outputs": [],
   "source": [
    "local_1 = local.drop(columns=['기준일ID'], axis=1)\n"
   ]
  },
  {
   "cell_type": "code",
   "execution_count": 304,
   "metadata": {},
   "outputs": [
    {
     "name": "stdout",
     "output_type": "stream",
     "text": [
      "<class 'pandas.core.frame.DataFrame'>\n",
      "RangeIndex: 925794 entries, 0 to 925793\n",
      "Data columns (total 5 columns):\n",
      " #   Column       Non-Null Count   Dtype \n",
      "---  ------       --------------   ----- \n",
      " 0   시간대구분        925794 non-null  object\n",
      " 1   행정동코드        925794 non-null  object\n",
      " 2   총생활인구수       925794 non-null  object\n",
      " 3   중국인체류인구수     925794 non-null  object\n",
      " 4   중국외외국인체류인구수  925794 non-null  object\n",
      "dtypes: object(5)\n",
      "memory usage: 35.3+ MB\n"
     ]
    },
    {
     "data": {
      "text/html": [
       "<div>\n",
       "<style scoped>\n",
       "    .dataframe tbody tr th:only-of-type {\n",
       "        vertical-align: middle;\n",
       "    }\n",
       "\n",
       "    .dataframe tbody tr th {\n",
       "        vertical-align: top;\n",
       "    }\n",
       "\n",
       "    .dataframe thead th {\n",
       "        text-align: right;\n",
       "    }\n",
       "</style>\n",
       "<table border=\"1\" class=\"dataframe\">\n",
       "  <thead>\n",
       "    <tr style=\"text-align: right;\">\n",
       "      <th></th>\n",
       "      <th>시간대구분</th>\n",
       "      <th>행정동코드</th>\n",
       "      <th>총생활인구수</th>\n",
       "      <th>중국인체류인구수</th>\n",
       "      <th>중국외외국인체류인구수</th>\n",
       "    </tr>\n",
       "  </thead>\n",
       "  <tbody>\n",
       "    <tr>\n",
       "      <th>0</th>\n",
       "      <td>00</td>\n",
       "      <td>11200580</td>\n",
       "      <td>14.807600000000001</td>\n",
       "      <td>0</td>\n",
       "      <td>14.807499999999999</td>\n",
       "    </tr>\n",
       "    <tr>\n",
       "      <th>1</th>\n",
       "      <td>00</td>\n",
       "      <td>11200590</td>\n",
       "      <td>26.540400000000002</td>\n",
       "      <td>1</td>\n",
       "      <td>25.138999999999999</td>\n",
       "    </tr>\n",
       "    <tr>\n",
       "      <th>2</th>\n",
       "      <td>00</td>\n",
       "      <td>11200615</td>\n",
       "      <td>85.986199999999997</td>\n",
       "      <td>15</td>\n",
       "      <td>70.933400000000006</td>\n",
       "    </tr>\n",
       "    <tr>\n",
       "      <th>3</th>\n",
       "      <td>00</td>\n",
       "      <td>11200620</td>\n",
       "      <td>28.7333</td>\n",
       "      <td>5</td>\n",
       "      <td>23.591000000000001</td>\n",
       "    </tr>\n",
       "    <tr>\n",
       "      <th>4</th>\n",
       "      <td>00</td>\n",
       "      <td>11200645</td>\n",
       "      <td>89.128200000000007</td>\n",
       "      <td>0</td>\n",
       "      <td>89.128200000000007</td>\n",
       "    </tr>\n",
       "    <tr>\n",
       "      <th>...</th>\n",
       "      <td>...</td>\n",
       "      <td>...</td>\n",
       "      <td>...</td>\n",
       "      <td>...</td>\n",
       "      <td>...</td>\n",
       "    </tr>\n",
       "    <tr>\n",
       "      <th>925789</th>\n",
       "      <td>23</td>\n",
       "      <td>11740620</td>\n",
       "      <td>37.729900000000001</td>\n",
       "      <td>13</td>\n",
       "      <td>24.4163</td>\n",
       "    </tr>\n",
       "    <tr>\n",
       "      <th>925790</th>\n",
       "      <td>23</td>\n",
       "      <td>11740640</td>\n",
       "      <td>34.493299999999998</td>\n",
       "      <td>14</td>\n",
       "      <td>20.238499999999998</td>\n",
       "    </tr>\n",
       "    <tr>\n",
       "      <th>925791</th>\n",
       "      <td>23</td>\n",
       "      <td>11740650</td>\n",
       "      <td>63.077599999999997</td>\n",
       "      <td>30</td>\n",
       "      <td>32.835099999999997</td>\n",
       "    </tr>\n",
       "    <tr>\n",
       "      <th>925792</th>\n",
       "      <td>23</td>\n",
       "      <td>11740660</td>\n",
       "      <td>103.13330000000001</td>\n",
       "      <td>25</td>\n",
       "      <td>77.524299999999997</td>\n",
       "    </tr>\n",
       "    <tr>\n",
       "      <th>925793</th>\n",
       "      <td>23</td>\n",
       "      <td>11740685</td>\n",
       "      <td>239.69220000000001</td>\n",
       "      <td>93</td>\n",
       "      <td>145.77279999999999</td>\n",
       "    </tr>\n",
       "  </tbody>\n",
       "</table>\n",
       "<p>925794 rows × 5 columns</p>\n",
       "</div>"
      ],
      "text/plain": [
       "       시간대구분     행정동코드              총생활인구수 중국인체류인구수         중국외외국인체류인구수\n",
       "0         00  11200580  14.807600000000001        0  14.807499999999999\n",
       "1         00  11200590  26.540400000000002        1  25.138999999999999\n",
       "2         00  11200615  85.986199999999997       15  70.933400000000006\n",
       "3         00  11200620             28.7333        5  23.591000000000001\n",
       "4         00  11200645  89.128200000000007        0  89.128200000000007\n",
       "...      ...       ...                 ...      ...                 ...\n",
       "925789    23  11740620  37.729900000000001       13             24.4163\n",
       "925790    23  11740640  34.493299999999998       14  20.238499999999998\n",
       "925791    23  11740650  63.077599999999997       30  32.835099999999997\n",
       "925792    23  11740660  103.13330000000001       25  77.524299999999997\n",
       "925793    23  11740685  239.69220000000001       93  145.77279999999999\n",
       "\n",
       "[925794 rows x 5 columns]"
      ]
     },
     "execution_count": 304,
     "metadata": {},
     "output_type": "execute_result"
    }
   ],
   "source": [
    "local_1.info()\n",
    "local_1"
   ]
  },
  {
   "cell_type": "code",
   "execution_count": 305,
   "metadata": {},
   "outputs": [
    {
     "name": "stdout",
     "output_type": "stream",
     "text": [
      "<class 'pandas.core.frame.DataFrame'>\n",
      "RangeIndex: 925794 entries, 0 to 925793\n",
      "Data columns (total 5 columns):\n",
      " #   Column       Non-Null Count   Dtype  \n",
      "---  ------       --------------   -----  \n",
      " 0   시간대구분        925794 non-null  float64\n",
      " 1   행정동코드        925794 non-null  float64\n",
      " 2   총생활인구수       925794 non-null  float64\n",
      " 3   중국인체류인구수     925794 non-null  float64\n",
      " 4   중국외외국인체류인구수  925794 non-null  float64\n",
      "dtypes: float64(5)\n",
      "memory usage: 35.3 MB\n"
     ]
    }
   ],
   "source": [
    "local_2 = local_1.map(lambda v: float(str(v).replace(\",\",\"\")))\n",
    "local_2.info()"
   ]
  },
  {
   "cell_type": "code",
   "execution_count": 306,
   "metadata": {},
   "outputs": [
    {
     "data": {
      "text/plain": [
       "424"
      ]
     },
     "execution_count": 306,
     "metadata": {},
     "output_type": "execute_result"
    }
   ],
   "source": [
    "local_2['행정동코드'].nunique()"
   ]
  },
  {
   "cell_type": "code",
   "execution_count": 307,
   "metadata": {},
   "outputs": [
    {
     "name": "stdout",
     "output_type": "stream",
     "text": [
      "       시간대구분       행정동코드    총생활인구수  중국인체류인구수  중국외외국인체류인구수\n",
      "0        0.0  11200580.0   14.8076       0.0      14.8075\n",
      "1        0.0  11200590.0   26.5404       1.0      25.1390\n",
      "2        0.0  11200615.0   85.9862      15.0      70.9334\n",
      "3        0.0  11200620.0   28.7333       5.0      23.5910\n",
      "4        0.0  11200645.0   89.1282       0.0      89.1282\n",
      "...      ...         ...       ...       ...          ...\n",
      "925789  23.0  11740620.0   37.7299      13.0      24.4163\n",
      "925790  23.0  11740640.0   34.4933      14.0      20.2385\n",
      "925791  23.0  11740650.0   63.0776      30.0      32.8351\n",
      "925792  23.0  11740660.0  103.1333      25.0      77.5243\n",
      "925793  23.0  11740685.0  239.6922      93.0     145.7728\n",
      "\n",
      "[925794 rows x 5 columns]\n"
     ]
    }
   ],
   "source": [
    "local_3 = local_2.astype({\"시간대구분\":\"str\", \"행정동코드\":\"str\"})\n",
    "print(local_3)"
   ]
  },
  {
   "cell_type": "code",
   "execution_count": 308,
   "metadata": {},
   "outputs": [],
   "source": [
    "local_4 = local_3.groupby(['시간대구분','행정동코드']).mean().reset_index()"
   ]
  },
  {
   "cell_type": "code",
   "execution_count": 309,
   "metadata": {},
   "outputs": [
    {
     "name": "stdout",
     "output_type": "stream",
     "text": [
      "['0.0' '1.0' '10.0' '11.0' '12.0' '13.0' '14.0' '15.0' '16.0' '17.0'\n",
      " '18.0' '19.0' '2.0' '20.0' '21.0' '22.0' '23.0' '3.0' '4.0' '5.0' '6.0'\n",
      " '7.0' '8.0' '9.0']\n",
      "       시간대구분       행정동코드       총생활인구수     중국인체류인구수  중국외외국인체류인구수\n",
      "0          0  11110515.0   406.099910   137.472527   268.124196\n",
      "1          0  11560550.0   182.113740    84.450549    97.202341\n",
      "2          0  11560540.0  3324.854177  1606.032967  1718.314188\n",
      "3          0  11560535.0  1442.935988   718.032967   724.369508\n",
      "4          0  11560515.0   381.158709   229.780220   150.874684\n",
      "...      ...         ...          ...          ...          ...\n",
      "10171     23  11305590.0    77.006614    32.912088    43.563388\n",
      "10172     23  11305575.0    21.781452     4.252747    17.175666\n",
      "10173     23  11305555.0    39.889714    16.582418    22.760738\n",
      "10174     23  11350560.0    50.197788    12.296703    37.486653\n",
      "10175     23  11740700.0    48.611337     7.648352    40.698990\n",
      "\n",
      "[10176 rows x 5 columns]\n"
     ]
    }
   ],
   "source": [
    "# 1. 값 확인\n",
    "print(local_4['시간대구분'].unique())  # 데이터 확인\n",
    "\n",
    "# 2. 데이터 변환 (float으로 먼저 변환한 뒤 int로 변환)\n",
    "local_4['시간대구분'] = local_4['시간대구분'].astype(float).astype(int)\n",
    "\n",
    "# 3. 정렬\n",
    "sorted_df = local_4.sort_values(by='시간대구분').reset_index(drop=True)\n",
    "\n",
    "print(sorted_df)\n"
   ]
  },
  {
   "cell_type": "code",
   "execution_count": null,
   "metadata": {},
   "outputs": [],
   "source": [
    "sorted_df.to_csv('living_temp_end/temp_20231.csv', index=False)"
   ]
  }
 ],
 "metadata": {
  "kernelspec": {
   "display_name": "human-da-env2",
   "language": "python",
   "name": "python3"
  },
  "language_info": {
   "codemirror_mode": {
    "name": "ipython",
    "version": 3
   },
   "file_extension": ".py",
   "mimetype": "text/x-python",
   "name": "python",
   "nbconvert_exporter": "python",
   "pygments_lexer": "ipython3",
   "version": "3.12.7"
  }
 },
 "nbformat": 4,
 "nbformat_minor": 2
}
