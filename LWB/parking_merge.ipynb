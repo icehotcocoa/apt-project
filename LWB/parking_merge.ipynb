{
 "cells": [
  {
   "cell_type": "code",
   "execution_count": 43,
   "metadata": {},
   "outputs": [],
   "source": [
    "import pandas as pd"
   ]
  },
  {
   "cell_type": "code",
   "execution_count": 44,
   "metadata": {},
   "outputs": [],
   "source": [
    "area = pd.read_csv('parking_area.csv')\n",
    "count = pd.read_csv('parking_count.csv')"
   ]
  },
  {
   "cell_type": "code",
   "execution_count": 45,
   "metadata": {},
   "outputs": [
    {
     "data": {
      "text/html": [
       "<div>\n",
       "<style scoped>\n",
       "    .dataframe tbody tr th:only-of-type {\n",
       "        vertical-align: middle;\n",
       "    }\n",
       "\n",
       "    .dataframe tbody tr th {\n",
       "        vertical-align: top;\n",
       "    }\n",
       "\n",
       "    .dataframe thead th {\n",
       "        text-align: right;\n",
       "    }\n",
       "</style>\n",
       "<table border=\"1\" class=\"dataframe\">\n",
       "  <thead>\n",
       "    <tr style=\"text-align: right;\">\n",
       "      <th></th>\n",
       "      <th>동별</th>\n",
       "      <th>항목</th>\n",
       "      <th>단위</th>\n",
       "      <th>2019 년</th>\n",
       "      <th>2020 년</th>\n",
       "      <th>2021 년</th>\n",
       "      <th>2022 년</th>\n",
       "      <th>2023 년</th>\n",
       "    </tr>\n",
       "  </thead>\n",
       "  <tbody>\n",
       "    <tr>\n",
       "      <th>0</th>\n",
       "      <td>사직동</td>\n",
       "      <td>면수</td>\n",
       "      <td>면</td>\n",
       "      <td>14217.0</td>\n",
       "      <td>14146.0</td>\n",
       "      <td>14232.0</td>\n",
       "      <td>12605.0</td>\n",
       "      <td>12567.0</td>\n",
       "    </tr>\n",
       "    <tr>\n",
       "      <th>1</th>\n",
       "      <td>삼청동</td>\n",
       "      <td>면수</td>\n",
       "      <td>면</td>\n",
       "      <td>1853.0</td>\n",
       "      <td>1867.0</td>\n",
       "      <td>1840.0</td>\n",
       "      <td>2237.0</td>\n",
       "      <td>2267.0</td>\n",
       "    </tr>\n",
       "    <tr>\n",
       "      <th>2</th>\n",
       "      <td>부암동</td>\n",
       "      <td>면수</td>\n",
       "      <td>면</td>\n",
       "      <td>3474.0</td>\n",
       "      <td>3485.0</td>\n",
       "      <td>3494.0</td>\n",
       "      <td>3533.0</td>\n",
       "      <td>3549.0</td>\n",
       "    </tr>\n",
       "    <tr>\n",
       "      <th>3</th>\n",
       "      <td>평창동</td>\n",
       "      <td>면수</td>\n",
       "      <td>면</td>\n",
       "      <td>9620.0</td>\n",
       "      <td>9614.0</td>\n",
       "      <td>9505.0</td>\n",
       "      <td>9390.0</td>\n",
       "      <td>9369.0</td>\n",
       "    </tr>\n",
       "    <tr>\n",
       "      <th>4</th>\n",
       "      <td>무악동</td>\n",
       "      <td>면수</td>\n",
       "      <td>면</td>\n",
       "      <td>3249.0</td>\n",
       "      <td>3249.0</td>\n",
       "      <td>3249.0</td>\n",
       "      <td>3185.0</td>\n",
       "      <td>3187.0</td>\n",
       "    </tr>\n",
       "  </tbody>\n",
       "</table>\n",
       "</div>"
      ],
      "text/plain": [
       "    동별  항목 단위   2019 년   2020 년   2021 년   2022 년   2023 년\n",
       "0  사직동  면수  면  14217.0  14146.0  14232.0  12605.0  12567.0\n",
       "1  삼청동  면수  면   1853.0   1867.0   1840.0   2237.0   2267.0\n",
       "2  부암동  면수  면   3474.0   3485.0   3494.0   3533.0   3549.0\n",
       "3  평창동  면수  면   9620.0   9614.0   9505.0   9390.0   9369.0\n",
       "4  무악동  면수  면   3249.0   3249.0   3249.0   3185.0   3187.0"
      ]
     },
     "execution_count": 45,
     "metadata": {},
     "output_type": "execute_result"
    }
   ],
   "source": [
    "area.head()"
   ]
  },
  {
   "cell_type": "code",
   "execution_count": 46,
   "metadata": {},
   "outputs": [
    {
     "name": "stdout",
     "output_type": "stream",
     "text": [
      "    동별   2019 년   2020 년   2021 년   2022 년   2023 년\n",
      "0  사직동  14217.0  14146.0  14232.0  12605.0  12567.0\n",
      "1  삼청동   1853.0   1867.0   1840.0   2237.0   2267.0\n",
      "2  부암동   3474.0   3485.0   3494.0   3533.0   3549.0\n",
      "3  평창동   9620.0   9614.0   9505.0   9390.0   9369.0\n",
      "4  무악동   3249.0   3249.0   3249.0   3185.0   3187.0\n",
      "    동별  2019 년  2020 년  2021 년  2022 년  2023 년\n",
      "0  사직동   360.0   357.0   358.0   362.0   362.0\n",
      "1  삼청동   169.0   172.0   170.0   343.0   345.0\n",
      "2  부암동   596.0   597.0   606.0   596.0   596.0\n",
      "3  평창동  1600.0  1602.0  1624.0  1617.0  1618.0\n",
      "4  무악동    45.0    45.0    45.0    69.0    70.0\n"
     ]
    }
   ],
   "source": [
    "area.drop(['항목', '단위'], axis=1, inplace=True)\n",
    "count.drop(['항목', '단위'], axis=1, inplace=True)\n",
    "print(area.head())\n",
    "print(count.head())"
   ]
  },
  {
   "cell_type": "code",
   "execution_count": 47,
   "metadata": {},
   "outputs": [],
   "source": [
    "new_columns ={\n",
    "    '2019 년' : ['20191', '20192', '20193', '20194'],\n",
    "    '2020 년' : ['20201', '20202', '20203', '20204'],\n",
    "    '2021 년' : ['20211', '20212', '20213', '20214'],\n",
    "    '2022 년' : ['20221', '20222', '20223', '20224'],\n",
    "    '2023 년' : ['20231', '20232', '20233', '20234', '20241', '20242'],\n",
    "}\n",
    "\n",
    "for year, columns in new_columns.items():\n",
    "    for col in columns:\n",
    "        area[col] = area[f'{year}']\n",
    "        count[col] = count[f'{year}']"
   ]
  },
  {
   "cell_type": "code",
   "execution_count": 48,
   "metadata": {},
   "outputs": [],
   "source": [
    "area.drop(['2019 년', '2020 년', '2021 년', '2022 년', '2023 년'], axis=1, inplace=True)\n",
    "count.drop(['2019 년', '2020 년', '2021 년', '2022 년', '2023 년'], axis=1, inplace=True)"
   ]
  },
  {
   "cell_type": "code",
   "execution_count": 49,
   "metadata": {},
   "outputs": [
    {
     "name": "stdout",
     "output_type": "stream",
     "text": [
      "   행정동    년분기  주차장면적(면)\n",
      "0  사직동  20191   14217.0\n",
      "1  삼청동  20191    1853.0\n",
      "2  부암동  20191    3474.0\n",
      "3  평창동  20191    9620.0\n",
      "4  무악동  20191    3249.0\n",
      "   행정동    년분기  주차장개수(개소)\n",
      "0  사직동  20191      360.0\n",
      "1  삼청동  20191      169.0\n",
      "2  부암동  20191      596.0\n",
      "3  평창동  20191     1600.0\n",
      "4  무악동  20191       45.0\n"
     ]
    }
   ],
   "source": [
    "area1 = area.melt(id_vars=['동별'])\n",
    "area1.rename(columns={'동별':'행정동', 'variable':'년분기', 'value':'주차장면적(면)'}, inplace=True)\n",
    "print(area1.head())\n",
    "count1 = count.melt(id_vars=['동별'])\n",
    "count1.rename(columns={'동별':'행정동', 'variable':'년분기', 'value':'주차장개수(개소)'}, inplace=True)\n",
    "print(count1.head())\n"
   ]
  },
  {
   "cell_type": "code",
   "execution_count": 50,
   "metadata": {},
   "outputs": [
    {
     "data": {
      "text/html": [
       "<div>\n",
       "<style scoped>\n",
       "    .dataframe tbody tr th:only-of-type {\n",
       "        vertical-align: middle;\n",
       "    }\n",
       "\n",
       "    .dataframe tbody tr th {\n",
       "        vertical-align: top;\n",
       "    }\n",
       "\n",
       "    .dataframe thead th {\n",
       "        text-align: right;\n",
       "    }\n",
       "</style>\n",
       "<table border=\"1\" class=\"dataframe\">\n",
       "  <thead>\n",
       "    <tr style=\"text-align: right;\">\n",
       "      <th></th>\n",
       "      <th>행정동</th>\n",
       "      <th>년분기</th>\n",
       "      <th>주차장면적(면)</th>\n",
       "      <th>주차장개수(개소)</th>\n",
       "    </tr>\n",
       "  </thead>\n",
       "  <tbody>\n",
       "    <tr>\n",
       "      <th>0</th>\n",
       "      <td>가락1동</td>\n",
       "      <td>20191</td>\n",
       "      <td>20942.0</td>\n",
       "      <td>83.0</td>\n",
       "    </tr>\n",
       "    <tr>\n",
       "      <th>1</th>\n",
       "      <td>가락1동</td>\n",
       "      <td>20192</td>\n",
       "      <td>20942.0</td>\n",
       "      <td>83.0</td>\n",
       "    </tr>\n",
       "    <tr>\n",
       "      <th>2</th>\n",
       "      <td>가락1동</td>\n",
       "      <td>20193</td>\n",
       "      <td>20942.0</td>\n",
       "      <td>83.0</td>\n",
       "    </tr>\n",
       "    <tr>\n",
       "      <th>3</th>\n",
       "      <td>가락1동</td>\n",
       "      <td>20194</td>\n",
       "      <td>20942.0</td>\n",
       "      <td>83.0</td>\n",
       "    </tr>\n",
       "    <tr>\n",
       "      <th>4</th>\n",
       "      <td>가락1동</td>\n",
       "      <td>20201</td>\n",
       "      <td>20268.0</td>\n",
       "      <td>57.0</td>\n",
       "    </tr>\n",
       "    <tr>\n",
       "      <th>...</th>\n",
       "      <td>...</td>\n",
       "      <td>...</td>\n",
       "      <td>...</td>\n",
       "      <td>...</td>\n",
       "    </tr>\n",
       "    <tr>\n",
       "      <th>9521</th>\n",
       "      <td>흑석동</td>\n",
       "      <td>20232</td>\n",
       "      <td>16937.0</td>\n",
       "      <td>298.0</td>\n",
       "    </tr>\n",
       "    <tr>\n",
       "      <th>9522</th>\n",
       "      <td>흑석동</td>\n",
       "      <td>20233</td>\n",
       "      <td>16937.0</td>\n",
       "      <td>298.0</td>\n",
       "    </tr>\n",
       "    <tr>\n",
       "      <th>9523</th>\n",
       "      <td>흑석동</td>\n",
       "      <td>20234</td>\n",
       "      <td>16937.0</td>\n",
       "      <td>298.0</td>\n",
       "    </tr>\n",
       "    <tr>\n",
       "      <th>9524</th>\n",
       "      <td>흑석동</td>\n",
       "      <td>20241</td>\n",
       "      <td>16937.0</td>\n",
       "      <td>298.0</td>\n",
       "    </tr>\n",
       "    <tr>\n",
       "      <th>9525</th>\n",
       "      <td>흑석동</td>\n",
       "      <td>20242</td>\n",
       "      <td>16937.0</td>\n",
       "      <td>298.0</td>\n",
       "    </tr>\n",
       "  </tbody>\n",
       "</table>\n",
       "<p>9526 rows × 4 columns</p>\n",
       "</div>"
      ],
      "text/plain": [
       "       행정동    년분기  주차장면적(면)  주차장개수(개소)\n",
       "0     가락1동  20191   20942.0       83.0\n",
       "1     가락1동  20192   20942.0       83.0\n",
       "2     가락1동  20193   20942.0       83.0\n",
       "3     가락1동  20194   20942.0       83.0\n",
       "4     가락1동  20201   20268.0       57.0\n",
       "...    ...    ...       ...        ...\n",
       "9521   흑석동  20232   16937.0      298.0\n",
       "9522   흑석동  20233   16937.0      298.0\n",
       "9523   흑석동  20234   16937.0      298.0\n",
       "9524   흑석동  20241   16937.0      298.0\n",
       "9525   흑석동  20242   16937.0      298.0\n",
       "\n",
       "[9526 rows x 4 columns]"
      ]
     },
     "execution_count": 50,
     "metadata": {},
     "output_type": "execute_result"
    }
   ],
   "source": [
    "parking_end = pd.merge(area1, count1, on=['행정동','년분기'], how='outer')\n",
    "parking_end"
   ]
  },
  {
   "cell_type": "code",
   "execution_count": 51,
   "metadata": {},
   "outputs": [],
   "source": [
    "parking_end.to_csv('parking_end.csv', index=False)"
   ]
  }
 ],
 "metadata": {
  "kernelspec": {
   "display_name": "human-da-env",
   "language": "python",
   "name": "python3"
  },
  "language_info": {
   "codemirror_mode": {
    "name": "ipython",
    "version": 3
   },
   "file_extension": ".py",
   "mimetype": "text/x-python",
   "name": "python",
   "nbconvert_exporter": "python",
   "pygments_lexer": "ipython3",
   "version": "3.12.7"
  }
 },
 "nbformat": 4,
 "nbformat_minor": 2
}
