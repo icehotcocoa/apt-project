{
 "cells": [
  {
   "cell_type": "code",
   "execution_count": 1,
   "metadata": {},
   "outputs": [],
   "source": [
    "import pandas as pd\n",
    "import glob"
   ]
  },
  {
   "cell_type": "code",
   "execution_count": 2,
   "metadata": {},
   "outputs": [],
   "source": [
    "# 데이터 파일 경로 패턴 (예: CSV 파일)\n",
    "file_pattern = \"dong_school/*.csv\""
   ]
  },
  {
   "cell_type": "code",
   "execution_count": 3,
   "metadata": {},
   "outputs": [],
   "source": [
    "# 모든 파일 읽기\n",
    "file_list = glob.glob(file_pattern)\n",
    "\n",
    "# 첫 번째 파일 읽기\n",
    "merged_df = pd.read_csv(file_list[0])"
   ]
  },
  {
   "cell_type": "code",
   "execution_count": 4,
   "metadata": {},
   "outputs": [],
   "source": [
    "# 나머지 파일과 반복적으로 합치기\n",
    "for file in file_list[1:]:\n",
    "    current_df = pd.read_csv(file)\n",
    "    # outer join으로 병합\n",
    "    merged_df = pd.merge(merged_df, current_df, on=\"adm_nm\", how=\"outer\")"
   ]
  },
  {
   "cell_type": "code",
   "execution_count": 5,
   "metadata": {},
   "outputs": [
    {
     "name": "stdout",
     "output_type": "stream",
     "text": [
      "             adm_nm  school_count_191  student_count_191  school_count_232  \\\n",
      "0    서울특별시 강남구 개포1동               1.0              593.0                 3   \n",
      "1    서울특별시 강남구 개포2동               6.0             3566.0                 8   \n",
      "2    서울특별시 강남구 개포4동               4.0             1721.0                 4   \n",
      "3    서울특별시 강남구 논현1동               1.0              339.0                 1   \n",
      "4    서울특별시 강남구 논현2동               2.0              788.0                 2   \n",
      "..              ...               ...                ...               ...   \n",
      "385   서울특별시 중랑구 묵2동               2.0             1076.0                 2   \n",
      "386  서울특별시 중랑구 상봉1동               3.0             2006.0                 4   \n",
      "387  서울특별시 중랑구 신내1동               1.0              956.0                 2   \n",
      "388  서울특별시 중랑구 신내2동               3.0             1760.0                 3   \n",
      "389  서울특별시 중랑구 중화1동               6.0             2878.0                 6   \n",
      "\n",
      "     student_count_232  school_count_192  student_count_192  school_count_201  \\\n",
      "0                795.0               1.0              620.0               3.0   \n",
      "1               6881.0               6.0             3689.0               7.0   \n",
      "2               1950.0               4.0             1732.0               4.0   \n",
      "3                235.0               1.0              326.0               1.0   \n",
      "4                776.0               2.0              797.0               2.0   \n",
      "..                 ...               ...                ...               ...   \n",
      "385              827.0               2.0             1057.0               2.0   \n",
      "386             3120.0               3.0             1989.0               4.0   \n",
      "387             1516.0               1.0              936.0               2.0   \n",
      "388             1566.0               3.0             1734.0               3.0   \n",
      "389             2467.0               6.0             2857.0               6.0   \n",
      "\n",
      "     student_count_201  school_count_202  ...  school_count_211  \\\n",
      "0                778.0               1.0  ...                 3   \n",
      "1               3821.0               6.0  ...                 8   \n",
      "2               1694.0               4.0  ...                 4   \n",
      "3                309.0               1.0  ...                 1   \n",
      "4                775.0               2.0  ...                 2   \n",
      "..                 ...               ...  ...               ...   \n",
      "385              987.0               2.0  ...                 2   \n",
      "386             3353.0               3.0  ...                 4   \n",
      "387             2008.0               1.0  ...                 2   \n",
      "388             1664.0               3.0  ...                 3   \n",
      "389             2788.0               6.0  ...                 6   \n",
      "\n",
      "     student_count_211  school_count_212  student_count_212  school_count_221  \\\n",
      "0                848.0               1.0              852.0                 3   \n",
      "1               5127.0               5.0             3496.0                 8   \n",
      "2               2022.0               4.0             2014.0                 4   \n",
      "3                290.0               1.0              277.0                 1   \n",
      "4                815.0               2.0              810.0                 2   \n",
      "..                 ...               ...                ...               ...   \n",
      "385              931.0               2.0              916.0                 2   \n",
      "386             3276.0               3.0             1957.0                 4   \n",
      "387             1816.0               1.0              784.0                 2   \n",
      "388             1643.0               3.0             1627.0                 3   \n",
      "389             2671.0               6.0             2657.0                 6   \n",
      "\n",
      "     student_count_221  school_count_222  student_count_222  school_count_231  \\\n",
      "0                  824               1.0              813.0                 3   \n",
      "1                 5853               4.0             2592.0                 8   \n",
      "2                 1995               4.0             1995.0                 4   \n",
      "3                  266               1.0              259.0                 1   \n",
      "4                  816               2.0              814.0                 2   \n",
      "..                 ...               ...                ...               ...   \n",
      "385                899               2.0              879.0                 2   \n",
      "386               3229               3.0             2005.0                 4   \n",
      "387               1645               2.0             1610.0                 2   \n",
      "388               1635               3.0             1604.0                 3   \n",
      "389               2568               6.0             2538.0                 6   \n",
      "\n",
      "     student_count_231  \n",
      "0                784.0  \n",
      "1               6620.0  \n",
      "2               1970.0  \n",
      "3                248.0  \n",
      "4                798.0  \n",
      "..                 ...  \n",
      "385              843.0  \n",
      "386             3146.0  \n",
      "387             1546.0  \n",
      "388             1595.0  \n",
      "389             2505.0  \n",
      "\n",
      "[390 rows x 21 columns]\n"
     ]
    }
   ],
   "source": [
    "# 결과 확인\n",
    "print(merged_df)"
   ]
  },
  {
   "cell_type": "code",
   "execution_count": 6,
   "metadata": {},
   "outputs": [],
   "source": [
    "# 병합된 파일 저장\n",
    "merged_df.to_csv(\"school_merged.csv\", index=False)"
   ]
  }
 ],
 "metadata": {
  "kernelspec": {
   "display_name": "human-da-env",
   "language": "python",
   "name": "python3"
  },
  "language_info": {
   "codemirror_mode": {
    "name": "ipython",
    "version": 3
   },
   "file_extension": ".py",
   "mimetype": "text/x-python",
   "name": "python",
   "nbconvert_exporter": "python",
   "pygments_lexer": "ipython3",
   "version": "3.12.7"
  }
 },
 "nbformat": 4,
 "nbformat_minor": 2
}
