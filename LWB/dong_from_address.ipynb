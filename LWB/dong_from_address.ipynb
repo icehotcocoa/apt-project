{
 "cells": [
  {
   "cell_type": "code",
   "execution_count": 199,
   "metadata": {},
   "outputs": [],
   "source": [
    "import pandas as pd\n",
    "import numpy as np\n",
    "import matplotlib.pyplot as plt\n",
    "import seaborn as sns\n",
    "\n",
    "import geopandas as gpd\n",
    "from shapely.geometry import Point"
   ]
  },
  {
   "cell_type": "code",
   "execution_count": 200,
   "metadata": {},
   "outputs": [],
   "source": [
    "# 맷플롯립 한글 사용 가능\n",
    "import matplotlib.pyplot as plt\n",
    "plt.rcParams['font.family'] ='Malgun Gothic'\n",
    "plt.rcParams['axes.unicode_minus'] =False"
   ]
  },
  {
   "cell_type": "code",
   "execution_count": 201,
   "metadata": {},
   "outputs": [],
   "source": [
    "# 데이터 불러오기\n",
    "dong_gdf = gpd.read_file('BND_ADM_DONG_PG_dong/seoul_dong_2018.shp', encoding=\"UTF-8\")\n",
    "gu_gdf = gpd.read_file('LARD_ADM_SECT_SGG_서울/LARD_ADM_SECT_SGG_11_202405.shp', encoding=\"CP949\")\n",
    "school = pd.read_csv('school_2023_secondhalf.csv')\n",
    "\n",
    "year = 232\n",
    "student_column = f'counts_{year}'\n",
    "output_student_column = f'student_count_{year}'\n",
    "output_school_column = f'school_count_{year}'"
   ]
  },
  {
   "cell_type": "code",
   "execution_count": 202,
   "metadata": {},
   "outputs": [],
   "source": [
    "# 학생 수 컬럼을 int로 변환 (변환 실패 시 NaN으로 처리)\n",
    "school[student_column] = pd.to_numeric(school[student_column], errors='coerce')\n",
    "# NaN 값 제거\n",
    "school = school.dropna(subset=[student_column])"
   ]
  },
  {
   "cell_type": "code",
   "execution_count": 203,
   "metadata": {},
   "outputs": [],
   "source": [
    "# school.info()"
   ]
  },
  {
   "cell_type": "code",
   "execution_count": 204,
   "metadata": {},
   "outputs": [],
   "source": [
    "# 학교 데이터를 GeoDataFrame으로 변환\n",
    "school['geometry'] = school.apply(lambda x: Point(x['longitude'], x['latitude']), axis=1)\n",
    "school_gdf = gpd.GeoDataFrame(school, geometry='geometry', crs=\"EPSG:4326\")"
   ]
  },
  {
   "cell_type": "code",
   "execution_count": 205,
   "metadata": {},
   "outputs": [],
   "source": [
    "# 좌표계 통일 (EPSG:5181 - Korea Central Belt 2010)\n",
    "dong_gdf = dong_gdf.to_crs(\"EPSG:5181\")\n",
    "gu_gdf = gu_gdf.to_crs(\"EPSG:5181\")\n",
    "school_gdf = school_gdf.to_crs(\"EPSG:5181\")"
   ]
  },
  {
   "cell_type": "code",
   "execution_count": 206,
   "metadata": {},
   "outputs": [],
   "source": [
    "# 행정동과 학교 데이터 Spatial Join (학교가 속한 행정동 찾기)\n",
    "joined_dong = gpd.sjoin(school_gdf, dong_gdf, how=\"inner\", predicate=\"within\")"
   ]
  },
  {
   "cell_type": "code",
   "execution_count": 207,
   "metadata": {},
   "outputs": [],
   "source": [
    "# 행정동별로 학교 수 계산\n",
    "school_counts = joined_dong.groupby('adm_nm').size().reset_index(name=output_school_column)\n",
    "# 행정동별로 학생 수 총합 계산\n",
    "student_counts = (joined_dong.groupby('adm_nm')[student_column]\n",
    "                  .sum()\n",
    "                  .reset_index(name=output_student_column)\n",
    ")"
   ]
  },
  {
   "cell_type": "code",
   "execution_count": 208,
   "metadata": {},
   "outputs": [],
   "source": [
    "# 병합: 행정동별 학교 수와 학생 수 결합\n",
    "dong_school_data = pd.merge(school_counts, student_counts, on='adm_nm', how='inner')"
   ]
  },
  {
   "cell_type": "code",
   "execution_count": 209,
   "metadata": {},
   "outputs": [
    {
     "name": "stdout",
     "output_type": "stream",
     "text": [
      "총 동 개수: 390\n",
      "             adm_nm  school_count_232  student_count_232\n",
      "0    서울특별시 강남구 개포1동                 3              795.0\n",
      "1    서울특별시 강남구 개포2동                 8             6881.0\n",
      "2    서울특별시 강남구 개포4동                 4             1950.0\n",
      "3    서울특별시 강남구 논현1동                 1              235.0\n",
      "4    서울특별시 강남구 논현2동                 2              776.0\n",
      "..              ...               ...                ...\n",
      "385   서울특별시 중랑구 묵2동                 2              827.0\n",
      "386  서울특별시 중랑구 상봉1동                 4             3120.0\n",
      "387  서울특별시 중랑구 신내1동                 2             1516.0\n",
      "388  서울특별시 중랑구 신내2동                 3             1566.0\n",
      "389  서울특별시 중랑구 중화1동                 6             2467.0\n",
      "\n",
      "[390 rows x 3 columns]\n"
     ]
    }
   ],
   "source": [
    "# 동 데이터 확인\n",
    "print(\"총 동 개수:\", len(dong_school_data))\n",
    "print(dong_school_data)"
   ]
  },
  {
   "cell_type": "code",
   "execution_count": 210,
   "metadata": {},
   "outputs": [
    {
     "name": "stdout",
     "output_type": "stream",
     "text": [
      "CSV 저장 완료: dong_school_232.csv\n"
     ]
    }
   ],
   "source": [
    "# CSV 저장\n",
    "output_file = f'dong_school_{year}.csv'\n",
    "dong_school_data.to_csv(output_file, index=False, columns=['adm_nm', output_school_column, output_student_column])\n",
    "\n",
    "print(f\"CSV 저장 완료: {output_file}\")"
   ]
  }
 ],
 "metadata": {
  "kernelspec": {
   "display_name": "human-da-env",
   "language": "python",
   "name": "python3"
  },
  "language_info": {
   "codemirror_mode": {
    "name": "ipython",
    "version": 3
   },
   "file_extension": ".py",
   "mimetype": "text/x-python",
   "name": "python",
   "nbconvert_exporter": "python",
   "pygments_lexer": "ipython3",
   "version": "3.12.7"
  }
 },
 "nbformat": 4,
 "nbformat_minor": 2
}
