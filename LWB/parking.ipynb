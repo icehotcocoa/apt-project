{
 "cells": [
  {
   "cell_type": "code",
   "execution_count": 37,
   "metadata": {},
   "outputs": [],
   "source": [
    "import numpy as np\n",
    "import pandas as pd"
   ]
  },
  {
   "cell_type": "code",
   "execution_count": 38,
   "metadata": {},
   "outputs": [
    {
     "name": "stderr",
     "output_type": "stream",
     "text": [
      "<>:1: SyntaxWarning: invalid escape sequence '\\P'\n",
      "<>:1: SyntaxWarning: invalid escape sequence '\\P'\n",
      "C:\\Users\\human\\AppData\\Local\\Temp\\ipykernel_3804\\1466540252.py:1: SyntaxWarning: invalid escape sequence '\\P'\n",
      "  parking = pd.read_csv('D:\\Project 2\\parking.csv')\n"
     ]
    }
   ],
   "source": [
    "parking = pd.read_csv('D:\\Project 2\\parking.csv')"
   ]
  },
  {
   "cell_type": "code",
   "execution_count": 39,
   "metadata": {},
   "outputs": [],
   "source": [
    "parking.drop(columns=['구분별'], inplace=True)"
   ]
  },
  {
   "cell_type": "code",
   "execution_count": 40,
   "metadata": {},
   "outputs": [],
   "source": [
    "parking_1 = parking.fillna(0)"
   ]
  },
  {
   "cell_type": "code",
   "execution_count": 41,
   "metadata": {},
   "outputs": [
    {
     "name": "stdout",
     "output_type": "stream",
     "text": [
      "<class 'pandas.core.frame.DataFrame'>\n",
      "RangeIndex: 864 entries, 0 to 863\n",
      "Data columns (total 8 columns):\n",
      " #   Column  Non-Null Count  Dtype  \n",
      "---  ------  --------------  -----  \n",
      " 0   동별      864 non-null    object \n",
      " 1   항목      864 non-null    object \n",
      " 2   단위      864 non-null    object \n",
      " 3   2019 년  864 non-null    float64\n",
      " 4   2020 년  864 non-null    float64\n",
      " 5   2021 년  864 non-null    float64\n",
      " 6   2022 년  864 non-null    float64\n",
      " 7   2023 년  864 non-null    float64\n",
      "dtypes: float64(5), object(3)\n",
      "memory usage: 54.1+ KB\n"
     ]
    }
   ],
   "source": [
    "parking_1.info()"
   ]
  },
  {
   "cell_type": "code",
   "execution_count": 42,
   "metadata": {},
   "outputs": [
    {
     "name": "stdout",
     "output_type": "stream",
     "text": [
      "<class 'pandas.core.frame.DataFrame'>\n",
      "Index: 432 entries, 1 to 863\n",
      "Data columns (total 8 columns):\n",
      " #   Column  Non-Null Count  Dtype  \n",
      "---  ------  --------------  -----  \n",
      " 0   동별      432 non-null    object \n",
      " 1   항목      432 non-null    object \n",
      " 2   단위      432 non-null    object \n",
      " 3   2019 년  432 non-null    float64\n",
      " 4   2020 년  432 non-null    float64\n",
      " 5   2021 년  432 non-null    float64\n",
      " 6   2022 년  432 non-null    float64\n",
      " 7   2023 년  432 non-null    float64\n",
      "dtypes: float64(5), object(3)\n",
      "memory usage: 30.4+ KB\n"
     ]
    }
   ],
   "source": [
    "parking_area = parking_1[parking_1[\"항목\"] == \"면수\"]\n",
    "parking_area.head()\n",
    "parking_area.info()"
   ]
  },
  {
   "cell_type": "code",
   "execution_count": 47,
   "metadata": {},
   "outputs": [
    {
     "data": {
      "text/html": [
       "<div>\n",
       "<style scoped>\n",
       "    .dataframe tbody tr th:only-of-type {\n",
       "        vertical-align: middle;\n",
       "    }\n",
       "\n",
       "    .dataframe tbody tr th {\n",
       "        vertical-align: top;\n",
       "    }\n",
       "\n",
       "    .dataframe thead th {\n",
       "        text-align: right;\n",
       "    }\n",
       "</style>\n",
       "<table border=\"1\" class=\"dataframe\">\n",
       "  <thead>\n",
       "    <tr style=\"text-align: right;\">\n",
       "      <th></th>\n",
       "      <th>동별</th>\n",
       "      <th>항목</th>\n",
       "      <th>단위</th>\n",
       "      <th>2019 년</th>\n",
       "      <th>2020 년</th>\n",
       "      <th>2021 년</th>\n",
       "      <th>2022 년</th>\n",
       "      <th>2023 년</th>\n",
       "    </tr>\n",
       "  </thead>\n",
       "  <tbody>\n",
       "    <tr>\n",
       "      <th>0</th>\n",
       "      <td>합계</td>\n",
       "      <td>개소</td>\n",
       "      <td>개소</td>\n",
       "      <td>314392.0</td>\n",
       "      <td>317181.0</td>\n",
       "      <td>314440.0</td>\n",
       "      <td>306732.0</td>\n",
       "      <td>305903.0</td>\n",
       "    </tr>\n",
       "    <tr>\n",
       "      <th>2</th>\n",
       "      <td>사직동</td>\n",
       "      <td>개소</td>\n",
       "      <td>개소</td>\n",
       "      <td>360.0</td>\n",
       "      <td>357.0</td>\n",
       "      <td>358.0</td>\n",
       "      <td>362.0</td>\n",
       "      <td>362.0</td>\n",
       "    </tr>\n",
       "    <tr>\n",
       "      <th>4</th>\n",
       "      <td>삼청동</td>\n",
       "      <td>개소</td>\n",
       "      <td>개소</td>\n",
       "      <td>169.0</td>\n",
       "      <td>172.0</td>\n",
       "      <td>170.0</td>\n",
       "      <td>343.0</td>\n",
       "      <td>345.0</td>\n",
       "    </tr>\n",
       "    <tr>\n",
       "      <th>6</th>\n",
       "      <td>부암동</td>\n",
       "      <td>개소</td>\n",
       "      <td>개소</td>\n",
       "      <td>596.0</td>\n",
       "      <td>597.0</td>\n",
       "      <td>606.0</td>\n",
       "      <td>596.0</td>\n",
       "      <td>596.0</td>\n",
       "    </tr>\n",
       "    <tr>\n",
       "      <th>8</th>\n",
       "      <td>평창동</td>\n",
       "      <td>개소</td>\n",
       "      <td>개소</td>\n",
       "      <td>1600.0</td>\n",
       "      <td>1602.0</td>\n",
       "      <td>1624.0</td>\n",
       "      <td>1617.0</td>\n",
       "      <td>1618.0</td>\n",
       "    </tr>\n",
       "  </tbody>\n",
       "</table>\n",
       "</div>"
      ],
      "text/plain": [
       "    동별  항목  단위    2019 년    2020 년    2021 년    2022 년    2023 년\n",
       "0   합계  개소  개소  314392.0  317181.0  314440.0  306732.0  305903.0\n",
       "2  사직동  개소  개소     360.0     357.0     358.0     362.0     362.0\n",
       "4  삼청동  개소  개소     169.0     172.0     170.0     343.0     345.0\n",
       "6  부암동  개소  개소     596.0     597.0     606.0     596.0     596.0\n",
       "8  평창동  개소  개소    1600.0    1602.0    1624.0    1617.0    1618.0"
      ]
     },
     "execution_count": 47,
     "metadata": {},
     "output_type": "execute_result"
    }
   ],
   "source": [
    "parking_count = parking_1[parking_1[\"항목\"] == \"개소\"]\n",
    "parking_count.head()"
   ]
  },
  {
   "cell_type": "code",
   "execution_count": 49,
   "metadata": {},
   "outputs": [],
   "source": [
    "parking_area.to_csv('parking_area.csv', index=False)\n",
    "parking_count.to_csv('parking_count.csv', index=False)"
   ]
  }
 ],
 "metadata": {
  "kernelspec": {
   "display_name": "human-da-env",
   "language": "python",
   "name": "python3"
  },
  "language_info": {
   "codemirror_mode": {
    "name": "ipython",
    "version": 3
   },
   "file_extension": ".py",
   "mimetype": "text/x-python",
   "name": "python",
   "nbconvert_exporter": "python",
   "pygments_lexer": "ipython3",
   "version": "3.12.7"
  }
 },
 "nbformat": 4,
 "nbformat_minor": 2
}
