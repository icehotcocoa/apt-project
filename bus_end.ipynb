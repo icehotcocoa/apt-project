{
 "cells": [
  {
   "cell_type": "code",
   "execution_count": 11,
   "metadata": {},
   "outputs": [],
   "source": [
    "import pandas as pd\n",
    "from functools import reduce"
   ]
  },
  {
   "cell_type": "code",
   "execution_count": 12,
   "metadata": {},
   "outputs": [],
   "source": [
    "bus_end = [f\"bus_end/busstop_counts_{i}.csv\" for i in range(1, 15)]"
   ]
  },
  {
   "cell_type": "code",
   "execution_count": 13,
   "metadata": {},
   "outputs": [],
   "source": [
    "dfs = []\n",
    "for file_name in bus_end:\n",
    "    df = pd.read_csv(file_name)\n",
    "    dfs.append(df)"
   ]
  },
  {
   "cell_type": "code",
   "execution_count": 15,
   "metadata": {},
   "outputs": [
    {
     "name": "stdout",
     "output_type": "stream",
     "text": [
      "<class 'pandas.core.frame.DataFrame'>\n",
      "RangeIndex: 424 entries, 0 to 423\n",
      "Data columns (total 15 columns):\n",
      " #   Column                Non-Null Count  Dtype \n",
      "---  ------                --------------  ----- \n",
      " 0   adm_nm                424 non-null    object\n",
      " 1   Bus_Stop_Count_20211  424 non-null    int64 \n",
      " 2   Bus_Stop_Count_20212  424 non-null    int64 \n",
      " 3   Bus_Stop_Count_20213  424 non-null    int64 \n",
      " 4   Bus_Stop_Count_20214  424 non-null    int64 \n",
      " 5   Bus_Stop_Count_20221  424 non-null    int64 \n",
      " 6   Bus_Stop_Count_20222  424 non-null    int64 \n",
      " 7   Bus_Stop_Count_20223  424 non-null    int64 \n",
      " 8   Bus_Stop_Count_20224  424 non-null    int64 \n",
      " 9   Bus_Stop_Count_20231  424 non-null    int64 \n",
      " 10  Bus_Stop_Count_20232  424 non-null    int64 \n",
      " 11  Bus_Stop_Count_20233  424 non-null    int64 \n",
      " 12  Bus_Stop_Count_20234  424 non-null    int64 \n",
      " 13  Bus_Stop_Count_20241  424 non-null    int64 \n",
      " 14  Bus_Stop_Count_20242  424 non-null    int64 \n",
      "dtypes: int64(14), object(1)\n",
      "memory usage: 49.8+ KB\n"
     ]
    }
   ],
   "source": [
    "merged_df = reduce(lambda left, right: pd.merge(left, right, on='adm_nm', how='outer'), dfs)\n",
    "merged_df.info()"
   ]
  },
  {
   "cell_type": "code",
   "execution_count": 16,
   "metadata": {},
   "outputs": [],
   "source": [
    "merged_df.to_csv('bus_end/bus_counts_end.csv', index=False)"
   ]
  }
 ],
 "metadata": {
  "kernelspec": {
   "display_name": "human-da-env2",
   "language": "python",
   "name": "python3"
  },
  "language_info": {
   "codemirror_mode": {
    "name": "ipython",
    "version": 3
   },
   "file_extension": ".py",
   "mimetype": "text/x-python",
   "name": "python",
   "nbconvert_exporter": "python",
   "pygments_lexer": "ipython3",
   "version": "3.12.7"
  }
 },
 "nbformat": 4,
 "nbformat_minor": 2
}
