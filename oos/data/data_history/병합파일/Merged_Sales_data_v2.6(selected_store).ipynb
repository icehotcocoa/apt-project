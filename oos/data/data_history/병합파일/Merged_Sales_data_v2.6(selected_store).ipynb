{
 "cells": [
  {
   "cell_type": "code",
   "execution_count": 1,
   "metadata": {},
   "outputs": [],
   "source": [
    "import pandas as pd"
   ]
  },
  {
   "cell_type": "code",
   "execution_count": 2,
   "metadata": {},
   "outputs": [],
   "source": [
    "df = pd.read_csv(\"Merged_Sales_data_v2.5.csv\")"
   ]
  },
  {
   "cell_type": "code",
   "execution_count": 4,
   "metadata": {},
   "outputs": [
    {
     "name": "stdout",
     "output_type": "stream",
     "text": [
      "<class 'pandas.core.frame.DataFrame'>\n",
      "RangeIndex: 374581 entries, 0 to 374580\n",
      "Data columns (total 13 columns):\n",
      " #   Column     Non-Null Count   Dtype \n",
      "---  ------     --------------   ----- \n",
      " 0   년분기        374581 non-null  int64 \n",
      " 1   행정동        374581 non-null  object\n",
      " 2   업종명        374581 non-null  object\n",
      " 3   월매출(점포)    374581 non-null  int64 \n",
      " 4   인구수        374581 non-null  int64 \n",
      " 5   지역생활인구     374581 non-null  int64 \n",
      " 6   장기외국인      374581 non-null  int64 \n",
      " 7   단기외국인      374581 non-null  int64 \n",
      " 8   주차장면적(면)   374581 non-null  int64 \n",
      " 9   주차장개수(개소)  374581 non-null  int64 \n",
      " 10  학교수        374581 non-null  int64 \n",
      " 11  학생수        374581 non-null  int64 \n",
      " 12  버스정류장수     374581 non-null  int64 \n",
      "dtypes: int64(11), object(2)\n",
      "memory usage: 37.2+ MB\n"
     ]
    }
   ],
   "source": [
    "df.info()"
   ]
  },
  {
   "cell_type": "code",
   "execution_count": 6,
   "metadata": {},
   "outputs": [],
   "source": [
    "store_list = ['애완동물', 'PC방', '화초', '운동/경기용품', '여관', '일반교습학원', '치킨전문점']\n",
    "df_filtered = df[~df['업종명'].isin(store_list)]"
   ]
  },
  {
   "cell_type": "code",
   "execution_count": 11,
   "metadata": {},
   "outputs": [
    {
     "data": {
      "text/plain": [
       "63"
      ]
     },
     "execution_count": 11,
     "metadata": {},
     "output_type": "execute_result"
    }
   ],
   "source": [
    "df[\"업종명\"].nunique()"
   ]
  },
  {
   "cell_type": "code",
   "execution_count": 10,
   "metadata": {},
   "outputs": [
    {
     "data": {
      "text/plain": [
       "56"
      ]
     },
     "execution_count": 10,
     "metadata": {},
     "output_type": "execute_result"
    }
   ],
   "source": [
    "df_filtered[\"업종명\"].nunique()"
   ]
  },
  {
   "cell_type": "code",
   "execution_count": 13,
   "metadata": {},
   "outputs": [],
   "source": [
    "df_filtered.to_csv(\"Merged_Sales_data_v2.6(selected_store).csv\", index=False)"
   ]
  }
 ],
 "metadata": {
  "kernelspec": {
   "display_name": "Python 3",
   "language": "python",
   "name": "python3"
  },
  "language_info": {
   "codemirror_mode": {
    "name": "ipython",
    "version": 3
   },
   "file_extension": ".py",
   "mimetype": "text/x-python",
   "name": "python",
   "nbconvert_exporter": "python",
   "pygments_lexer": "ipython3",
   "version": "3.12.7"
  }
 },
 "nbformat": 4,
 "nbformat_minor": 2
}
