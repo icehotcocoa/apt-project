{
 "cells": [
  {
   "cell_type": "code",
   "execution_count": 8,
   "metadata": {},
   "outputs": [],
   "source": [
    "import pandas as pd"
   ]
  },
  {
   "cell_type": "code",
   "execution_count": 9,
   "metadata": {},
   "outputs": [],
   "source": [
    "d19 = pd.read_csv('Number of Stores_19.csv')\n",
    "d20 = pd.read_csv('Number of Stores_20.csv')\n",
    "d21 = pd.read_csv('Number of Stores_21.csv')\n",
    "d22 = pd.read_csv('Number of Stores_22.csv')\n",
    "d2324 = pd.read_csv('Number of Stores_2324.csv')"
   ]
  },
  {
   "cell_type": "code",
   "execution_count": 10,
   "metadata": {},
   "outputs": [
    {
     "name": "stdout",
     "output_type": "stream",
     "text": [
      "<class 'pandas.core.frame.DataFrame'>\n",
      "RangeIndex: 101576 entries, 0 to 101575\n",
      "Data columns (total 7 columns):\n",
      " #   Column      Non-Null Count   Dtype \n",
      "---  ------      --------------   ----- \n",
      " 0   년분기         101576 non-null  int64 \n",
      " 1   행정동         101576 non-null  object\n",
      " 2   업종명         101576 non-null  object\n",
      " 3   점포_수        101576 non-null  int64 \n",
      " 4   개업_점포_수     101576 non-null  int64 \n",
      " 5   폐업_점포_수     101576 non-null  int64 \n",
      " 6   프랜차이즈_점포_수  101576 non-null  int64 \n",
      "dtypes: int64(5), object(2)\n",
      "memory usage: 5.4+ MB\n"
     ]
    }
   ],
   "source": [
    "d19.info()"
   ]
  },
  {
   "cell_type": "code",
   "execution_count": 11,
   "metadata": {},
   "outputs": [
    {
     "data": {
      "text/html": [
       "<div>\n",
       "<style scoped>\n",
       "    .dataframe tbody tr th:only-of-type {\n",
       "        vertical-align: middle;\n",
       "    }\n",
       "\n",
       "    .dataframe tbody tr th {\n",
       "        vertical-align: top;\n",
       "    }\n",
       "\n",
       "    .dataframe thead th {\n",
       "        text-align: right;\n",
       "    }\n",
       "</style>\n",
       "<table border=\"1\" class=\"dataframe\">\n",
       "  <thead>\n",
       "    <tr style=\"text-align: right;\">\n",
       "      <th></th>\n",
       "      <th>년분기</th>\n",
       "      <th>행정동</th>\n",
       "      <th>업종명</th>\n",
       "      <th>점포_수</th>\n",
       "      <th>개업_점포_수</th>\n",
       "      <th>폐업_점포_수</th>\n",
       "      <th>프랜차이즈_점포_수</th>\n",
       "    </tr>\n",
       "  </thead>\n",
       "  <tbody>\n",
       "    <tr>\n",
       "      <th>0</th>\n",
       "      <td>20191</td>\n",
       "      <td>청운효자동</td>\n",
       "      <td>한식음식점</td>\n",
       "      <td>82</td>\n",
       "      <td>2</td>\n",
       "      <td>2</td>\n",
       "      <td>1</td>\n",
       "    </tr>\n",
       "    <tr>\n",
       "      <th>1</th>\n",
       "      <td>20191</td>\n",
       "      <td>청운효자동</td>\n",
       "      <td>중식음식점</td>\n",
       "      <td>4</td>\n",
       "      <td>0</td>\n",
       "      <td>0</td>\n",
       "      <td>0</td>\n",
       "    </tr>\n",
       "    <tr>\n",
       "      <th>2</th>\n",
       "      <td>20191</td>\n",
       "      <td>청운효자동</td>\n",
       "      <td>일식음식점</td>\n",
       "      <td>13</td>\n",
       "      <td>0</td>\n",
       "      <td>0</td>\n",
       "      <td>0</td>\n",
       "    </tr>\n",
       "    <tr>\n",
       "      <th>3</th>\n",
       "      <td>20191</td>\n",
       "      <td>청운효자동</td>\n",
       "      <td>양식음식점</td>\n",
       "      <td>36</td>\n",
       "      <td>3</td>\n",
       "      <td>3</td>\n",
       "      <td>0</td>\n",
       "    </tr>\n",
       "    <tr>\n",
       "      <th>4</th>\n",
       "      <td>20191</td>\n",
       "      <td>청운효자동</td>\n",
       "      <td>제과점</td>\n",
       "      <td>16</td>\n",
       "      <td>1</td>\n",
       "      <td>0</td>\n",
       "      <td>2</td>\n",
       "    </tr>\n",
       "  </tbody>\n",
       "</table>\n",
       "</div>"
      ],
      "text/plain": [
       "     년분기    행정동    업종명  점포_수  개업_점포_수  폐업_점포_수  프랜차이즈_점포_수\n",
       "0  20191  청운효자동  한식음식점    82        2        2           1\n",
       "1  20191  청운효자동  중식음식점     4        0        0           0\n",
       "2  20191  청운효자동  일식음식점    13        0        0           0\n",
       "3  20191  청운효자동  양식음식점    36        3        3           0\n",
       "4  20191  청운효자동    제과점    16        1        0           2"
      ]
     },
     "execution_count": 11,
     "metadata": {},
     "output_type": "execute_result"
    }
   ],
   "source": [
    "d19.head()"
   ]
  },
  {
   "cell_type": "code",
   "execution_count": 12,
   "metadata": {},
   "outputs": [
    {
     "name": "stdout",
     "output_type": "stream",
     "text": [
      "      년분기    행정동     업종명  점포_수  개업_점포_수  폐업_점포_수  프랜차이즈_점포_수\n",
      "14  20191  청운효자동    일반의원     3        0        1           0\n",
      "13  20191  청운효자동  스포츠 강습     4        0        0           0\n",
      "12  20191  청운효자동    예술학원    12        0        1           0\n",
      "79  20191    사직동   골프연습장     0        0        0           1\n",
      "78  20191    사직동     당구장    14        0        0           0\n"
     ]
    }
   ],
   "source": [
    "# DataFrame 합치기\n",
    "combined_df = pd.concat([d19, d20, d21, d22, d2324], ignore_index=True)\n",
    "\n",
    "# 오름차순 정렬 (예: 특정 컬럼 'Date' 기준으로)\n",
    "sorted_df = combined_df.sort_values(by='년분기', ascending=True)\n",
    "\n",
    "sorted_df = sorted_df[sorted_df['행정동'] != '둔촌1동']\n",
    "\n",
    "# 결과 저장 (선택사항)\n",
    "sorted_df.to_csv('Sorted_Number_of_Stores.csv', index=False)\n",
    "\n",
    "# 결과 확인\n",
    "print(sorted_df.head())"
   ]
  },
  {
   "cell_type": "code",
   "execution_count": 13,
   "metadata": {},
   "outputs": [
    {
     "name": "stdout",
     "output_type": "stream",
     "text": [
      "<class 'pandas.core.frame.DataFrame'>\n",
      "Index: 558742 entries, 14 to 559316\n",
      "Data columns (total 7 columns):\n",
      " #   Column      Non-Null Count   Dtype \n",
      "---  ------      --------------   ----- \n",
      " 0   년분기         558742 non-null  int64 \n",
      " 1   행정동         558742 non-null  object\n",
      " 2   업종명         558742 non-null  object\n",
      " 3   점포_수        558742 non-null  int64 \n",
      " 4   개업_점포_수     558742 non-null  int64 \n",
      " 5   폐업_점포_수     558742 non-null  int64 \n",
      " 6   프랜차이즈_점포_수  558742 non-null  int64 \n",
      "dtypes: int64(5), object(2)\n",
      "memory usage: 34.1+ MB\n"
     ]
    },
    {
     "data": {
      "text/plain": [
       "(None,\n",
       " array([20191, 20192, 20193, 20194, 20201, 20202, 20203, 20204, 20211,\n",
       "        20212, 20213, 20214, 20221, 20222, 20223, 20224, 20231, 20232,\n",
       "        20233, 20234, 20241, 20242]),\n",
       " 423)"
      ]
     },
     "execution_count": 13,
     "metadata": {},
     "output_type": "execute_result"
    }
   ],
   "source": [
    "sorted_df.info(), sorted_df['년분기'].unique(), sorted_df['행정동'].nunique()"
   ]
  }
 ],
 "metadata": {
  "kernelspec": {
   "display_name": "Python 3",
   "language": "python",
   "name": "python3"
  },
  "language_info": {
   "codemirror_mode": {
    "name": "ipython",
    "version": 3
   },
   "file_extension": ".py",
   "mimetype": "text/x-python",
   "name": "python",
   "nbconvert_exporter": "python",
   "pygments_lexer": "ipython3",
   "version": "3.12.7"
  }
 },
 "nbformat": 4,
 "nbformat_minor": 2
}
