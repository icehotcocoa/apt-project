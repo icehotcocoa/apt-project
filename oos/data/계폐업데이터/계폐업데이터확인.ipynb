{
 "cells": [
  {
   "cell_type": "code",
   "execution_count": 9,
   "metadata": {},
   "outputs": [],
   "source": [
    "import pandas as pd"
   ]
  },
  {
   "cell_type": "code",
   "execution_count": 10,
   "metadata": {},
   "outputs": [],
   "source": [
    "data = pd.read_csv('서울시 상권분석서비스(점포-행정동,23-24).csv', encoding='EUC-KR')"
   ]
  },
  {
   "cell_type": "code",
   "execution_count": 14,
   "metadata": {},
   "outputs": [
    {
     "name": "stdout",
     "output_type": "stream",
     "text": [
      "<class 'pandas.core.frame.DataFrame'>\n",
      "RangeIndex: 211585 entries, 0 to 211584\n",
      "Data columns (total 12 columns):\n",
      " #   Column       Non-Null Count   Dtype \n",
      "---  ------       --------------   ----- \n",
      " 0   기준_년분기_코드    211585 non-null  int64 \n",
      " 1   행정동_코드       211585 non-null  int64 \n",
      " 2   행정동_코드_명     211585 non-null  object\n",
      " 3   서비스_업종_코드    211585 non-null  object\n",
      " 4   서비스_업종_코드_명  211585 non-null  object\n",
      " 5   점포_수         211585 non-null  int64 \n",
      " 6   유사_업종_점포_수   211585 non-null  int64 \n",
      " 7   개업_율         211585 non-null  int64 \n",
      " 8   개업_점포_수      211585 non-null  int64 \n",
      " 9   폐업_률         211585 non-null  int64 \n",
      " 10  폐업_점포_수      211585 non-null  int64 \n",
      " 11  프랜차이즈_점포_수   211585 non-null  int64 \n",
      "dtypes: int64(9), object(3)\n",
      "memory usage: 19.4+ MB\n"
     ]
    }
   ],
   "source": [
    "data.info()"
   ]
  },
  {
   "cell_type": "code",
   "execution_count": 13,
   "metadata": {},
   "outputs": [
    {
     "name": "stdout",
     "output_type": "stream",
     "text": [
      "100\n"
     ]
    },
    {
     "data": {
      "text/plain": [
       "array(['한식음식점', '중식음식점', '일식음식점', '양식음식점', '제과점', '패스트푸드점', '치킨전문점',\n",
       "       '분식전문점', '호프-간이주점', '커피-음료', '일반교습학원', '외국어학원', '예술학원', '스포츠 강습',\n",
       "       '일반의원', '치과의원', '한의원', '동물병원', '변호사사무소', '법무사사무소', '기타법무서비스',\n",
       "       '세무사사무소', '당구장', '골프연습장', '전자게임장', '자동차수리', '자동차미용', '미용실', '네일숍',\n",
       "       '피부관리실', '세탁소', '가전제품수리', '부동산중개업', '여관', '게스트하우스', '고시원', '노래방',\n",
       "       '녹음실', '사진관', '통번역서비스', '건축물청소', '여행사', '의류임대', '가정용품임대', '슈퍼마켓',\n",
       "       '편의점', '컴퓨터및주변장치판매', '핸드폰', '주류도매', '미곡판매', '육류판매', '수산물판매', '청과상',\n",
       "       '반찬가게', '일반의류', '유아의류', '신발', '가방', '안경', '시계및귀금속', '의약품', '의료기기',\n",
       "       '서적', '문구', '화장품', '미용재료', '운동/경기용품', '완구', '섬유제품', '화초', '애완동물',\n",
       "       '가구', '가전제품', '철물점', '인테리어', '조명용품', '자동차부품', '모터사이클및부품',\n",
       "       '재생용품 판매점', '예술품', '전자상거래업', '컴퓨터학원', '변리사사무소', '회계사사무소', 'PC방',\n",
       "       '기타오락장', '통신기기수리', '스포츠클럽', '독서실', '한복점', '자전거 및 기타운송장비', '악기',\n",
       "       '주유소', 'DVD방', '모터사이클수리', '중고차판매', '복권방', '볼링장', '비디오/서적임대',\n",
       "       '중고가구'], dtype=object)"
      ]
     },
     "execution_count": 13,
     "metadata": {},
     "output_type": "execute_result"
    }
   ],
   "source": [
    "print(len(data['서비스_업종_코드_명'].unique()))\n",
    "data['서비스_업종_코드_명'].unique()"
   ]
  },
  {
   "cell_type": "code",
   "execution_count": 15,
   "metadata": {},
   "outputs": [],
   "source": [
    "data = pd.read_csv('서울시_상권분석서비스(점포-행정동)_2019년.csv', encoding='EUC-KR')"
   ]
  },
  {
   "cell_type": "code",
   "execution_count": 16,
   "metadata": {},
   "outputs": [
    {
     "name": "stdout",
     "output_type": "stream",
     "text": [
      "<class 'pandas.core.frame.DataFrame'>\n",
      "RangeIndex: 139799 entries, 0 to 139798\n",
      "Data columns (total 12 columns):\n",
      " #   Column       Non-Null Count   Dtype \n",
      "---  ------       --------------   ----- \n",
      " 0   기준_년분기_코드    139799 non-null  int64 \n",
      " 1   행정동_코드       139799 non-null  int64 \n",
      " 2   행정동_코드_명     139799 non-null  object\n",
      " 3   서비스_업종_코드    139799 non-null  object\n",
      " 4   서비스_업종_코드_명  139799 non-null  object\n",
      " 5   점포_수         139799 non-null  int64 \n",
      " 6   유사_업종_점포_수   139799 non-null  int64 \n",
      " 7   개업_율         139799 non-null  int64 \n",
      " 8   개업_점포_수      139799 non-null  int64 \n",
      " 9   폐업_률         139799 non-null  int64 \n",
      " 10  폐업_점포_수      139799 non-null  int64 \n",
      " 11  프랜차이즈_점포_수   139799 non-null  int64 \n",
      "dtypes: int64(9), object(3)\n",
      "memory usage: 12.8+ MB\n"
     ]
    }
   ],
   "source": [
    "data.info()"
   ]
  },
  {
   "cell_type": "code",
   "execution_count": 17,
   "metadata": {},
   "outputs": [
    {
     "name": "stdout",
     "output_type": "stream",
     "text": [
      "100\n"
     ]
    },
    {
     "data": {
      "text/plain": [
       "array(['한식음식점', '중식음식점', '일식음식점', '양식음식점', '제과점', '패스트푸드점', '치킨전문점',\n",
       "       '분식전문점', '호프-간이주점', '커피-음료', '일반교습학원', '외국어학원', '예술학원', '스포츠 강습',\n",
       "       '일반의원', '치과의원', '한의원', '변호사사무소', '기타법무서비스', '세무사사무소', '당구장',\n",
       "       '골프연습장', 'PC방', '전자게임장', '자동차수리', '자동차미용', '미용실', '네일숍', '피부관리실',\n",
       "       '세탁소', '가전제품수리', '부동산중개업', '여관', '게스트하우스', '고시원', '노래방', '녹음실',\n",
       "       '사진관', '통번역서비스', '건축물청소', '여행사', '비디오/서적임대', '의류임대', '슈퍼마켓', '편의점',\n",
       "       '컴퓨터및주변장치판매', '핸드폰', '주류도매', '미곡판매', '육류판매', '수산물판매', '청과상',\n",
       "       '반찬가게', '일반의류', '한복점', '유아의류', '신발', '가방', '안경', '시계및귀금속', '의약품',\n",
       "       '의료기기', '서적', '문구', '화장품', '미용재료', '운동/경기용품', '완구', '섬유제품', '화초',\n",
       "       '애완동물', '가구', '가전제품', '철물점', '인테리어', '조명용품', '자동차부품', '모터사이클및부품',\n",
       "       '재생용품 판매점', '예술품', '전자상거래업', '컴퓨터학원', '동물병원', '변리사사무소', '법무사사무소',\n",
       "       '회계사사무소', '볼링장', '기타오락장', '복권방', '통신기기수리', '스포츠클럽', '독서실', '악기',\n",
       "       '주유소', '자전거 및 기타운송장비', 'DVD방', '모터사이클수리', '중고차판매', '가정용품임대',\n",
       "       '중고가구'], dtype=object)"
      ]
     },
     "execution_count": 17,
     "metadata": {},
     "output_type": "execute_result"
    }
   ],
   "source": [
    "print(len(data['서비스_업종_코드_명'].unique()))\n",
    "data['서비스_업종_코드_명'].unique()"
   ]
  }
 ],
 "metadata": {
  "kernelspec": {
   "display_name": "Python 3",
   "language": "python",
   "name": "python3"
  },
  "language_info": {
   "codemirror_mode": {
    "name": "ipython",
    "version": 3
   },
   "file_extension": ".py",
   "mimetype": "text/x-python",
   "name": "python",
   "nbconvert_exporter": "python",
   "pygments_lexer": "ipython3",
   "version": "3.12.6"
  }
 },
 "nbformat": 4,
 "nbformat_minor": 2
}
