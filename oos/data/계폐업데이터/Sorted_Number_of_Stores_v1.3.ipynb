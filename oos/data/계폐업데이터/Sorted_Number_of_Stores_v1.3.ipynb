{
 "cells": [
  {
   "cell_type": "code",
   "execution_count": 10,
   "metadata": {},
   "outputs": [],
   "source": [
    "import pandas as pd"
   ]
  },
  {
   "cell_type": "code",
   "execution_count": 11,
   "metadata": {},
   "outputs": [],
   "source": [
    "df = pd.read_csv(\"Sorted_Number_of_Stores_v1.1.csv\")"
   ]
  },
  {
   "cell_type": "code",
   "execution_count": 12,
   "metadata": {},
   "outputs": [
    {
     "name": "stdout",
     "output_type": "stream",
     "text": [
      "<class 'pandas.core.frame.DataFrame'>\n",
      "RangeIndex: 558742 entries, 0 to 558741\n",
      "Data columns (total 7 columns):\n",
      " #   Column      Non-Null Count   Dtype \n",
      "---  ------      --------------   ----- \n",
      " 0   년분기         558742 non-null  int64 \n",
      " 1   행정동         558742 non-null  object\n",
      " 2   업종명         558742 non-null  object\n",
      " 3   점포_수        558742 non-null  int64 \n",
      " 4   개업_점포_수     558742 non-null  int64 \n",
      " 5   폐업_점포_수     558742 non-null  int64 \n",
      " 6   프랜차이즈_점포_수  558742 non-null  int64 \n",
      "dtypes: int64(5), object(2)\n",
      "memory usage: 29.8+ MB\n"
     ]
    }
   ],
   "source": [
    "df.info(0)"
   ]
  },
  {
   "cell_type": "code",
   "execution_count": 13,
   "metadata": {},
   "outputs": [
    {
     "name": "stdout",
     "output_type": "stream",
     "text": [
      "   점포_수  프랜차이즈_점포_수  점포수\n",
      "0     3           0    3\n",
      "1     4           0    4\n",
      "2    12           0   12\n",
      "3     0           1    1\n",
      "4    14           0   14\n"
     ]
    }
   ],
   "source": [
    "# 점포_수와 프랜차이즈_점포_수를 합산하여 점포수 열 생성\n",
    "df['점포수'] = df['점포_수'] + df['프랜차이즈_점포_수']\n",
    "\n",
    "# 결과 확인\n",
    "print(df[['점포_수', '프랜차이즈_점포_수', '점포수']].head())\n"
   ]
  },
  {
   "cell_type": "code",
   "execution_count": 19,
   "metadata": {},
   "outputs": [],
   "source": [
    "col = [\"년분기\", \"행정동\", \"업종명\", \"점포수\"]\n",
    "df = df[col]"
   ]
  },
  {
   "cell_type": "code",
   "execution_count": 21,
   "metadata": {},
   "outputs": [],
   "source": [
    "df.to_csv(\"Sorted_Number_of_Stores_v1.3.csv\", index=False)"
   ]
  }
 ],
 "metadata": {
  "kernelspec": {
   "display_name": "Python 3",
   "language": "python",
   "name": "python3"
  },
  "language_info": {
   "codemirror_mode": {
    "name": "ipython",
    "version": 3
   },
   "file_extension": ".py",
   "mimetype": "text/x-python",
   "name": "python",
   "nbconvert_exporter": "python",
   "pygments_lexer": "ipython3",
   "version": "3.12.7"
  }
 },
 "nbformat": 4,
 "nbformat_minor": 2
}
