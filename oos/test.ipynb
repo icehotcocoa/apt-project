{
 "cells": [
  {
   "cell_type": "code",
   "execution_count": 4,
   "metadata": {},
   "outputs": [
    {
     "name": "stdout",
     "output_type": "stream",
     "text": [
      "{\n",
      "\t\"header\" : {\n",
      "\t\t\"description\" : \"소상공인시장진흥공단 주요상권\"\n",
      "\t\t,\"columns\" : [\"상권번호\",\"상권명\",\"시도코드\",\"시도명\",\"시군구코드\",\"시군구명\",\"상권면적\",\"좌표개수\",\"좌표값\",\"데이터기준일자\"]\n",
      "\t\t,\"resultCode\" : \"00\"\n",
      "\t\t,\"resultMsg\" : \"NORMAL SERVICE\"\n",
      "\t},\n",
      "\t\"body\" : {\n",
      "\t\t\t\"items\" : [\n",
      "\t\t\t\t{\n",
      "\t\t\t\t\"trarNo\" : 9174\n",
      "\t\t\t\t,\"mainTrarNm\" : \"인사동\"\n",
      "\t\t\t\t,\"ctprvnCd\" : \"11\"\n",
      "\t\t\t\t,\"ctprvnNm\" : \"서울특별시\"\n",
      "\t\t\t\t,\"signguCd\" : \"11110\"\n",
      "\t\t\t\t,\"signguNm\" : \"종로구\"\n",
      "\t\t\t\t,\"trarArea\" : 226875\n",
      "\t\t\t\t,\"coordNum\" : 21\n",
      "\t\t\t\t,\"coords\" : \"MULTIPOLYGON (((126.986059148338 37.5765234907315, 126.985943099285 37.5765933022497, 126.985003595935 37.5761584486461, 126.984321612825 37.5758475109755, 126.983682074805 37.5755861301059, 126.983073659879 37.5753743049793, 126.983019911215 37.5752819452711, 126.982977487921 37.5751693150508, 126.983105316596 37.573220945966, 126.983179233794 37.5718334337701, 126.983151246104 37.5705540242774, 126.983270142803 37.5703828545296, 126.983428633426 37.5703107995486, 126.985822713216 37.5702976242875, 126.98744706053 37.5703113418908, 126.987429831033 37.571653814357, 126.987588062984 37.5729782873447, 126.987372867362 37.5736044495484, 126.986789692656 37.5745999719345, 126.986195066917 37.5761631127724, 126.986059148338 37.5765234907315)))\"\n",
      "\t\t\t\t,\"stdrDt\" : \"2021-06-30\"\n",
      "\t\t\t\t}\n",
      "\t\t\t]\n",
      "\t}\n",
      "}\n",
      "\n"
     ]
    }
   ],
   "source": [
    "import requests\n",
    "service_key = \"tbCx13eW%2Bzt8TGd15Si9CsX5S9LRX4wwBOzLrpD83gdiZJdw4F1WRCD4Kbte0AZWheghMf2umQvLghvo6VWP5g%3D%3D\"\n",
    "operation = 'storeZoneOne'\n",
    "\n",
    "url = 'http://apis.data.go.kr/B553077/api/open/sdsc2/{0}?key=9174&serviceKey={1}&type=json'.format(operation, service_key)\n",
    "\n",
    "response = requests.get(url)\n",
    "print(response.content.decode('utf-8'))"
   ]
  }
 ],
 "metadata": {
  "kernelspec": {
   "display_name": "human-da-env",
   "language": "python",
   "name": "python3"
  },
  "language_info": {
   "codemirror_mode": {
    "name": "ipython",
    "version": 3
   },
   "file_extension": ".py",
   "mimetype": "text/x-python",
   "name": "python",
   "nbconvert_exporter": "python",
   "pygments_lexer": "ipython3",
   "version": "3.12.7"
  }
 },
 "nbformat": 4,
 "nbformat_minor": 2
}
