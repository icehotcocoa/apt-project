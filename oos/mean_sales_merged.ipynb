{
 "cells": [
  {
   "cell_type": "code",
   "execution_count": 1,
   "metadata": {},
   "outputs": [],
   "source": [
    "import pandas as pd"
   ]
  },
  {
   "cell_type": "code",
   "execution_count": 2,
   "metadata": {},
   "outputs": [],
   "source": [
    "df = pd.read_csv(\"Merged_Sales_data_v2.4.csv\")"
   ]
  },
  {
   "cell_type": "code",
   "execution_count": 3,
   "metadata": {},
   "outputs": [
    {
     "name": "stdout",
     "output_type": "stream",
     "text": [
      "<class 'pandas.core.frame.DataFrame'>\n",
      "RangeIndex: 374581 entries, 0 to 374580\n",
      "Data columns (total 17 columns):\n",
      " #   Column     Non-Null Count   Dtype \n",
      "---  ------     --------------   ----- \n",
      " 0   년분기        374581 non-null  int64 \n",
      " 1   행정동_코드     374581 non-null  int64 \n",
      " 2   행정동        374581 non-null  object\n",
      " 3   업종명        374581 non-null  object\n",
      " 4   월매출        374581 non-null  int64 \n",
      " 5   주중매출       374581 non-null  int64 \n",
      " 6   주말매출       374581 non-null  int64 \n",
      " 7   인구수        374581 non-null  int64 \n",
      " 8   점포수        374581 non-null  int64 \n",
      " 9   지역생활인구     374581 non-null  int64 \n",
      " 10  장기외국인      374581 non-null  int64 \n",
      " 11  단기외국인      374581 non-null  int64 \n",
      " 12  주차장면적(면)   374581 non-null  int64 \n",
      " 13  주차장개수(개소)  374581 non-null  int64 \n",
      " 14  학교수        374581 non-null  int64 \n",
      " 15  학생수        374581 non-null  int64 \n",
      " 16  버스정류장수     374581 non-null  int64 \n",
      "dtypes: int64(15), object(2)\n",
      "memory usage: 48.6+ MB\n"
     ]
    }
   ],
   "source": [
    "df.info()"
   ]
  },
  {
   "cell_type": "code",
   "execution_count": 8,
   "metadata": {},
   "outputs": [
    {
     "name": "stdout",
     "output_type": "stream",
     "text": [
      "<class 'pandas.core.frame.DataFrame'>\n",
      "RangeIndex: 374581 entries, 0 to 374580\n",
      "Data columns (total 18 columns):\n",
      " #   Column     Non-Null Count   Dtype \n",
      "---  ------     --------------   ----- \n",
      " 0   년분기        374581 non-null  int64 \n",
      " 1   행정동_코드     374581 non-null  int64 \n",
      " 2   행정동        374581 non-null  object\n",
      " 3   업종명        374581 non-null  object\n",
      " 4   월매출        374581 non-null  int64 \n",
      " 5   주중매출       374581 non-null  int64 \n",
      " 6   주말매출       374581 non-null  int64 \n",
      " 7   인구수        374581 non-null  int64 \n",
      " 8   점포수        374581 non-null  int64 \n",
      " 9   지역생활인구     374581 non-null  int64 \n",
      " 10  장기외국인      374581 non-null  int64 \n",
      " 11  단기외국인      374581 non-null  int64 \n",
      " 12  주차장면적(면)   374581 non-null  int64 \n",
      " 13  주차장개수(개소)  374581 non-null  int64 \n",
      " 14  학교수        374581 non-null  int64 \n",
      " 15  학생수        374581 non-null  int64 \n",
      " 16  버스정류장수     374581 non-null  int64 \n",
      " 17  월매출(점포)    374581 non-null  int64 \n",
      "dtypes: int64(16), object(2)\n",
      "memory usage: 51.4+ MB\n"
     ]
    }
   ],
   "source": [
    "df['월매출(점포)'] = (df['월매출'] / df['점포수']).astype(int)\n",
    "df.info()"
   ]
  },
  {
   "cell_type": "code",
   "execution_count": 9,
   "metadata": {},
   "outputs": [
    {
     "data": {
      "text/plain": [
       "Index(['년분기', '행정동_코드', '행정동', '업종명', '월매출', '주중매출', '주말매출', '인구수', '점포수',\n",
       "       '지역생활인구', '장기외국인', '단기외국인', '주차장면적(면)', '주차장개수(개소)', '학교수', '학생수',\n",
       "       '버스정류장수', '월매출(점포)'],\n",
       "      dtype='object')"
      ]
     },
     "execution_count": 9,
     "metadata": {},
     "output_type": "execute_result"
    }
   ],
   "source": [
    "df.columns"
   ]
  },
  {
   "cell_type": "code",
   "execution_count": 12,
   "metadata": {},
   "outputs": [],
   "source": [
    "col = ['년분기', '행정동', '업종명', '월매출(점포)', '인구수',\n",
    "       '지역생활인구', '장기외국인', '단기외국인', '주차장면적(면)', '주차장개수(개소)', '학교수', '학생수',\n",
    "       '버스정류장수']\n",
    "check_df = df[col]"
   ]
  },
  {
   "cell_type": "code",
   "execution_count": 16,
   "metadata": {},
   "outputs": [],
   "source": [
    "check_df.to_csv(\"Merged_Sales_data_v2.5.csv\", index=False)"
   ]
  }
 ],
 "metadata": {
  "kernelspec": {
   "display_name": "Python 3",
   "language": "python",
   "name": "python3"
  },
  "language_info": {
   "codemirror_mode": {
    "name": "ipython",
    "version": 3
   },
   "file_extension": ".py",
   "mimetype": "text/x-python",
   "name": "python",
   "nbconvert_exporter": "python",
   "pygments_lexer": "ipython3",
   "version": "3.12.7"
  }
 },
 "nbformat": 4,
 "nbformat_minor": 2
}
