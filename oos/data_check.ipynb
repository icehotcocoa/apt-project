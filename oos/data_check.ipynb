{
 "cells": [
  {
   "cell_type": "code",
   "execution_count": 103,
   "metadata": {},
   "outputs": [],
   "source": [
    "import pandas as pd"
   ]
  },
  {
   "cell_type": "markdown",
   "metadata": {},
   "source": [
    "거주인구데이터"
   ]
  },
  {
   "cell_type": "code",
   "execution_count": 104,
   "metadata": {},
   "outputs": [],
   "source": [
    "resident = pd.read_csv(\"Resident_Population_Dong423.csv\")\n",
    "store = pd.read_csv(\"Sorted_Number_of_Stores_v1.2.csv\")\n",
    "sales = pd.read_csv(r\"data\\매출액\\Merged_Sales_data.csv\")"
   ]
  },
  {
   "cell_type": "code",
   "execution_count": 105,
   "metadata": {},
   "outputs": [
    {
     "name": "stdout",
     "output_type": "stream",
     "text": [
      "<class 'pandas.core.frame.DataFrame'>\n",
      "RangeIndex: 423 entries, 0 to 422\n",
      "Data columns (total 23 columns):\n",
      " #   Column  Non-Null Count  Dtype \n",
      "---  ------  --------------  ----- \n",
      " 0   행정동     423 non-null    object\n",
      " 1   20191   423 non-null    int64 \n",
      " 2   20192   423 non-null    int64 \n",
      " 3   20193   423 non-null    int64 \n",
      " 4   20194   423 non-null    int64 \n",
      " 5   20201   423 non-null    int64 \n",
      " 6   20202   423 non-null    int64 \n",
      " 7   20203   423 non-null    int64 \n",
      " 8   20204   423 non-null    int64 \n",
      " 9   20211   423 non-null    int64 \n",
      " 10  20212   423 non-null    int64 \n",
      " 11  20213   423 non-null    int64 \n",
      " 12  20214   423 non-null    int64 \n",
      " 13  20221   423 non-null    int64 \n",
      " 14  20222   423 non-null    int64 \n",
      " 15  20223   423 non-null    int64 \n",
      " 16  20224   423 non-null    int64 \n",
      " 17  20231   423 non-null    int64 \n",
      " 18  20232   423 non-null    int64 \n",
      " 19  20233   423 non-null    int64 \n",
      " 20  20234   423 non-null    int64 \n",
      " 21  20241   423 non-null    int64 \n",
      " 22  20242   423 non-null    int64 \n",
      "dtypes: int64(22), object(1)\n",
      "memory usage: 76.1+ KB\n"
     ]
    }
   ],
   "source": [
    "resident.info()"
   ]
  },
  {
   "cell_type": "code",
   "execution_count": 106,
   "metadata": {},
   "outputs": [
    {
     "name": "stdout",
     "output_type": "stream",
     "text": [
      "<class 'pandas.core.frame.DataFrame'>\n",
      "RangeIndex: 558742 entries, 0 to 558741\n",
      "Data columns (total 4 columns):\n",
      " #   Column  Non-Null Count   Dtype \n",
      "---  ------  --------------   ----- \n",
      " 0   년분기     558742 non-null  int64 \n",
      " 1   행정동     558742 non-null  object\n",
      " 2   업종명     558742 non-null  object\n",
      " 3   점포_수    558742 non-null  int64 \n",
      "dtypes: int64(2), object(2)\n",
      "memory usage: 17.1+ MB\n"
     ]
    },
    {
     "data": {
      "text/plain": [
       "(None, 423)"
      ]
     },
     "execution_count": 106,
     "metadata": {},
     "output_type": "execute_result"
    }
   ],
   "source": [
    "store.info(), store['행정동'].nunique()"
   ]
  },
  {
   "cell_type": "code",
   "execution_count": 107,
   "metadata": {},
   "outputs": [],
   "source": [
    "def Data_Comparison(a, b, c):\n",
    "    \"\"\"a = 데이터A\n",
    "       b = 데이터B\n",
    "       c = 비교할컬럼\n",
    "    \"\"\"\n",
    "    set_a = set(a[c])\n",
    "    set_b = set(b[c])\n",
    "    common_values = set_a & set_b  # A와 B에 모두 있는 값\n",
    "    only_in_a = set_a - set_b  # A에만 있는 값\n",
    "    only_in_b = set_b - set_a  # B에만 있는 값\n",
    "\n",
    "    # 결과 출력\n",
    "    print(\"A와 B에 모두 있는 값:\")\n",
    "    print(common_values)\n",
    "\n",
    "    print(\"\\nA에만 있는 값:\")\n",
    "    print(only_in_a)\n",
    "\n",
    "    print(\"\\nB에만 있는 값:\")\n",
    "    print(only_in_b)"
   ]
  },
  {
   "cell_type": "code",
   "execution_count": 108,
   "metadata": {},
   "outputs": [
    {
     "name": "stdout",
     "output_type": "stream",
     "text": [
      "A와 B에 모두 있는 값:\n",
      "{'목3동', '등촌3동', '갈현2동', '중계2·3동', '금호2·3가동', '염리동', '상도1동', '수서동', '전농1동', '일원1동', '내곡동', '대림2동', '중곡3동', '광장동', '한남동', '망우3동', '신사2동', '북아현동', '개봉3동', '서초1동', '장위1동', '무악동', '가락2동', '성북동', '상계9동', '용신동', '청담동', '당산2동', '왕십리2동', '금호1가동', '신정4동', '신월5동', '화곡6동', '신사1동', '아현동', '장지동', '사당5동', '송천동', '독산4동', '구의1동', '종로5·6가동', '목5동', '월계1동', '쌍문2동', '상암동', '면목3·8동', '홍제1동', '반포2동', '수유3동', '혜화동', '면목5동', '가회동', '응암2동', '중앙동', '행당1동', '길음1동', '금호4가동', '공릉1동', '망원2동', '잠실본동', '가양2동', '가양1동', '북가좌2동', '가리봉동', '창1동', '용문동', '보문동', '여의동', '평창동', '행당2동', '월곡2동', '일원2동', '우이동', '성수1가1동', '화곡본동', '상봉2동', '상계2동', '삼전동', '이태원1동', '방배본동', '화곡1동', '방배4동', '상도4동', '신월2동', '서원동', '신사동', '반포3동', '당산1동', '연희동', '문정2동', '신당동', '이촌2동', '역삼1동', '명일2동', '군자동', '휘경2동', '목1동', '망우본동', '중화2동', '성수2가3동', '쌍문1동', '서초4동', '월곡1동', '이태원2동', '수궁동', '풍납2동', '남가좌1동', '상계10동', '상일동', '삼선동', '월계2동', '잠실7동', '중림동', '우장산동', '송파2동', '월계3동', '자양2동', '양평1동', '휘경1동', '불광1동', '서초2동', '남가좌2동', '효창동', '신림동', '화양동', '천호3동', '인수동', '동선동', '양재2동', '응봉동', '정릉2동', '쌍문3동', '도곡2동', '구의2동', '청파동', '미성동', '중곡4동', '수유1동', '방배3동', '번1동', '소공동', '연남동', '응암3동', '신수동', '염창동', '풍납1동', '동화동', '구로1동', '상계5동', '낙성대동', '잠실4동', '방학3동', '청룡동', '방이2동', '시흥4동', '홍제2동', '사당3동', '흑석동', '공항동', '장안2동', '도화동', '하계2동', '신대방2동', '가산동', '위례동', '오류1동', '천호1동', '창5동', '쌍문4동', '대림1동', '반포4동', '대조동', '서강동', '가락본동', '잠실6동', '성산1동', '신길5동', '신길1동', '불광2동', '사근동', '방화2동', '돈암1동', '오금동', '성수2가1동', '안암동', '장위3동', '돈암2동', '홍제3동', '신정6동', '을지로동', '대흥동', '거여1동', '대치1동', '서초3동', '보라매동', '양평2동', '개봉2동', '청운효자동', '개봉1동', '잠실2동', '성수1가2동', '중계본동', '강일동', '신월4동', '성현동', '노량진2동', '대학동', '남현동', '창3동', '성내2동', '독산3동', '도림동', '자양4동', '삼청동', '진관동', '광희동', '신길6동', '논현1동', '화곡3동', '신길3동', '일원본동', '회현동', '대치2동', '신월3동', '수유2동', '문래동', '사당1동', '번3동', '후암동', '중곡2동', '부암동', '용강동', '회기동', '상계3·4동', '삼성2동', '잠실3동', '화곡4동', '전농2동', '녹번동', '면목2동', '도봉1동', '시흥2동', '상봉1동', '역촌동', '창신2동', '묵1동', '이문2동', '수색동', '구로4동', '둔촌2동', '대림3동', '고척2동', '마장동', '암사2동', '상도3동', '고덕1동', '시흥5동', '옥수동', '오륜동', '용산2가동', '문정1동', '보광동', '신원동', '삼성1동', '노량진1동', '길음2동', '신월7동', '상계6·7동', '신길7동', '성내3동', '청림동', '서교동', '면목본동', '답십리2동', '은천동', '마천1동', '방이1동', '자양1동', '구로3동', '고덕2동', '송중동', '상도2동', '제기동', '사당4동', '자양3동', '이화동', '약수동', '석관동', '신촌동', '중화1동', '방학1동', '인헌동', '도봉2동', '번2동', '구산동', '충현동', '가락1동', '삼각산동', '정릉3동', '합정동', '개포4동', '정릉1동', '창4동', '홍은2동', '도곡1동', '신월6동', '청량리동', '독산2동', '오류2동', '미아동', '원효로2동', '면목4동', '장안1동', '양재1동', '반포1동', '가양3동', '목4동', '방배1동', '구로2동', '신월1동', '신길4동', '길동', '신내1동', '공덕동', '중곡1동', '구의3동', '반포본동', '청구동', '잠원동', '이촌1동', '거여2동', '영등포본동', '창신1동', '숭인1동', '신정7동', '개포1동', '행운동', '조원동', '북가좌1동', '대방동', '공릉2동', '방화3동', '화곡8동', '석촌동', '신내2동', '면목7동', '역삼2동', '창2동', '묵2동', '대치4동', '다산동', '왕십리도선동', '암사1동', '난곡동', '마천2동', '삼성동', '명일1동', '구로5동', '천연동', '명동', '종암동', '송파1동', '상계1동', '교남동', '암사3동', '천호2동', '시흥3동', '방학2동', '남영동', '종로1·2·3·4가동', '사직동', '장충동', '신당5동', '신도림동', '등촌1동', '신정2동', '신정3동', '화곡2동', '사당2동', '한강로동', '능동', '이문1동', '상계8동', '개포2동', '홍은1동', '목2동', '답십리1동', '신대방1동', '중계1동', '원효로1동', '갈현1동', '숭인2동', '등촌2동', '시흥1동', '관악구 신사동', '방화1동', '방배2동', '서빙고동', '고척1동', '서림동', '하계1동', '논현2동', '성산2동', '압구정동', '난향동', '독산1동', '삼양동', '장위2동', '세곡동', '창신3동', '응암1동', '용답동', '중계4동', '영등포동', '증산동', '황학동', '정릉4동', '성내1동', '신정1동', '발산1동', '송정동', '망원1동', '필동'}\n",
      "\n",
      "A에만 있는 값:\n",
      "set()\n",
      "\n",
      "B에만 있는 값:\n",
      "set()\n"
     ]
    }
   ],
   "source": [
    "Data_Comparison(resident, store, '행정동')"
   ]
  },
  {
   "cell_type": "code",
   "execution_count": 109,
   "metadata": {},
   "outputs": [
    {
     "name": "stdout",
     "output_type": "stream",
     "text": [
      "A와 B에 모두 있는 값:\n",
      "{'목3동', '등촌3동', '갈현2동', '중계2·3동', '금호2·3가동', '염리동', '상도1동', '수서동', '전농1동', '일원1동', '내곡동', '대림2동', '중곡3동', '광장동', '한남동', '망우3동', '신사2동', '북아현동', '개봉3동', '서초1동', '장위1동', '무악동', '가락2동', '성북동', '상계9동', '용신동', '청담동', '당산2동', '왕십리2동', '금호1가동', '신정4동', '신월5동', '화곡6동', '신사1동', '아현동', '장지동', '사당5동', '송천동', '독산4동', '구의1동', '종로5·6가동', '목5동', '월계1동', '쌍문2동', '상암동', '면목3·8동', '홍제1동', '반포2동', '수유3동', '혜화동', '면목5동', '가회동', '응암2동', '중앙동', '행당1동', '길음1동', '금호4가동', '공릉1동', '망원2동', '잠실본동', '가양2동', '가양1동', '북가좌2동', '가리봉동', '창1동', '용문동', '보문동', '여의동', '평창동', '행당2동', '월곡2동', '일원2동', '우이동', '성수1가1동', '화곡본동', '상봉2동', '상계2동', '삼전동', '이태원1동', '방배본동', '화곡1동', '방배4동', '상도4동', '신월2동', '서원동', '신사동', '반포3동', '당산1동', '연희동', '문정2동', '신당동', '이촌2동', '역삼1동', '명일2동', '군자동', '휘경2동', '목1동', '망우본동', '중화2동', '성수2가3동', '쌍문1동', '서초4동', '월곡1동', '이태원2동', '수궁동', '풍납2동', '남가좌1동', '상계10동', '상일동', '삼선동', '월계2동', '잠실7동', '중림동', '우장산동', '송파2동', '월계3동', '자양2동', '양평1동', '휘경1동', '불광1동', '서초2동', '남가좌2동', '효창동', '신림동', '화양동', '천호3동', '인수동', '동선동', '양재2동', '응봉동', '정릉2동', '쌍문3동', '도곡2동', '구의2동', '청파동', '미성동', '중곡4동', '수유1동', '방배3동', '번1동', '소공동', '연남동', '응암3동', '신수동', '염창동', '풍납1동', '동화동', '구로1동', '상계5동', '낙성대동', '잠실4동', '방학3동', '청룡동', '방이2동', '시흥4동', '홍제2동', '사당3동', '흑석동', '공항동', '장안2동', '도화동', '하계2동', '신대방2동', '가산동', '위례동', '오류1동', '천호1동', '창5동', '쌍문4동', '대림1동', '반포4동', '대조동', '서강동', '가락본동', '잠실6동', '성산1동', '신길5동', '신길1동', '불광2동', '사근동', '방화2동', '돈암1동', '오금동', '성수2가1동', '안암동', '장위3동', '돈암2동', '홍제3동', '신정6동', '을지로동', '대흥동', '거여1동', '대치1동', '서초3동', '보라매동', '양평2동', '개봉2동', '청운효자동', '개봉1동', '잠실2동', '성수1가2동', '중계본동', '강일동', '신월4동', '성현동', '노량진2동', '대학동', '남현동', '창3동', '성내2동', '독산3동', '도림동', '자양4동', '삼청동', '진관동', '광희동', '신길6동', '논현1동', '화곡3동', '신길3동', '일원본동', '회현동', '대치2동', '신월3동', '수유2동', '문래동', '사당1동', '번3동', '후암동', '중곡2동', '부암동', '용강동', '회기동', '상계3·4동', '삼성2동', '잠실3동', '화곡4동', '전농2동', '녹번동', '면목2동', '도봉1동', '시흥2동', '상봉1동', '역촌동', '창신2동', '묵1동', '이문2동', '수색동', '구로4동', '둔촌2동', '대림3동', '고척2동', '마장동', '암사2동', '상도3동', '고덕1동', '시흥5동', '옥수동', '오륜동', '용산2가동', '문정1동', '보광동', '신원동', '삼성1동', '노량진1동', '길음2동', '신월7동', '상계6·7동', '신길7동', '성내3동', '청림동', '서교동', '면목본동', '답십리2동', '은천동', '마천1동', '방이1동', '자양1동', '구로3동', '고덕2동', '송중동', '상도2동', '제기동', '사당4동', '자양3동', '이화동', '약수동', '석관동', '신촌동', '중화1동', '방학1동', '인헌동', '도봉2동', '번2동', '구산동', '충현동', '가락1동', '삼각산동', '정릉3동', '합정동', '개포4동', '정릉1동', '창4동', '홍은2동', '도곡1동', '신월6동', '청량리동', '독산2동', '오류2동', '미아동', '원효로2동', '면목4동', '장안1동', '양재1동', '반포1동', '가양3동', '목4동', '방배1동', '구로2동', '신월1동', '신길4동', '길동', '신내1동', '공덕동', '중곡1동', '구의3동', '반포본동', '청구동', '잠원동', '이촌1동', '거여2동', '영등포본동', '창신1동', '숭인1동', '신정7동', '개포1동', '행운동', '조원동', '북가좌1동', '대방동', '공릉2동', '방화3동', '화곡8동', '석촌동', '신내2동', '면목7동', '역삼2동', '창2동', '묵2동', '대치4동', '다산동', '왕십리도선동', '암사1동', '난곡동', '마천2동', '삼성동', '명일1동', '구로5동', '천연동', '명동', '종암동', '송파1동', '상계1동', '교남동', '암사3동', '천호2동', '시흥3동', '방학2동', '남영동', '종로1·2·3·4가동', '사직동', '장충동', '신당5동', '신도림동', '등촌1동', '신정2동', '신정3동', '화곡2동', '사당2동', '한강로동', '능동', '이문1동', '상계8동', '개포2동', '홍은1동', '목2동', '답십리1동', '신대방1동', '중계1동', '원효로1동', '갈현1동', '숭인2동', '등촌2동', '시흥1동', '관악구 신사동', '방화1동', '방배2동', '서빙고동', '고척1동', '서림동', '하계1동', '논현2동', '성산2동', '압구정동', '난향동', '독산1동', '삼양동', '장위2동', '세곡동', '창신3동', '응암1동', '용답동', '중계4동', '영등포동', '증산동', '황학동', '정릉4동', '성내1동', '신정1동', '발산1동', '송정동', '망원1동', '필동'}\n",
      "\n",
      "A에만 있는 값:\n",
      "set()\n",
      "\n",
      "B에만 있는 값:\n",
      "set()\n"
     ]
    }
   ],
   "source": [
    "Data_Comparison(sales, store, '행정동')"
   ]
  },
  {
   "cell_type": "code",
   "execution_count": 110,
   "metadata": {},
   "outputs": [
    {
     "name": "stdout",
     "output_type": "stream",
     "text": [
      "A와 B에 모두 있는 값:\n",
      "{20224, 20231, 20232, 20233, 20234, 20241, 20242, 20191, 20192, 20193, 20194, 20201, 20202, 20203, 20204, 20211, 20212, 20213, 20214, 20221, 20222, 20223}\n",
      "\n",
      "A에만 있는 값:\n",
      "set()\n",
      "\n",
      "B에만 있는 값:\n",
      "set()\n"
     ]
    }
   ],
   "source": [
    "Data_Comparison(sales, store, '년분기')"
   ]
  },
  {
   "cell_type": "code",
   "execution_count": 111,
   "metadata": {},
   "outputs": [
    {
     "name": "stdout",
     "output_type": "stream",
     "text": [
      "A와 B에 모두 있는 값:\n",
      "{'부동산중개업', '슈퍼마켓', '일반의류', '신발', '화장품', '네일숍', '화초', '컴퓨터및주변장치판매', '치과의원', '예술학원', '한식음식점', '세탁소', '운동/경기용품', '골프연습장', '전자상거래업', '자동차미용', '안경', '호프-간이주점', '당구장', '미곡판매', '중식음식점', '미용실', '핸드폰', '일반교습학원', '육류판매', '노래방', '제과점', '가구', '편의점', '시계및귀금속', '일식음식점', '서적', '애완동물', '가전제품수리', '스포츠 강습', '피부관리실', '의료기기', '섬유제품', '자전거 및 기타운송장비', '완구', '고시원', '양식음식점', '스포츠클럽', '문구', '분식전문점', '의약품', 'PC방', '가전제품', '일반의원', '철물점', '가방', '인테리어', '패스트푸드점', '청과상', '커피-음료', '외국어학원', '여관', '한의원', '자동차수리', '수산물판매', '치킨전문점', '반찬가게', '조명용품'}\n",
      "\n",
      "A에만 있는 값:\n",
      "set()\n",
      "\n",
      "B에만 있는 값:\n",
      "set()\n"
     ]
    }
   ],
   "source": [
    "Data_Comparison(sales, store, '업종명')"
   ]
  },
  {
   "cell_type": "markdown",
   "metadata": {},
   "source": [
    "<h1>데이터 병합 (거주인구 + 매출)</h1>"
   ]
  },
  {
   "cell_type": "code",
   "execution_count": 112,
   "metadata": {},
   "outputs": [],
   "source": [
    "residenth = resident.melt(\n",
    "    id_vars=[\"행정동\"], var_name=\"년분기\", value_name=\"인구수\"\n",
    ")"
   ]
  },
  {
   "cell_type": "code",
   "execution_count": null,
   "metadata": {},
   "outputs": [],
   "source": [
    "residenth[\"년분기\"] = residenth[\"년분기\"].astype(int)\n",
    "sales[\"년분기\"] = sales[\"년분기\"].astype(int)"
   ]
  },
  {
   "cell_type": "code",
   "execution_count": 114,
   "metadata": {},
   "outputs": [
    {
     "data": {
      "text/html": [
       "<div>\n",
       "<style scoped>\n",
       "    .dataframe tbody tr th:only-of-type {\n",
       "        vertical-align: middle;\n",
       "    }\n",
       "\n",
       "    .dataframe tbody tr th {\n",
       "        vertical-align: top;\n",
       "    }\n",
       "\n",
       "    .dataframe thead th {\n",
       "        text-align: right;\n",
       "    }\n",
       "</style>\n",
       "<table border=\"1\" class=\"dataframe\">\n",
       "  <thead>\n",
       "    <tr style=\"text-align: right;\">\n",
       "      <th></th>\n",
       "      <th>행정동</th>\n",
       "      <th>년분기</th>\n",
       "      <th>인구수</th>\n",
       "    </tr>\n",
       "  </thead>\n",
       "  <tbody>\n",
       "    <tr>\n",
       "      <th>0</th>\n",
       "      <td>가락1동</td>\n",
       "      <td>20191</td>\n",
       "      <td>20186</td>\n",
       "    </tr>\n",
       "    <tr>\n",
       "      <th>423</th>\n",
       "      <td>가락1동</td>\n",
       "      <td>20192</td>\n",
       "      <td>26063</td>\n",
       "    </tr>\n",
       "    <tr>\n",
       "      <th>846</th>\n",
       "      <td>가락1동</td>\n",
       "      <td>20193</td>\n",
       "      <td>27207</td>\n",
       "    </tr>\n",
       "  </tbody>\n",
       "</table>\n",
       "</div>"
      ],
      "text/plain": [
       "      행정동    년분기    인구수\n",
       "0    가락1동  20191  20186\n",
       "423  가락1동  20192  26063\n",
       "846  가락1동  20193  27207"
      ]
     },
     "execution_count": 114,
     "metadata": {},
     "output_type": "execute_result"
    }
   ],
   "source": [
    "residenth[residenth['행정동'] == \"가락1동\"][:3]"
   ]
  },
  {
   "cell_type": "code",
   "execution_count": 115,
   "metadata": {},
   "outputs": [],
   "source": [
    "residenth_sales = sales.merge( residenth, how=\"left\", on=[\"행정동\", \"년분기\"] )"
   ]
  },
  {
   "cell_type": "code",
   "execution_count": 116,
   "metadata": {},
   "outputs": [
    {
     "name": "stdout",
     "output_type": "stream",
     "text": [
      "<class 'pandas.core.frame.DataFrame'>\n",
      "RangeIndex: 368339 entries, 0 to 368338\n",
      "Data columns (total 29 columns):\n",
      " #   Column         Non-Null Count   Dtype \n",
      "---  ------         --------------   ----- \n",
      " 0   년분기            368339 non-null  int64 \n",
      " 1   행정동_코드         368339 non-null  int64 \n",
      " 2   행정동            368339 non-null  object\n",
      " 3   업종명            368339 non-null  object\n",
      " 4   월매출            368339 non-null  int64 \n",
      " 5   주중매출           368339 non-null  int64 \n",
      " 6   주말매출           368339 non-null  int64 \n",
      " 7   월요일            368339 non-null  int64 \n",
      " 8   화요일            368339 non-null  int64 \n",
      " 9   수요일            368339 non-null  int64 \n",
      " 10  목요일            368339 non-null  int64 \n",
      " 11  금요일            368339 non-null  int64 \n",
      " 12  토요일            368339 non-null  int64 \n",
      " 13  일요일            368339 non-null  int64 \n",
      " 14  0006           368339 non-null  int64 \n",
      " 15  0611           368339 non-null  int64 \n",
      " 16  1114           368339 non-null  int64 \n",
      " 17  1417           368339 non-null  int64 \n",
      " 18  1721           368339 non-null  int64 \n",
      " 19  2124           368339 non-null  int64 \n",
      " 20  남성             368339 non-null  int64 \n",
      " 21  여성             368339 non-null  int64 \n",
      " 22  Age_10         368339 non-null  int64 \n",
      " 23  Age_20         368339 non-null  int64 \n",
      " 24  Age_30         368339 non-null  int64 \n",
      " 25  Age_40         368339 non-null  int64 \n",
      " 26  Age_50         368339 non-null  int64 \n",
      " 27  Age_60_to_end  368339 non-null  int64 \n",
      " 28  인구수            368339 non-null  int64 \n",
      "dtypes: int64(27), object(2)\n",
      "memory usage: 81.5+ MB\n"
     ]
    }
   ],
   "source": [
    "residenth_sales.info()"
   ]
  },
  {
   "cell_type": "code",
   "execution_count": 117,
   "metadata": {},
   "outputs": [
    {
     "data": {
      "text/html": [
       "<div>\n",
       "<style scoped>\n",
       "    .dataframe tbody tr th:only-of-type {\n",
       "        vertical-align: middle;\n",
       "    }\n",
       "\n",
       "    .dataframe tbody tr th {\n",
       "        vertical-align: top;\n",
       "    }\n",
       "\n",
       "    .dataframe thead th {\n",
       "        text-align: right;\n",
       "    }\n",
       "</style>\n",
       "<table border=\"1\" class=\"dataframe\">\n",
       "  <thead>\n",
       "    <tr style=\"text-align: right;\">\n",
       "      <th></th>\n",
       "      <th>년분기</th>\n",
       "      <th>행정동_코드</th>\n",
       "      <th>행정동</th>\n",
       "      <th>업종명</th>\n",
       "      <th>월매출</th>\n",
       "      <th>주중매출</th>\n",
       "      <th>주말매출</th>\n",
       "      <th>월요일</th>\n",
       "      <th>화요일</th>\n",
       "      <th>수요일</th>\n",
       "      <th>...</th>\n",
       "      <th>2124</th>\n",
       "      <th>남성</th>\n",
       "      <th>여성</th>\n",
       "      <th>Age_10</th>\n",
       "      <th>Age_20</th>\n",
       "      <th>Age_30</th>\n",
       "      <th>Age_40</th>\n",
       "      <th>Age_50</th>\n",
       "      <th>Age_60_to_end</th>\n",
       "      <th>인구수</th>\n",
       "    </tr>\n",
       "  </thead>\n",
       "  <tbody>\n",
       "    <tr>\n",
       "      <th>295</th>\n",
       "      <td>20191</td>\n",
       "      <td>11620685</td>\n",
       "      <td>관악구 신사동</td>\n",
       "      <td>인테리어</td>\n",
       "      <td>14987007</td>\n",
       "      <td>14987007</td>\n",
       "      <td>0</td>\n",
       "      <td>0</td>\n",
       "      <td>0</td>\n",
       "      <td>0</td>\n",
       "      <td>...</td>\n",
       "      <td>0</td>\n",
       "      <td>2702575</td>\n",
       "      <td>12284432</td>\n",
       "      <td>0</td>\n",
       "      <td>0</td>\n",
       "      <td>12284432</td>\n",
       "      <td>0</td>\n",
       "      <td>2702575</td>\n",
       "      <td>0</td>\n",
       "      <td>17761</td>\n",
       "    </tr>\n",
       "  </tbody>\n",
       "</table>\n",
       "<p>1 rows × 29 columns</p>\n",
       "</div>"
      ],
      "text/plain": [
       "       년분기    행정동_코드      행정동   업종명       월매출      주중매출  주말매출  월요일  화요일  수요일  \\\n",
       "295  20191  11620685  관악구 신사동  인테리어  14987007  14987007     0    0    0    0   \n",
       "\n",
       "     ...  2124       남성        여성  Age_10  Age_20    Age_30  Age_40   Age_50  \\\n",
       "295  ...     0  2702575  12284432       0       0  12284432       0  2702575   \n",
       "\n",
       "     Age_60_to_end    인구수  \n",
       "295              0  17761  \n",
       "\n",
       "[1 rows x 29 columns]"
      ]
     },
     "execution_count": 117,
     "metadata": {},
     "output_type": "execute_result"
    }
   ],
   "source": [
    "a = residenth_sales[residenth_sales['행정동'] == \"관악구 신사동\"]\n",
    "a.head(1)"
   ]
  },
  {
   "cell_type": "markdown",
   "metadata": {},
   "source": [
    "<h1>파일병합 (residenth_sales + store)</h1>"
   ]
  },
  {
   "cell_type": "code",
   "execution_count": null,
   "metadata": {},
   "outputs": [],
   "source": [
    "store[\"년분기\"] = store[\"년분기\"].astype(int)"
   ]
  },
  {
   "cell_type": "code",
   "execution_count": 119,
   "metadata": {},
   "outputs": [
    {
     "name": "stdout",
     "output_type": "stream",
     "text": [
      "<class 'pandas.core.frame.DataFrame'>\n",
      "RangeIndex: 558742 entries, 0 to 558741\n",
      "Data columns (total 4 columns):\n",
      " #   Column  Non-Null Count   Dtype \n",
      "---  ------  --------------   ----- \n",
      " 0   년분기     558742 non-null  int64 \n",
      " 1   행정동     558742 non-null  object\n",
      " 2   업종명     558742 non-null  object\n",
      " 3   점포_수    558742 non-null  int64 \n",
      "dtypes: int64(2), object(2)\n",
      "memory usage: 17.1+ MB\n"
     ]
    }
   ],
   "source": [
    "store.info()"
   ]
  },
  {
   "cell_type": "code",
   "execution_count": 120,
   "metadata": {},
   "outputs": [],
   "source": [
    "residenth_sales_store = residenth_sales.merge( store, how=\"left\", on=[\"행정동\", \"년분기\", \"업종명\"] )"
   ]
  },
  {
   "cell_type": "code",
   "execution_count": 121,
   "metadata": {},
   "outputs": [
    {
     "name": "stdout",
     "output_type": "stream",
     "text": [
      "<class 'pandas.core.frame.DataFrame'>\n",
      "RangeIndex: 369095 entries, 0 to 369094\n",
      "Data columns (total 30 columns):\n",
      " #   Column         Non-Null Count   Dtype \n",
      "---  ------         --------------   ----- \n",
      " 0   년분기            369095 non-null  int64 \n",
      " 1   행정동_코드         369095 non-null  int64 \n",
      " 2   행정동            369095 non-null  object\n",
      " 3   업종명            369095 non-null  object\n",
      " 4   월매출            369095 non-null  int64 \n",
      " 5   주중매출           369095 non-null  int64 \n",
      " 6   주말매출           369095 non-null  int64 \n",
      " 7   월요일            369095 non-null  int64 \n",
      " 8   화요일            369095 non-null  int64 \n",
      " 9   수요일            369095 non-null  int64 \n",
      " 10  목요일            369095 non-null  int64 \n",
      " 11  금요일            369095 non-null  int64 \n",
      " 12  토요일            369095 non-null  int64 \n",
      " 13  일요일            369095 non-null  int64 \n",
      " 14  0006           369095 non-null  int64 \n",
      " 15  0611           369095 non-null  int64 \n",
      " 16  1114           369095 non-null  int64 \n",
      " 17  1417           369095 non-null  int64 \n",
      " 18  1721           369095 non-null  int64 \n",
      " 19  2124           369095 non-null  int64 \n",
      " 20  남성             369095 non-null  int64 \n",
      " 21  여성             369095 non-null  int64 \n",
      " 22  Age_10         369095 non-null  int64 \n",
      " 23  Age_20         369095 non-null  int64 \n",
      " 24  Age_30         369095 non-null  int64 \n",
      " 25  Age_40         369095 non-null  int64 \n",
      " 26  Age_50         369095 non-null  int64 \n",
      " 27  Age_60_to_end  369095 non-null  int64 \n",
      " 28  인구수            369095 non-null  int64 \n",
      " 29  점포_수           369095 non-null  int64 \n",
      "dtypes: int64(28), object(2)\n",
      "memory usage: 84.5+ MB\n"
     ]
    }
   ],
   "source": [
    "residenth_sales_store.info()"
   ]
  },
  {
   "cell_type": "code",
   "execution_count": 124,
   "metadata": {},
   "outputs": [
    {
     "data": {
      "text/html": [
       "<div>\n",
       "<style scoped>\n",
       "    .dataframe tbody tr th:only-of-type {\n",
       "        vertical-align: middle;\n",
       "    }\n",
       "\n",
       "    .dataframe tbody tr th {\n",
       "        vertical-align: top;\n",
       "    }\n",
       "\n",
       "    .dataframe thead th {\n",
       "        text-align: right;\n",
       "    }\n",
       "</style>\n",
       "<table border=\"1\" class=\"dataframe\">\n",
       "  <thead>\n",
       "    <tr style=\"text-align: right;\">\n",
       "      <th></th>\n",
       "      <th>년분기</th>\n",
       "      <th>행정동_코드</th>\n",
       "      <th>행정동</th>\n",
       "      <th>업종명</th>\n",
       "      <th>월매출</th>\n",
       "      <th>주중매출</th>\n",
       "      <th>주말매출</th>\n",
       "      <th>월요일</th>\n",
       "      <th>화요일</th>\n",
       "      <th>수요일</th>\n",
       "      <th>...</th>\n",
       "      <th>남성</th>\n",
       "      <th>여성</th>\n",
       "      <th>Age_10</th>\n",
       "      <th>Age_20</th>\n",
       "      <th>Age_30</th>\n",
       "      <th>Age_40</th>\n",
       "      <th>Age_50</th>\n",
       "      <th>Age_60_to_end</th>\n",
       "      <th>인구수</th>\n",
       "      <th>점포_수</th>\n",
       "    </tr>\n",
       "  </thead>\n",
       "  <tbody>\n",
       "    <tr>\n",
       "      <th>295</th>\n",
       "      <td>20191</td>\n",
       "      <td>11620685</td>\n",
       "      <td>관악구 신사동</td>\n",
       "      <td>인테리어</td>\n",
       "      <td>14987007</td>\n",
       "      <td>14987007</td>\n",
       "      <td>0</td>\n",
       "      <td>0</td>\n",
       "      <td>0</td>\n",
       "      <td>0</td>\n",
       "      <td>...</td>\n",
       "      <td>2702575</td>\n",
       "      <td>12284432</td>\n",
       "      <td>0</td>\n",
       "      <td>0</td>\n",
       "      <td>12284432</td>\n",
       "      <td>0</td>\n",
       "      <td>2702575</td>\n",
       "      <td>0</td>\n",
       "      <td>17761</td>\n",
       "      <td>20</td>\n",
       "    </tr>\n",
       "  </tbody>\n",
       "</table>\n",
       "<p>1 rows × 30 columns</p>\n",
       "</div>"
      ],
      "text/plain": [
       "       년분기    행정동_코드      행정동   업종명       월매출      주중매출  주말매출  월요일  화요일  수요일  \\\n",
       "295  20191  11620685  관악구 신사동  인테리어  14987007  14987007     0    0    0    0   \n",
       "\n",
       "     ...       남성        여성  Age_10  Age_20    Age_30  Age_40   Age_50  \\\n",
       "295  ...  2702575  12284432       0       0  12284432       0  2702575   \n",
       "\n",
       "     Age_60_to_end    인구수  점포_수  \n",
       "295              0  17761    20  \n",
       "\n",
       "[1 rows x 30 columns]"
      ]
     },
     "execution_count": 124,
     "metadata": {},
     "output_type": "execute_result"
    }
   ],
   "source": [
    "a = residenth_sales_store[residenth_sales_store['행정동'] == \"관악구 신사동\"]\n",
    "a.head(1)"
   ]
  }
 ],
 "metadata": {
  "kernelspec": {
   "display_name": "human-da-env",
   "language": "python",
   "name": "python3"
  },
  "language_info": {
   "codemirror_mode": {
    "name": "ipython",
    "version": 3
   },
   "file_extension": ".py",
   "mimetype": "text/x-python",
   "name": "python",
   "nbconvert_exporter": "python",
   "pygments_lexer": "ipython3",
   "version": "3.12.7"
  }
 },
 "nbformat": 4,
 "nbformat_minor": 2
}
