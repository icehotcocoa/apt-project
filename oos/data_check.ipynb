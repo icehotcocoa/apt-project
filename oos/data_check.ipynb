{
 "cells": [
  {
   "cell_type": "code",
   "execution_count": 2,
   "metadata": {},
   "outputs": [],
   "source": [
    "import pandas as pd"
   ]
  },
  {
   "cell_type": "markdown",
   "metadata": {},
   "source": [
    "거주인구데이터"
   ]
  },
  {
   "cell_type": "code",
   "execution_count": 3,
   "metadata": {},
   "outputs": [],
   "source": [
    "data = pd.read_csv(\"Resident_Population_Dong424.csv\")"
   ]
  },
  {
   "cell_type": "code",
   "execution_count": 4,
   "metadata": {},
   "outputs": [
    {
     "name": "stdout",
     "output_type": "stream",
     "text": [
      "<class 'pandas.core.frame.DataFrame'>\n",
      "RangeIndex: 424 entries, 0 to 423\n",
      "Data columns (total 23 columns):\n",
      " #   Column  Non-Null Count  Dtype \n",
      "---  ------  --------------  ----- \n",
      " 0   동별      424 non-null    object\n",
      " 1   20191   424 non-null    int64 \n",
      " 2   20192   424 non-null    int64 \n",
      " 3   20193   424 non-null    int64 \n",
      " 4   20194   424 non-null    int64 \n",
      " 5   20201   424 non-null    int64 \n",
      " 6   20202   424 non-null    int64 \n",
      " 7   20203   424 non-null    int64 \n",
      " 8   20204   424 non-null    int64 \n",
      " 9   20211   424 non-null    int64 \n",
      " 10  20212   424 non-null    int64 \n",
      " 11  20213   424 non-null    int64 \n",
      " 12  20214   424 non-null    int64 \n",
      " 13  20221   424 non-null    int64 \n",
      " 14  20222   424 non-null    int64 \n",
      " 15  20223   424 non-null    int64 \n",
      " 16  20224   424 non-null    int64 \n",
      " 17  20231   424 non-null    int64 \n",
      " 18  20232   424 non-null    int64 \n",
      " 19  20233   424 non-null    int64 \n",
      " 20  20234   424 non-null    int64 \n",
      " 21  20241   424 non-null    int64 \n",
      " 22  20242   424 non-null    int64 \n",
      "dtypes: int64(22), object(1)\n",
      "memory usage: 76.3+ KB\n"
     ]
    }
   ],
   "source": [
    "data.info()"
   ]
  },
  {
   "cell_type": "markdown",
   "metadata": {},
   "source": [
    "개폐업정보"
   ]
  },
  {
   "cell_type": "code",
   "execution_count": 5,
   "metadata": {},
   "outputs": [],
   "source": [
    "data = pd.read_csv(\"Sorted_Number_of_Stores.csv\")"
   ]
  },
  {
   "cell_type": "code",
   "execution_count": 6,
   "metadata": {},
   "outputs": [
    {
     "data": {
      "text/plain": [
       "(22, 424, 63)"
      ]
     },
     "execution_count": 6,
     "metadata": {},
     "output_type": "execute_result"
    }
   ],
   "source": [
    "data['년분기'].nunique(), data['행정동'].nunique(), data['업종명'].nunique()"
   ]
  },
  {
   "cell_type": "code",
   "execution_count": 7,
   "metadata": {},
   "outputs": [
    {
     "name": "stdout",
     "output_type": "stream",
     "text": [
      "<class 'pandas.core.frame.DataFrame'>\n",
      "RangeIndex: 559356 entries, 0 to 559355\n",
      "Data columns (total 7 columns):\n",
      " #   Column      Non-Null Count   Dtype \n",
      "---  ------      --------------   ----- \n",
      " 0   년분기         559356 non-null  int64 \n",
      " 1   행정동         559356 non-null  object\n",
      " 2   업종명         559356 non-null  object\n",
      " 3   점포_수        559356 non-null  int64 \n",
      " 4   개업_점포_수     559356 non-null  int64 \n",
      " 5   폐업_점포_수     559356 non-null  int64 \n",
      " 6   프랜차이즈_점포_수  559356 non-null  int64 \n",
      "dtypes: int64(5), object(2)\n",
      "memory usage: 29.9+ MB\n"
     ]
    }
   ],
   "source": [
    "data.info()"
   ]
  }
 ],
 "metadata": {
  "kernelspec": {
   "display_name": "human-da-env",
   "language": "python",
   "name": "python3"
  },
  "language_info": {
   "codemirror_mode": {
    "name": "ipython",
    "version": 3
   },
   "file_extension": ".py",
   "mimetype": "text/x-python",
   "name": "python",
   "nbconvert_exporter": "python",
   "pygments_lexer": "ipython3",
   "version": "3.12.7"
  }
 },
 "nbformat": 4,
 "nbformat_minor": 2
}
