{
 "cells": [
  {
   "cell_type": "code",
   "execution_count": 1,
   "metadata": {},
   "outputs": [],
   "source": [
    "import pandas as pd\n",
    "import numpy as np\n",
    "import my_def\n",
    "import my_def3"
   ]
  },
  {
   "cell_type": "markdown",
   "metadata": {},
   "source": [
    "<h1>데이터확인 및 가공</h1>\n",
    "2분기 뒤 타겟값 매칭"
   ]
  },
  {
   "cell_type": "code",
   "execution_count": 2,
   "metadata": {},
   "outputs": [],
   "source": [
    "df = pd.read_csv('Merged_Sales_data_v2.6(shift2).csv')"
   ]
  },
  {
   "cell_type": "code",
   "execution_count": 3,
   "metadata": {},
   "outputs": [
    {
     "name": "stdout",
     "output_type": "stream",
     "text": [
      "<class 'pandas.core.frame.DataFrame'>\n",
      "RangeIndex: 65647 entries, 0 to 65646\n",
      "Data columns (total 15 columns):\n",
      " #   Column      Non-Null Count  Dtype  \n",
      "---  ------      --------------  -----  \n",
      " 0   년분기         65647 non-null  int64  \n",
      " 1   행정동         65647 non-null  object \n",
      " 2   업종별카테고리     65647 non-null  object \n",
      " 3   월매출(점포)     65647 non-null  int64  \n",
      " 4   인구수         65647 non-null  float64\n",
      " 5   지역생활인구      65647 non-null  float64\n",
      " 6   장기외국인       65647 non-null  float64\n",
      " 7   단기외국인       65647 non-null  float64\n",
      " 8   주차장면적(면)    65647 non-null  float64\n",
      " 9   주차장개수(개소)   65647 non-null  float64\n",
      " 10  학교수         65647 non-null  float64\n",
      " 11  학생수         65647 non-null  float64\n",
      " 12  버스정류장수      65647 non-null  float64\n",
      " 13  년분기_미룸      65647 non-null  float64\n",
      " 14  월매출_shift2  65647 non-null  float64\n",
      "dtypes: float64(11), int64(2), object(2)\n",
      "memory usage: 7.5+ MB\n"
     ]
    }
   ],
   "source": [
    "df.info()"
   ]
  },
  {
   "cell_type": "code",
   "execution_count": 4,
   "metadata": {},
   "outputs": [
    {
     "data": {
      "text/html": [
       "<div>\n",
       "<style scoped>\n",
       "    .dataframe tbody tr th:only-of-type {\n",
       "        vertical-align: middle;\n",
       "    }\n",
       "\n",
       "    .dataframe tbody tr th {\n",
       "        vertical-align: top;\n",
       "    }\n",
       "\n",
       "    .dataframe thead th {\n",
       "        text-align: right;\n",
       "    }\n",
       "</style>\n",
       "<table border=\"1\" class=\"dataframe\">\n",
       "  <thead>\n",
       "    <tr style=\"text-align: right;\">\n",
       "      <th></th>\n",
       "      <th>년분기</th>\n",
       "      <th>행정동</th>\n",
       "      <th>업종별카테고리</th>\n",
       "      <th>월매출(점포)</th>\n",
       "      <th>인구수</th>\n",
       "      <th>지역생활인구</th>\n",
       "      <th>장기외국인</th>\n",
       "      <th>단기외국인</th>\n",
       "      <th>주차장면적(면)</th>\n",
       "      <th>주차장개수(개소)</th>\n",
       "      <th>학교수</th>\n",
       "      <th>학생수</th>\n",
       "      <th>버스정류장수</th>\n",
       "      <th>년분기_미룸</th>\n",
       "      <th>월매출_shift2</th>\n",
       "    </tr>\n",
       "  </thead>\n",
       "  <tbody>\n",
       "    <tr>\n",
       "      <th>0</th>\n",
       "      <td>20191</td>\n",
       "      <td>가락1동</td>\n",
       "      <td>생활서비스</td>\n",
       "      <td>3975118</td>\n",
       "      <td>20186.0</td>\n",
       "      <td>523724.0</td>\n",
       "      <td>13892.0</td>\n",
       "      <td>1772.0</td>\n",
       "      <td>20942.0</td>\n",
       "      <td>83.0</td>\n",
       "      <td>3.0</td>\n",
       "      <td>1586.0</td>\n",
       "      <td>14.0</td>\n",
       "      <td>20193.0</td>\n",
       "      <td>1351685.0</td>\n",
       "    </tr>\n",
       "    <tr>\n",
       "      <th>3279</th>\n",
       "      <td>20192</td>\n",
       "      <td>가락1동</td>\n",
       "      <td>생활서비스</td>\n",
       "      <td>1526096</td>\n",
       "      <td>26063.0</td>\n",
       "      <td>663499.0</td>\n",
       "      <td>13194.0</td>\n",
       "      <td>1985.0</td>\n",
       "      <td>20942.0</td>\n",
       "      <td>83.0</td>\n",
       "      <td>3.0</td>\n",
       "      <td>1586.0</td>\n",
       "      <td>14.0</td>\n",
       "      <td>20194.0</td>\n",
       "      <td>668575.0</td>\n",
       "    </tr>\n",
       "    <tr>\n",
       "      <th>6561</th>\n",
       "      <td>20193</td>\n",
       "      <td>가락1동</td>\n",
       "      <td>생활서비스</td>\n",
       "      <td>1351685</td>\n",
       "      <td>27207.0</td>\n",
       "      <td>680319.0</td>\n",
       "      <td>14670.0</td>\n",
       "      <td>2080.0</td>\n",
       "      <td>20942.0</td>\n",
       "      <td>83.0</td>\n",
       "      <td>3.0</td>\n",
       "      <td>1780.0</td>\n",
       "      <td>14.0</td>\n",
       "      <td>20201.0</td>\n",
       "      <td>302797.0</td>\n",
       "    </tr>\n",
       "    <tr>\n",
       "      <th>9842</th>\n",
       "      <td>20194</td>\n",
       "      <td>가락1동</td>\n",
       "      <td>생활서비스</td>\n",
       "      <td>668575</td>\n",
       "      <td>27716.0</td>\n",
       "      <td>699589.0</td>\n",
       "      <td>13726.0</td>\n",
       "      <td>3373.0</td>\n",
       "      <td>20942.0</td>\n",
       "      <td>83.0</td>\n",
       "      <td>3.0</td>\n",
       "      <td>1780.0</td>\n",
       "      <td>14.0</td>\n",
       "      <td>20202.0</td>\n",
       "      <td>2652501.0</td>\n",
       "    </tr>\n",
       "    <tr>\n",
       "      <th>13122</th>\n",
       "      <td>20201</td>\n",
       "      <td>가락1동</td>\n",
       "      <td>생활서비스</td>\n",
       "      <td>302797</td>\n",
       "      <td>28032.0</td>\n",
       "      <td>722584.0</td>\n",
       "      <td>13916.0</td>\n",
       "      <td>3465.0</td>\n",
       "      <td>20268.0</td>\n",
       "      <td>57.0</td>\n",
       "      <td>3.0</td>\n",
       "      <td>2090.0</td>\n",
       "      <td>14.0</td>\n",
       "      <td>20203.0</td>\n",
       "      <td>3839465.0</td>\n",
       "    </tr>\n",
       "  </tbody>\n",
       "</table>\n",
       "</div>"
      ],
      "text/plain": [
       "         년분기   행정동 업종별카테고리  월매출(점포)      인구수    지역생활인구    장기외국인   단기외국인  \\\n",
       "0      20191  가락1동   생활서비스  3975118  20186.0  523724.0  13892.0  1772.0   \n",
       "3279   20192  가락1동   생활서비스  1526096  26063.0  663499.0  13194.0  1985.0   \n",
       "6561   20193  가락1동   생활서비스  1351685  27207.0  680319.0  14670.0  2080.0   \n",
       "9842   20194  가락1동   생활서비스   668575  27716.0  699589.0  13726.0  3373.0   \n",
       "13122  20201  가락1동   생활서비스   302797  28032.0  722584.0  13916.0  3465.0   \n",
       "\n",
       "       주차장면적(면)  주차장개수(개소)  학교수     학생수  버스정류장수   년분기_미룸  월매출_shift2  \n",
       "0       20942.0       83.0  3.0  1586.0    14.0  20193.0   1351685.0  \n",
       "3279    20942.0       83.0  3.0  1586.0    14.0  20194.0    668575.0  \n",
       "6561    20942.0       83.0  3.0  1780.0    14.0  20201.0    302797.0  \n",
       "9842    20942.0       83.0  3.0  1780.0    14.0  20202.0   2652501.0  \n",
       "13122   20268.0       57.0  3.0  2090.0    14.0  20203.0   3839465.0  "
      ]
     },
     "execution_count": 4,
     "metadata": {},
     "output_type": "execute_result"
    }
   ],
   "source": [
    "check_data = df[(df[\"행정동\"] == \"가락1동\") & (df[\"업종별카테고리\"] == \"생활서비스\")]\n",
    "check_data.head(5)"
   ]
  },
  {
   "cell_type": "code",
   "execution_count": 5,
   "metadata": {},
   "outputs": [
    {
     "data": {
      "text/plain": [
       "Index(['년분기', '행정동', '업종별카테고리', '월매출(점포)', '인구수', '지역생활인구', '장기외국인', '단기외국인',\n",
       "       '주차장면적(면)', '주차장개수(개소)', '학교수', '학생수', '버스정류장수', '년분기_미룸',\n",
       "       '월매출_shift2'],\n",
       "      dtype='object')"
      ]
     },
     "execution_count": 5,
     "metadata": {},
     "output_type": "execute_result"
    }
   ],
   "source": [
    "df.columns"
   ]
  },
  {
   "cell_type": "code",
   "execution_count": 6,
   "metadata": {},
   "outputs": [],
   "source": [
    "col = ['년분기', '행정동', '업종별카테고리', '인구수', '지역생활인구', '장기외국인', '단기외국인',\n",
    "       '주차장면적(면)', '주차장개수(개소)', '학교수', '학생수', '버스정류장수',\n",
    "       '월매출_shift2']\n",
    "df = df[col]"
   ]
  },
  {
   "cell_type": "code",
   "execution_count": 7,
   "metadata": {},
   "outputs": [],
   "source": [
    "df.columns = ['년분기', '행정동', '업종별카테고리', '인구수', '지역생활인구', '장기외국인', '단기외국인', '주차장면적(면)',\n",
    "       '주차장개수(개소)', '학교수', '학생수', '버스정류장수', '월매출(점포)']"
   ]
  },
  {
   "cell_type": "code",
   "execution_count": 8,
   "metadata": {},
   "outputs": [],
   "source": [
    "col = ['년분기', '인구수', '지역생활인구', '장기외국인', '단기외국인', '주차장면적(면)', '주차장개수(개소)', '학교수', '학생수', '버스정류장수', '월매출(점포)']\n",
    "df[col] = df[col].astype(int)"
   ]
  },
  {
   "cell_type": "code",
   "execution_count": 9,
   "metadata": {},
   "outputs": [
    {
     "name": "stdout",
     "output_type": "stream",
     "text": [
      "<class 'pandas.core.frame.DataFrame'>\n",
      "RangeIndex: 65647 entries, 0 to 65646\n",
      "Data columns (total 13 columns):\n",
      " #   Column     Non-Null Count  Dtype \n",
      "---  ------     --------------  ----- \n",
      " 0   년분기        65647 non-null  int16 \n",
      " 1   행정동        65647 non-null  object\n",
      " 2   업종별카테고리    65647 non-null  object\n",
      " 3   인구수        65647 non-null  int32 \n",
      " 4   지역생활인구     65647 non-null  int32 \n",
      " 5   장기외국인      65647 non-null  int32 \n",
      " 6   단기외국인      65647 non-null  int32 \n",
      " 7   주차장면적(면)   65647 non-null  int32 \n",
      " 8   주차장개수(개소)  65647 non-null  int16 \n",
      " 9   학교수        65647 non-null  int16 \n",
      " 10  학생수        65647 non-null  int16 \n",
      " 11  버스정류장수     65647 non-null  int16 \n",
      " 12  월매출(점포)    65647 non-null  int64 \n",
      "dtypes: int16(5), int32(5), int64(1), object(2)\n",
      "memory usage: 3.4+ MB\n",
      "None\n"
     ]
    }
   ],
   "source": [
    "df = my_def.reduce_memory_usage(df)"
   ]
  },
  {
   "cell_type": "code",
   "execution_count": 10,
   "metadata": {},
   "outputs": [
    {
     "data": {
      "text/html": [
       "<div>\n",
       "<style scoped>\n",
       "    .dataframe tbody tr th:only-of-type {\n",
       "        vertical-align: middle;\n",
       "    }\n",
       "\n",
       "    .dataframe tbody tr th {\n",
       "        vertical-align: top;\n",
       "    }\n",
       "\n",
       "    .dataframe thead th {\n",
       "        text-align: right;\n",
       "    }\n",
       "</style>\n",
       "<table border=\"1\" class=\"dataframe\">\n",
       "  <thead>\n",
       "    <tr style=\"text-align: right;\">\n",
       "      <th></th>\n",
       "      <th>년분기</th>\n",
       "      <th>행정동</th>\n",
       "      <th>업종별카테고리</th>\n",
       "      <th>인구수</th>\n",
       "      <th>지역생활인구</th>\n",
       "      <th>장기외국인</th>\n",
       "      <th>단기외국인</th>\n",
       "      <th>주차장면적(면)</th>\n",
       "      <th>주차장개수(개소)</th>\n",
       "      <th>학교수</th>\n",
       "      <th>학생수</th>\n",
       "      <th>버스정류장수</th>\n",
       "      <th>월매출(점포)</th>\n",
       "    </tr>\n",
       "  </thead>\n",
       "  <tbody>\n",
       "  </tbody>\n",
       "</table>\n",
       "</div>"
      ],
      "text/plain": [
       "Empty DataFrame\n",
       "Columns: [년분기, 행정동, 업종별카테고리, 인구수, 지역생활인구, 장기외국인, 단기외국인, 주차장면적(면), 주차장개수(개소), 학교수, 학생수, 버스정류장수, 월매출(점포)]\n",
       "Index: []"
      ]
     },
     "execution_count": 10,
     "metadata": {},
     "output_type": "execute_result"
    }
   ],
   "source": [
    "df[df[\"업종별카테고리\"] == \"기타\"]"
   ]
  },
  {
   "cell_type": "markdown",
   "metadata": {},
   "source": [
    "<h1>선형회귀 전체업종 적용</h1>"
   ]
  },
  {
   "cell_type": "code",
   "execution_count": 11,
   "metadata": {},
   "outputs": [
    {
     "data": {
      "text/plain": [
       "{'train_mse': np.float64(4.573330813444138e+16),\n",
       " 'test_mse': np.float64(4.865962267713436e+16),\n",
       " 'train_rmse': np.float64(213853473.52),\n",
       " 'test_rmse': np.float64(220589262.38),\n",
       " 'train_r2': 0.47,\n",
       " 'test_r2': 0.43,\n",
       " 'train_mae': np.float64(115314022.96),\n",
       " 'test_mae': np.float64(116905614.41),\n",
       " 'train_mae_ratio': np.float64(53.19),\n",
       " 'test_mae_ratio': np.float64(53.59)}"
      ]
     },
     "execution_count": 11,
     "metadata": {},
     "output_type": "execute_result"
    }
   ],
   "source": [
    "import pandas as pd\n",
    "from sklearn.model_selection import train_test_split\n",
    "from sklearn.linear_model import LinearRegression\n",
    "\n",
    "# '행정동'과 '업종별 카테고리' 컬럼 원핫 인코딩 수행\n",
    "df2 = pd.get_dummies(df, columns=['행정동', '업종별카테고리'], drop_first=True)\n",
    "\n",
    "# 피처와 타겟 설정\n",
    "features = (\n",
    "    ['년분기', '인구수', '지역생활인구', '장기외국인', '단기외국인', \n",
    "     '주차장면적(면)', '주차장개수(개소)', '학교수', '학생수', '버스정류장수'] +\n",
    "    [col for col in df2.columns if col.startswith('행정동_') or col.startswith('업종별카테고리_')]\n",
    ")\n",
    "target = '월매출(점포)'\n",
    "\n",
    "X = df2[features]\n",
    "y = df2[target]\n",
    "\n",
    "# 학습 데이터와 테스트 데이터 분리\n",
    "X_train, X_test, y_train, y_test = train_test_split(X, y, test_size=0.2, random_state=42)\n",
    "\n",
    "# 선형 회귀 모델 학습 및 예측\n",
    "model = LinearRegression()\n",
    "model.fit(X_train, y_train)\n",
    "y_pred = model.predict(X_test)\n",
    "\n",
    "# 모델 평가 호출\n",
    "my_def.evaluate_model(model, X_train, X_test, y_train, y_test)\n"
   ]
  },
  {
   "cell_type": "markdown",
   "metadata": {},
   "source": [
    "<h1>선형회귀 전체업종 적용 - PolynomialFeatures</h1>"
   ]
  },
  {
   "cell_type": "code",
   "execution_count": 12,
   "metadata": {},
   "outputs": [
    {
     "data": {
      "text/plain": [
       "{'train_mse': np.float64(4.62087950829865e+16),\n",
       " 'test_mse': np.float64(4.849144821183939e+16),\n",
       " 'train_rmse': np.float64(214962310.84),\n",
       " 'test_rmse': np.float64(220207738.76),\n",
       " 'train_r2': 0.46,\n",
       " 'test_r2': 0.44,\n",
       " 'train_mae': np.float64(116712311.05),\n",
       " 'test_mae': np.float64(118068447.42),\n",
       " 'train_mae_ratio': np.float64(53.84),\n",
       " 'test_mae_ratio': np.float64(54.12)}"
      ]
     },
     "execution_count": 12,
     "metadata": {},
     "output_type": "execute_result"
    }
   ],
   "source": [
    "import pandas as pd\n",
    "from sklearn.model_selection import train_test_split\n",
    "from sklearn.preprocessing import PolynomialFeatures\n",
    "from sklearn.linear_model import LinearRegression\n",
    "\n",
    "# '행정동'과 '업종별 카테고리' 컬럼 원핫 인코딩 수행\n",
    "categorical_features = ['행정동', '업종별카테고리']\n",
    "df_encoded = pd.get_dummies(df, columns=categorical_features, drop_first=True)\n",
    "\n",
    "# 수치형 피처 선택\n",
    "numerical_features = ['년분기', '인구수', '지역생활인구', '장기외국인', '단기외국인',\n",
    "                      '주차장면적(면)', '주차장개수(개소)', '학교수', '학생수', '버스정류장수']\n",
    "\n",
    "# 수치형 피처에 대해 폴리노미얼 피처 생성\n",
    "poly = PolynomialFeatures(degree=2, include_bias=False)\n",
    "numerical_poly = poly.fit_transform(df[numerical_features])\n",
    "\n",
    "# 폴리노미얼 피처 이름 생성\n",
    "poly_feature_names = poly.get_feature_names_out(numerical_features)\n",
    "\n",
    "# 폴리노미얼 피처를 데이터프레임으로 변환\n",
    "numerical_poly_df = pd.DataFrame(numerical_poly, columns=poly_feature_names, index=df.index)\n",
    "\n",
    "# 수치형(폴리노미얼) 데이터와 카테고리 데이터를 결합\n",
    "processed_df = pd.concat([numerical_poly_df, df_encoded.drop(columns=numerical_features + [target])], axis=1)\n",
    "\n",
    "# 피처와 타겟 설정\n",
    "features = processed_df.columns.tolist()\n",
    "target = '월매출(점포)'\n",
    "\n",
    "X = processed_df[features]\n",
    "y = df[target]\n",
    "\n",
    "# 학습 데이터와 테스트 데이터 분리\n",
    "X_train, X_test, y_train, y_test = train_test_split(X, y, test_size=0.2, random_state=42)\n",
    "\n",
    "# 선형 회귀 모델 학습 및 예측\n",
    "model = LinearRegression()\n",
    "model.fit(X_train, y_train)\n",
    "y_pred = model.predict(X_test)\n",
    "\n",
    "# 모델 평가 호출\n",
    "my_def.evaluate_model(model, X_train, X_test, y_train, y_test)"
   ]
  },
  {
   "cell_type": "markdown",
   "metadata": {},
   "source": [
    "<h1>랜덤포레스트 전체업종</h1>"
   ]
  },
  {
   "cell_type": "code",
   "execution_count": 13,
   "metadata": {},
   "outputs": [
    {
     "data": {
      "text/plain": [
       "{'train_mse': np.float64(625052302606478.8),\n",
       " 'test_mse': np.float64(4154839513969667.0),\n",
       " 'train_rmse': np.float64(25001046.03),\n",
       " 'test_rmse': np.float64(64458044.6),\n",
       " 'train_r2': 0.99,\n",
       " 'test_r2': 0.95,\n",
       " 'train_mae': np.float64(11354278.12),\n",
       " 'test_mae': np.float64(30243789.17),\n",
       " 'train_mae_ratio': np.float64(5.24),\n",
       " 'test_mae_ratio': np.float64(13.86)}"
      ]
     },
     "execution_count": 13,
     "metadata": {},
     "output_type": "execute_result"
    }
   ],
   "source": [
    "import pandas as pd\n",
    "from sklearn.model_selection import train_test_split\n",
    "from sklearn.ensemble import RandomForestRegressor\n",
    "\n",
    "# '행정동'과 '업종별 카테고리' 컬럼 원핫 인코딩 수행\n",
    "df2 = pd.get_dummies(df, columns=['행정동', '업종별카테고리'], drop_first=True)\n",
    "\n",
    "# 피처와 타겟 설정\n",
    "features = (\n",
    "    ['년분기', '인구수', '지역생활인구', '장기외국인', '단기외국인', \n",
    "     '주차장면적(면)', '주차장개수(개소)', '학교수', '학생수', '버스정류장수'] +\n",
    "    [col for col in df2.columns if col.startswith('행정동_') or col.startswith('업종별카테고리_')]\n",
    ")\n",
    "target = '월매출(점포)'\n",
    "\n",
    "X = df2[features]\n",
    "y = df2[target]\n",
    "\n",
    "# 학습 데이터와 테스트 데이터 분리\n",
    "X_train, X_test, y_train, y_test = train_test_split(X, y, test_size=0.2, random_state=42)\n",
    "\n",
    "# 선형 회귀 모델 학습 및 예측\n",
    "model = RandomForestRegressor(n_jobs=-1)\n",
    "model.fit(X_train, y_train)\n",
    "y_pred = model.predict(X_test)\n",
    "\n",
    "# 모델 평가 호출\n",
    "my_def.evaluate_model(model, X_train, X_test, y_train, y_test)\n"
   ]
  },
  {
   "cell_type": "code",
   "execution_count": 14,
   "metadata": {},
   "outputs": [
    {
     "data": {
      "image/png": "[encoded data removed]",
      "text/plain": [
       "<Figure size 1000x600 with 1 Axes>"
      ]
     },
     "metadata": {},
     "output_type": "display_data"
    },
    {
     "data": {
      "image/png": "[encoded data removed]",
      "text/plain": [
       "<Figure size 1000x600 with 1 Axes>"
      ]
     },
     "metadata": {},
     "output_type": "display_data"
    }
   ],
   "source": [
    "result_df = my_def3.plot_feature_importance(model, feature_names=X.columns.tolist(), top_n=15)"
   ]
  },
  {
   "cell_type": "code",
   "execution_count": 16,
   "metadata": {},
   "outputs": [
    {
     "data": {
      "text/html": [
       "<div>\n",
       "<style scoped>\n",
       "    .dataframe tbody tr th:only-of-type {\n",
       "        vertical-align: middle;\n",
       "    }\n",
       "\n",
       "    .dataframe tbody tr th {\n",
       "        vertical-align: top;\n",
       "    }\n",
       "\n",
       "    .dataframe thead th {\n",
       "        text-align: right;\n",
       "    }\n",
       "</style>\n",
       "<table border=\"1\" class=\"dataframe\">\n",
       "  <thead>\n",
       "    <tr style=\"text-align: right;\">\n",
       "      <th></th>\n",
       "      <th>Feature</th>\n",
       "      <th>Importance</th>\n",
       "    </tr>\n",
       "  </thead>\n",
       "  <tbody>\n",
       "    <tr>\n",
       "      <th>436</th>\n",
       "      <td>업종별카테고리_소매_편의</td>\n",
       "      <td>0.143267</td>\n",
       "    </tr>\n",
       "    <tr>\n",
       "      <th>438</th>\n",
       "      <td>업종별카테고리_의료_건강</td>\n",
       "      <td>0.142522</td>\n",
       "    </tr>\n",
       "    <tr>\n",
       "      <th>439</th>\n",
       "      <td>업종별카테고리_취미_레저</td>\n",
       "      <td>0.062817</td>\n",
       "    </tr>\n",
       "    <tr>\n",
       "      <th>9</th>\n",
       "      <td>버스정류장수</td>\n",
       "      <td>0.049636</td>\n",
       "    </tr>\n",
       "    <tr>\n",
       "      <th>6</th>\n",
       "      <td>주차장개수(개소)</td>\n",
       "      <td>0.043829</td>\n",
       "    </tr>\n",
       "  </tbody>\n",
       "</table>\n",
       "</div>"
      ],
      "text/plain": [
       "           Feature  Importance\n",
       "436  업종별카테고리_소매_편의    0.143267\n",
       "438  업종별카테고리_의료_건강    0.142522\n",
       "439  업종별카테고리_취미_레저    0.062817\n",
       "9           버스정류장수    0.049636\n",
       "6        주차장개수(개소)    0.043829"
      ]
     },
     "execution_count": 16,
     "metadata": {},
     "output_type": "execute_result"
    }
   ],
   "source": [
    "result_df.head(5)"
   ]
  },
  {
   "cell_type": "markdown",
   "metadata": {},
   "source": [
    "<h1>랜덤포레스트 - PolynomialFeatures</h1>"
   ]
  },
  {
   "cell_type": "code",
   "execution_count": null,
   "metadata": {},
   "outputs": [
    {
     "data": {
      "text/plain": [
       "{'train_mse': np.float64(5446589447767.84),\n",
       " 'test_mse': np.float64(19776430319000.88),\n",
       " 'train_rmse': np.float64(2333792.93),\n",
       " 'test_rmse': np.float64(4447069.86),\n",
       " 'train_r2': 1.0,\n",
       " 'test_r2': 1.0,\n",
       " 'train_mae': np.float64(62854.63),\n",
       " 'test_mae': np.float64(150071.86),\n",
       " 'train_mae_ratio': np.float64(0.03),\n",
       " 'test_mae_ratio': np.float64(0.07)}"
      ]
     },
     "execution_count": 23,
     "metadata": {},
     "output_type": "execute_result"
    }
   ],
   "source": [
    "\"\"\"\n",
    "import pandas as pd\n",
    "from sklearn.model_selection import train_test_split\n",
    "from sklearn.ensemble import RandomForestRegressor\n",
    "from sklearn.preprocessing import PolynomialFeatures\n",
    "\n",
    "# '행정동'과 '업종별 카테고리' 컬럼 원핫 인코딩 수행\n",
    "categorical_features = ['행정동', '업종별카테고리']\n",
    "df_encoded = pd.get_dummies(df, columns=categorical_features, drop_first=True)\n",
    "\n",
    "# 수치형 피처 선택\n",
    "numerical_features = ['년분기', '인구수', '지역생활인구', '장기외국인', '단기외국인',\n",
    "                      '주차장면적(면)', '주차장개수(개소)', '학교수', '학생수', '버스정류장수']\n",
    "\n",
    "# 수치형 피처에 대해 폴리노미얼 피처 생성\n",
    "poly = PolynomialFeatures(degree=2, include_bias=False)\n",
    "numerical_poly = poly.fit_transform(df[numerical_features])\n",
    "\n",
    "# 폴리노미얼 피처 이름 생성\n",
    "poly_feature_names = poly.get_feature_names_out(numerical_features)\n",
    "\n",
    "# 폴리노미얼 피처를 데이터프레임으로 변환\n",
    "numerical_poly_df = pd.DataFrame(numerical_poly, columns=poly_feature_names, index=df.index)\n",
    "\n",
    "# 수치형(폴리노미얼) 데이터와 카테고리 데이터를 결합\n",
    "processed_df = pd.concat([numerical_poly_df, df_encoded.drop(columns=numerical_features)], axis=1)\n",
    "\n",
    "# 피처와 타겟 설정\n",
    "features = processed_df.columns.tolist()  # 모든 변환된 피처 포함\n",
    "target = '월매출(점포)'\n",
    "\n",
    "X = processed_df[features]\n",
    "y = df[target]\n",
    "\n",
    "# 학습 데이터와 테스트 데이터 분리\n",
    "X_train, X_test, y_train, y_test = train_test_split(X, y, test_size=0.2, random_state=42)\n",
    "\n",
    "# 랜덤 포레스트 모델 학습 및 예측\n",
    "model = RandomForestRegressor(n_jobs=-1, random_state=42)\n",
    "model.fit(X_train, y_train)\n",
    "y_pred = model.predict(X_test)\n",
    "\n",
    "# 모델 평가 호출\n",
    "my_def.evaluate_model(model, X_train, X_test, y_train, y_test)\n",
    "\"\"\""
   ]
  },
  {
   "cell_type": "code",
   "execution_count": 17,
   "metadata": {},
   "outputs": [
    {
     "data": {
      "text/plain": [
       "{'train_mse': np.float64(807391543550742.5),\n",
       " 'test_mse': np.float64(5309230439946061.0),\n",
       " 'train_rmse': np.float64(28414636.08),\n",
       " 'test_rmse': np.float64(72864466.24),\n",
       " 'train_r2': 0.99,\n",
       " 'test_r2': 0.94,\n",
       " 'train_mae': np.float64(12484337.48),\n",
       " 'test_mae': np.float64(32873542.76),\n",
       " 'train_mae_ratio': np.float64(5.76),\n",
       " 'test_mae_ratio': np.float64(15.07)}"
      ]
     },
     "execution_count": 17,
     "metadata": {},
     "output_type": "execute_result"
    }
   ],
   "source": [
    "import pandas as pd\n",
    "from sklearn.model_selection import train_test_split\n",
    "from sklearn.ensemble import RandomForestRegressor\n",
    "from sklearn.preprocessing import PolynomialFeatures\n",
    "\n",
    "# '행정동'과 '업종별 카테고리' 컬럼 원핫 인코딩 수행\n",
    "categorical_features = ['행정동', '업종별카테고리']\n",
    "df_encoded = pd.get_dummies(df, columns=categorical_features, drop_first=True)\n",
    "\n",
    "# 수치형 피처 선택\n",
    "numerical_features = ['년분기', '인구수', '지역생활인구', '장기외국인', '단기외국인',\n",
    "                      '주차장면적(면)', '주차장개수(개소)', '학교수', '학생수', '버스정류장수']\n",
    "\n",
    "# 수치형 피처에 대해 폴리노미얼 피처 생성\n",
    "poly = PolynomialFeatures(degree=2, include_bias=False)\n",
    "numerical_poly = poly.fit_transform(df[numerical_features])\n",
    "\n",
    "# 폴리노미얼 피처 이름 생성\n",
    "poly_feature_names = poly.get_feature_names_out(numerical_features)\n",
    "\n",
    "# 폴리노미얼 피처를 데이터프레임으로 변환\n",
    "numerical_poly_df = pd.DataFrame(numerical_poly, columns=poly_feature_names, index=df.index)\n",
    "\n",
    "# 수치형(폴리노미얼) 데이터와 카테고리 데이터를 결합\n",
    "processed_df = pd.concat([numerical_poly_df, df_encoded.drop(columns=numerical_features + [target])], axis=1)\n",
    "\n",
    "# 피처와 타겟 설정\n",
    "features = processed_df.columns.tolist()  # 모든 변환된 피처 포함\n",
    "target = '월매출(점포)'\n",
    "\n",
    "X = processed_df[features]\n",
    "y = df[target]\n",
    "\n",
    "# 학습 데이터와 테스트 데이터 분리\n",
    "X_train, X_test, y_train, y_test = train_test_split(X, y, test_size=0.2, random_state=42)\n",
    "\n",
    "# 랜덤 포레스트 모델 학습 및 예측\n",
    "model = RandomForestRegressor(n_jobs=-1, random_state=42)\n",
    "model.fit(X_train, y_train)\n",
    "y_pred = model.predict(X_test)\n",
    "\n",
    "# 모델 평가 호출\n",
    "my_def.evaluate_model(model, X_train, X_test, y_train, y_test)\n"
   ]
  },
  {
   "cell_type": "code",
   "execution_count": 18,
   "metadata": {},
   "outputs": [
    {
     "data": {
      "image/png": "[encoded data removed]",
      "text/plain": [
       "<Figure size 1000x600 with 1 Axes>"
      ]
     },
     "metadata": {},
     "output_type": "display_data"
    },
    {
     "data": {
      "image/png": "[encoded data removed]",
      "text/plain": [
       "<Figure size 1000x600 with 1 Axes>"
      ]
     },
     "metadata": {},
     "output_type": "display_data"
    }
   ],
   "source": [
    "result_df = my_def3.plot_feature_importance(model, feature_names=X.columns.tolist(), top_n=10)"
   ]
  },
  {
   "cell_type": "code",
   "execution_count": 19,
   "metadata": {},
   "outputs": [
    {
     "data": {
      "text/html": [
       "<div>\n",
       "<style scoped>\n",
       "    .dataframe tbody tr th:only-of-type {\n",
       "        vertical-align: middle;\n",
       "    }\n",
       "\n",
       "    .dataframe tbody tr th {\n",
       "        vertical-align: top;\n",
       "    }\n",
       "\n",
       "    .dataframe thead th {\n",
       "        text-align: right;\n",
       "    }\n",
       "</style>\n",
       "<table border=\"1\" class=\"dataframe\">\n",
       "  <thead>\n",
       "    <tr style=\"text-align: right;\">\n",
       "      <th></th>\n",
       "      <th>Feature</th>\n",
       "      <th>Importance</th>\n",
       "    </tr>\n",
       "  </thead>\n",
       "  <tbody>\n",
       "    <tr>\n",
       "      <th>493</th>\n",
       "      <td>업종별카테고리_의료_건강</td>\n",
       "      <td>0.144038</td>\n",
       "    </tr>\n",
       "    <tr>\n",
       "      <th>491</th>\n",
       "      <td>업종별카테고리_소매_편의</td>\n",
       "      <td>0.142983</td>\n",
       "    </tr>\n",
       "    <tr>\n",
       "      <th>494</th>\n",
       "      <td>업종별카테고리_취미_레저</td>\n",
       "      <td>0.061886</td>\n",
       "    </tr>\n",
       "    <tr>\n",
       "      <th>492</th>\n",
       "      <td>업종별카테고리_식음료</td>\n",
       "      <td>0.027034</td>\n",
       "    </tr>\n",
       "    <tr>\n",
       "      <th>395</th>\n",
       "      <td>행정동_잠실3동</td>\n",
       "      <td>0.023468</td>\n",
       "    </tr>\n",
       "  </tbody>\n",
       "</table>\n",
       "</div>"
      ],
      "text/plain": [
       "           Feature  Importance\n",
       "493  업종별카테고리_의료_건강    0.144038\n",
       "491  업종별카테고리_소매_편의    0.142983\n",
       "494  업종별카테고리_취미_레저    0.061886\n",
       "492    업종별카테고리_식음료    0.027034\n",
       "395       행정동_잠실3동    0.023468"
      ]
     },
     "execution_count": 19,
     "metadata": {},
     "output_type": "execute_result"
    }
   ],
   "source": [
    "result_df.head(5)"
   ]
  },
  {
   "cell_type": "markdown",
   "metadata": {},
   "source": [
    "<h1>랜덤포레스트 특성 선택</h1>\n",
    "feature : 1개씩 삭제 후 평가 진행<br>"
   ]
  },
  {
   "cell_type": "code",
   "execution_count": null,
   "metadata": {},
   "outputs": [],
   "source": [
    "import pandas as pd\n",
    "import numpy as np\n",
    "from sklearn.ensemble import RandomForestRegressor\n",
    "from sklearn.metrics import r2_score, mean_absolute_error\n",
    "\n",
    "# 평가 결과 저장용 리스트\n",
    "results = []\n",
    "\n",
    "# 기본 피처 리스트\n",
    "base_features = [\n",
    "    '년분기', '인구수', '지역생활인구', '장기외국인', '단기외국인',\n",
    "    '주차장면적(면)', '주차장개수(개소)', '학교수', '학생수', '버스정류장수'\n",
    "]\n",
    "\n",
    "# 하나씩 피처를 제외하고 모델 학습 및 평가\n",
    "for feature_to_remove in base_features:\n",
    "    # 제외할 피처를 설정\n",
    "    selected_features = [f for f in base_features if f != feature_to_remove] + \\\n",
    "                        [col for col in df2.columns if col.startswith('행정동_') or col.startswith('업종별카테고리_')]\n",
    "\n",
    "    # 학습 데이터 준비\n",
    "    X = df2[selected_features]\n",
    "    y = df2[target]\n",
    "    X_train, X_test, y_train, y_test = train_test_split(X, y, test_size=0.2, random_state=42)\n",
    "\n",
    "    # 모델 학습\n",
    "    model = RandomForestRegressor(n_jobs=-1, random_state=42)\n",
    "    model.fit(X_train, y_train)\n",
    "    y_train_pred = model.predict(X_train)\n",
    "    y_test_pred = model.predict(X_test)\n",
    "\n",
    "    # 평가 메트릭 계산\n",
    "    train_r2 = r2_score(y_train, y_train_pred)\n",
    "    test_r2 = r2_score(y_test, y_test_pred)\n",
    "    train_mae_ratio = mean_absolute_error(y_train, y_train_pred) / y_train.mean() * 100\n",
    "    test_mae_ratio = mean_absolute_error(y_test, y_test_pred) / y_test.mean() * 100\n",
    "\n",
    "    # 결과 저장\n",
    "    results.append({\n",
    "        'Feature Removed': f'{feature_to_remove}(-)',\n",
    "        'Train R2': train_r2,\n",
    "        'Test R2': test_r2,\n",
    "        'Train MAE Ratio (%)': train_mae_ratio,\n",
    "        'Test MAE Ratio (%)': test_mae_ratio\n",
    "    })\n",
    "\n",
    "# 결과를 데이터프레임으로 변환\n",
    "results_df = pd.DataFrame(results)\n",
    "\n",
    "# 결과 출력\n",
    "results_df\n"
   ]
  },
  {
   "cell_type": "code",
   "execution_count": null,
   "metadata": {},
   "outputs": [
    {
     "data": {
      "text/html": [
       "<div>\n",
       "<style scoped>\n",
       "    .dataframe tbody tr th:only-of-type {\n",
       "        vertical-align: middle;\n",
       "    }\n",
       "\n",
       "    .dataframe tbody tr th {\n",
       "        vertical-align: top;\n",
       "    }\n",
       "\n",
       "    .dataframe thead th {\n",
       "        text-align: right;\n",
       "    }\n",
       "</style>\n",
       "<table border=\"1\" class=\"dataframe\">\n",
       "  <thead>\n",
       "    <tr style=\"text-align: right;\">\n",
       "      <th></th>\n",
       "      <th>Feature Removed</th>\n",
       "      <th>Train R2</th>\n",
       "      <th>Test R2</th>\n",
       "      <th>Train MAE Ratio (%)</th>\n",
       "      <th>Test MAE Ratio (%)</th>\n",
       "    </tr>\n",
       "  </thead>\n",
       "  <tbody>\n",
       "    <tr>\n",
       "      <th>4</th>\n",
       "      <td>단기외국인(-)</td>\n",
       "      <td>0.992612</td>\n",
       "      <td>0.949204</td>\n",
       "      <td>5.132205</td>\n",
       "      <td>13.657122</td>\n",
       "    </tr>\n",
       "    <tr>\n",
       "      <th>2</th>\n",
       "      <td>지역생활인구(-)</td>\n",
       "      <td>0.992778</td>\n",
       "      <td>0.948743</td>\n",
       "      <td>5.113111</td>\n",
       "      <td>13.662345</td>\n",
       "    </tr>\n",
       "    <tr>\n",
       "      <th>8</th>\n",
       "      <td>학생수(-)</td>\n",
       "      <td>0.992444</td>\n",
       "      <td>0.949404</td>\n",
       "      <td>5.194525</td>\n",
       "      <td>13.748624</td>\n",
       "    </tr>\n",
       "    <tr>\n",
       "      <th>3</th>\n",
       "      <td>장기외국인(-)</td>\n",
       "      <td>0.992373</td>\n",
       "      <td>0.951801</td>\n",
       "      <td>5.200775</td>\n",
       "      <td>13.789642</td>\n",
       "    </tr>\n",
       "    <tr>\n",
       "      <th>1</th>\n",
       "      <td>인구수(-)</td>\n",
       "      <td>0.992576</td>\n",
       "      <td>0.950587</td>\n",
       "      <td>5.192034</td>\n",
       "      <td>13.825615</td>\n",
       "    </tr>\n",
       "    <tr>\n",
       "      <th>5</th>\n",
       "      <td>주차장면적(면)(-)</td>\n",
       "      <td>0.992746</td>\n",
       "      <td>0.950129</td>\n",
       "      <td>5.216050</td>\n",
       "      <td>13.887526</td>\n",
       "    </tr>\n",
       "    <tr>\n",
       "      <th>7</th>\n",
       "      <td>학교수(-)</td>\n",
       "      <td>0.992395</td>\n",
       "      <td>0.949289</td>\n",
       "      <td>5.254963</td>\n",
       "      <td>13.952432</td>\n",
       "    </tr>\n",
       "    <tr>\n",
       "      <th>0</th>\n",
       "      <td>년분기(-)</td>\n",
       "      <td>0.992163</td>\n",
       "      <td>0.947006</td>\n",
       "      <td>5.293756</td>\n",
       "      <td>14.108624</td>\n",
       "    </tr>\n",
       "    <tr>\n",
       "      <th>6</th>\n",
       "      <td>주차장개수(개소)(-)</td>\n",
       "      <td>0.992069</td>\n",
       "      <td>0.949735</td>\n",
       "      <td>5.373121</td>\n",
       "      <td>14.218126</td>\n",
       "    </tr>\n",
       "    <tr>\n",
       "      <th>9</th>\n",
       "      <td>버스정류장수(-)</td>\n",
       "      <td>0.991438</td>\n",
       "      <td>0.945229</td>\n",
       "      <td>5.382195</td>\n",
       "      <td>14.258690</td>\n",
       "    </tr>\n",
       "  </tbody>\n",
       "</table>\n",
       "</div>"
      ],
      "text/plain": [
       "  Feature Removed  Train R2   Test R2  Train MAE Ratio (%)  Test MAE Ratio (%)\n",
       "4        단기외국인(-)  0.992612  0.949204             5.132205           13.657122\n",
       "2       지역생활인구(-)  0.992778  0.948743             5.113111           13.662345\n",
       "8          학생수(-)  0.992444  0.949404             5.194525           13.748624\n",
       "3        장기외국인(-)  0.992373  0.951801             5.200775           13.789642\n",
       "1          인구수(-)  0.992576  0.950587             5.192034           13.825615\n",
       "5     주차장면적(면)(-)  0.992746  0.950129             5.216050           13.887526\n",
       "7          학교수(-)  0.992395  0.949289             5.254963           13.952432\n",
       "0          년분기(-)  0.992163  0.947006             5.293756           14.108624\n",
       "6    주차장개수(개소)(-)  0.992069  0.949735             5.373121           14.218126\n",
       "9       버스정류장수(-)  0.991438  0.945229             5.382195           14.258690"
      ]
     },
     "execution_count": 22,
     "metadata": {},
     "output_type": "execute_result"
    }
   ],
   "source": [
    "# 피쳐 하나씩 뺏을때 랜덤포레스트 성능 평가\n",
    "results_df.sort_values(by=\"Test MAE Ratio (%)\", ascending=True)"
   ]
  },
  {
   "cell_type": "markdown",
   "metadata": {},
   "source": [
    "<h1>랜덤포레스트 하이퍼 파라미터 1차 조정</h1>\n",
    "feature : 단기외국인 삭제<br>\n",
    "n_estimators : 300"
   ]
  },
  {
   "cell_type": "code",
   "execution_count": 26,
   "metadata": {},
   "outputs": [
    {
     "data": {
      "text/plain": [
       "{'train_mse': np.float64(602356794412602.5),\n",
       " 'test_mse': np.float64(4250289983762827.0),\n",
       " 'train_rmse': np.float64(24542958.14),\n",
       " 'test_rmse': np.float64(65194248.09),\n",
       " 'train_r2': 0.99,\n",
       " 'test_r2': 0.95,\n",
       " 'train_mae': np.float64(10906757.99),\n",
       " 'test_mae': np.float64(29488150.34),\n",
       " 'train_mae_ratio': np.float64(5.03),\n",
       " 'test_mae_ratio': np.float64(13.52)}"
      ]
     },
     "execution_count": 26,
     "metadata": {},
     "output_type": "execute_result"
    }
   ],
   "source": [
    "import pandas as pd\n",
    "from sklearn.model_selection import train_test_split\n",
    "from sklearn.ensemble import RandomForestRegressor\n",
    "\n",
    "# '행정동'과 '업종별 카테고리' 컬럼 원핫 인코딩 수행\n",
    "df2 = pd.get_dummies(df, columns=['행정동', '업종별카테고리'], drop_first=True)\n",
    "\n",
    "# 피처와 타겟 설정\n",
    "features = (\n",
    "    ['년분기', '인구수', '지역생활인구', '장기외국인', \n",
    "     '주차장면적(면)', '주차장개수(개소)', '학교수', '학생수', '버스정류장수'] +\n",
    "    [col for col in df2.columns if col.startswith('행정동_') or col.startswith('업종별카테고리_')]\n",
    ")\n",
    "target = '월매출(점포)'\n",
    "\n",
    "X = df2[features]\n",
    "y = df2[target]\n",
    "\n",
    "# 학습 데이터와 테스트 데이터 분리\n",
    "X_train, X_test, y_train, y_test = train_test_split(X, y, test_size=0.2, random_state=42)\n",
    "\n",
    "# 선형 회귀 모델 학습 및 예측\n",
    "model = RandomForestRegressor(n_estimators= 300, n_jobs= -1)\n",
    "model.fit(X_train, y_train)\n",
    "y_pred = model.predict(X_test)\n",
    "\n",
    "# 모델 평가 호출\n",
    "my_def.evaluate_model(model, X_train, X_test, y_train, y_test)\n"
   ]
  },
  {
   "cell_type": "code",
   "execution_count": 14,
   "metadata": {},
   "outputs": [
    {
     "data": {
      "text/plain": [
       "{'train_mse': np.float64(660646829831419.8),\n",
       " 'test_mse': np.float64(4316119830188530.0),\n",
       " 'train_rmse': np.float64(25703050.98),\n",
       " 'test_rmse': np.float64(65697182.82),\n",
       " 'train_r2': 0.99,\n",
       " 'test_r2': 0.95,\n",
       " 'train_mae': np.float64(12755168.84),\n",
       " 'test_mae': np.float64(30441328.56),\n",
       " 'train_mae_ratio': np.float64(5.88),\n",
       " 'test_mae_ratio': np.float64(13.95)}"
      ]
     },
     "execution_count": 14,
     "metadata": {},
     "output_type": "execute_result"
    }
   ],
   "source": [
    "import pandas as pd\n",
    "from sklearn.model_selection import train_test_split\n",
    "from sklearn.ensemble import RandomForestRegressor\n",
    "\n",
    "# '행정동'과 '업종별 카테고리' 컬럼 원핫 인코딩 수행\n",
    "df2 = pd.get_dummies(df, columns=['행정동', '업종별카테고리'], drop_first=True)\n",
    "\n",
    "# 피처와 타겟 설정\n",
    "features = (\n",
    "    ['년분기', '인구수', '지역생활인구', '장기외국인', \n",
    "     '주차장면적(면)', '주차장개수(개소)', '학교수', '학생수', '버스정류장수'] +\n",
    "    [col for col in df2.columns if col.startswith('행정동_') or col.startswith('업종별카테고리_')]\n",
    ")\n",
    "target = '월매출(점포)'\n",
    "\n",
    "X = df2[features]\n",
    "y = df2[target]\n",
    "\n",
    "# 학습 데이터와 테스트 데이터 분리\n",
    "X_train, X_test, y_train, y_test = train_test_split(X, y, test_size=0.2, random_state=42)\n",
    "\n",
    "# 선형 회귀 모델 학습 및 예측\n",
    "model = RandomForestRegressor(n_estimators= 500, n_jobs= -1, max_depth= 50)\n",
    "model.fit(X_train, y_train)\n",
    "y_pred = model.predict(X_test)\n",
    "\n",
    "# 모델 평가 호출\n",
    "my_def.evaluate_model(model, X_train, X_test, y_train, y_test)\n"
   ]
  }
 ],
 "metadata": {
  "kernelspec": {
   "display_name": "Python 3",
   "language": "python",
   "name": "python3"
  },
  "language_info": {
   "codemirror_mode": {
    "name": "ipython",
    "version": 3
   },
   "file_extension": ".py",
   "mimetype": "text/x-python",
   "name": "python",
   "nbconvert_exporter": "python",
   "pygments_lexer": "ipython3",
   "version": "3.12.7"
  }
 },
 "nbformat": 4,
 "nbformat_minor": 2
}
