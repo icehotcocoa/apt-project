{
 "cells": [
  {
   "cell_type": "code",
   "execution_count": 45,
   "metadata": {},
   "outputs": [],
   "source": [
    "import pandas as pd\n",
    "import numpy as np\n",
    "import my_def"
   ]
  },
  {
   "cell_type": "markdown",
   "metadata": {},
   "source": [
    "<h1>데이터확인</h1>\n",
    "총매출액 사용"
   ]
  },
  {
   "cell_type": "code",
   "execution_count": 46,
   "metadata": {},
   "outputs": [],
   "source": [
    "df = pd.read_csv('Merged_Sales_data_v2.5.csv')"
   ]
  },
  {
   "cell_type": "code",
   "execution_count": 47,
   "metadata": {},
   "outputs": [
    {
     "name": "stdout",
     "output_type": "stream",
     "text": [
      "<class 'pandas.core.frame.DataFrame'>\n",
      "RangeIndex: 374581 entries, 0 to 374580\n",
      "Data columns (total 13 columns):\n",
      " #   Column     Non-Null Count   Dtype \n",
      "---  ------     --------------   ----- \n",
      " 0   년분기        374581 non-null  int64 \n",
      " 1   행정동        374581 non-null  object\n",
      " 2   업종명        374581 non-null  object\n",
      " 3   월매출(점포)    374581 non-null  int64 \n",
      " 4   인구수        374581 non-null  int64 \n",
      " 5   지역생활인구     374581 non-null  int64 \n",
      " 6   장기외국인      374581 non-null  int64 \n",
      " 7   단기외국인      374581 non-null  int64 \n",
      " 8   주차장면적(면)   374581 non-null  int64 \n",
      " 9   주차장개수(개소)  374581 non-null  int64 \n",
      " 10  학교수        374581 non-null  int64 \n",
      " 11  학생수        374581 non-null  int64 \n",
      " 12  버스정류장수     374581 non-null  int64 \n",
      "dtypes: int64(11), object(2)\n",
      "memory usage: 37.2+ MB\n"
     ]
    }
   ],
   "source": [
    "df.info()"
   ]
  },
  {
   "cell_type": "code",
   "execution_count": 48,
   "metadata": {},
   "outputs": [],
   "source": [
    "#df = df.drop([\"행정동_코드\", \"주중매출\", \"주말매출\"], axis= 1)"
   ]
  },
  {
   "cell_type": "code",
   "execution_count": 49,
   "metadata": {},
   "outputs": [
    {
     "name": "stdout",
     "output_type": "stream",
     "text": [
      "<class 'pandas.core.frame.DataFrame'>\n",
      "RangeIndex: 374581 entries, 0 to 374580\n",
      "Data columns (total 13 columns):\n",
      " #   Column     Non-Null Count   Dtype \n",
      "---  ------     --------------   ----- \n",
      " 0   년분기        374581 non-null  int64 \n",
      " 1   행정동        374581 non-null  object\n",
      " 2   업종명        374581 non-null  object\n",
      " 3   월매출(점포)    374581 non-null  int64 \n",
      " 4   인구수        374581 non-null  int64 \n",
      " 5   지역생활인구     374581 non-null  int64 \n",
      " 6   장기외국인      374581 non-null  int64 \n",
      " 7   단기외국인      374581 non-null  int64 \n",
      " 8   주차장면적(면)   374581 non-null  int64 \n",
      " 9   주차장개수(개소)  374581 non-null  int64 \n",
      " 10  학교수        374581 non-null  int64 \n",
      " 11  학생수        374581 non-null  int64 \n",
      " 12  버스정류장수     374581 non-null  int64 \n",
      "dtypes: int64(11), object(2)\n",
      "memory usage: 37.2+ MB\n"
     ]
    }
   ],
   "source": [
    "df.info()"
   ]
  },
  {
   "cell_type": "code",
   "execution_count": 50,
   "metadata": {},
   "outputs": [],
   "source": [
    "# # 0개인 점포수 확인\n",
    "# df0 = df[df[\"점포수\"] == 0]\n",
    "# df0[\"업종명\"].unique()"
   ]
  },
  {
   "cell_type": "code",
   "execution_count": 51,
   "metadata": {},
   "outputs": [
    {
     "data": {
      "text/plain": [
       "Index(['년분기', '행정동', '업종명', '월매출(점포)', '인구수', '지역생활인구', '장기외국인', '단기외국인',\n",
       "       '주차장면적(면)', '주차장개수(개소)', '학교수', '학생수', '버스정류장수'],\n",
       "      dtype='object')"
      ]
     },
     "execution_count": 51,
     "metadata": {},
     "output_type": "execute_result"
    }
   ],
   "source": [
    "df.columns"
   ]
  },
  {
   "cell_type": "code",
   "execution_count": 52,
   "metadata": {},
   "outputs": [
    {
     "name": "stdout",
     "output_type": "stream",
     "text": [
      "<class 'pandas.core.frame.DataFrame'>\n",
      "RangeIndex: 374581 entries, 0 to 374580\n",
      "Data columns (total 13 columns):\n",
      " #   Column     Non-Null Count   Dtype \n",
      "---  ------     --------------   ----- \n",
      " 0   년분기        374581 non-null  int16 \n",
      " 1   행정동        374581 non-null  object\n",
      " 2   업종명        374581 non-null  object\n",
      " 3   월매출(점포)    374581 non-null  int64 \n",
      " 4   인구수        374581 non-null  int32 \n",
      " 5   지역생활인구     374581 non-null  int32 \n",
      " 6   장기외국인      374581 non-null  int32 \n",
      " 7   단기외국인      374581 non-null  int32 \n",
      " 8   주차장면적(면)   374581 non-null  int32 \n",
      " 9   주차장개수(개소)  374581 non-null  int16 \n",
      " 10  학교수        374581 non-null  int16 \n",
      " 11  학생수        374581 non-null  int16 \n",
      " 12  버스정류장수     374581 non-null  int16 \n",
      "dtypes: int16(5), int32(5), int64(1), object(2)\n",
      "memory usage: 19.3+ MB\n",
      "None\n"
     ]
    }
   ],
   "source": [
    "df = my_def.reduce_memory_usage(df)"
   ]
  },
  {
   "cell_type": "markdown",
   "metadata": {},
   "source": [
    "<h1>전체업종 선형회귀 모델</h1>"
   ]
  },
  {
   "cell_type": "code",
   "execution_count": 53,
   "metadata": {},
   "outputs": [],
   "source": [
    "import pandas as pd\n",
    "from sklearn.model_selection import train_test_split\n",
    "from sklearn.linear_model import LinearRegression"
   ]
  },
  {
   "cell_type": "code",
   "execution_count": 54,
   "metadata": {},
   "outputs": [],
   "source": [
    "# '행정동' 컬럼 원핫인코딩 수행\n",
    "df = pd.get_dummies(df, columns=['행정동'], drop_first=True)\n",
    "\n",
    "# 피처와 타겟 설정\n",
    "features = ['년분기', '인구수', '지역생활인구', '장기외국인', '단기외국인', '주차장면적(면)', '주차장개수(개소)', '학교수', '학생수', '버스정류장수'] + [col for col in df.columns if col.startswith('행정동_')]\n",
    "target = '월매출(점포)'\n",
    "\n",
    "X = df[features]\n",
    "y = df[target]\n",
    "\n",
    "# 학습 데이터와 테스트 데이터 분리\n",
    "X_train, X_test, y_train, y_test = train_test_split(X, y, test_size=0.2, random_state=42)\n",
    "\n",
    "# 선형 회귀 모델 학습 및 예측\n",
    "model = LinearRegression()\n",
    "model.fit(X_train, y_train)\n",
    "y_pred = model.predict(X_test)"
   ]
  },
  {
   "cell_type": "code",
   "execution_count": 55,
   "metadata": {},
   "outputs": [
    {
     "data": {
      "text/plain": [
       "{'train_mse': np.float64(8156353667657600.0),\n",
       " 'test_mse': np.float64(8326205856834474.0),\n",
       " 'train_rmse': np.float64(90312533.28),\n",
       " 'test_rmse': np.float64(91248045.77),\n",
       " 'train_r2': 0.05,\n",
       " 'test_r2': 0.05,\n",
       " 'train_mae': np.float64(44296374.69),\n",
       " 'test_mae': np.float64(44513597.43),\n",
       " 'train_mae_ratio': np.float64(99.57),\n",
       " 'test_mae_ratio': np.float64(100.02)}"
      ]
     },
     "execution_count": 55,
     "metadata": {},
     "output_type": "execute_result"
    }
   ],
   "source": [
    "# 모델 평가 호출 선형회귀모델\n",
    "my_def.evaluate_model(model, X_train, X_test, y_train, y_test)"
   ]
  },
  {
   "cell_type": "code",
   "execution_count": 56,
   "metadata": {},
   "outputs": [
    {
     "name": "stdout",
     "output_type": "stream",
     "text": [
      "                  train_mse             test_mse   train_rmse    test_rmse  \\\n",
      "미곡판매    5933382120251776.00 42079939142794496.00  77028450.07 205133954.14   \n",
      "분식전문점     66117949502714.16    50457373776206.37   8131294.45   7103335.40   \n",
      "편의점      565354458427281.12   671657762838309.12  23777183.57  25916360.91   \n",
      "한식음식점     83970274937360.27   119656391102099.31   9163529.61  10938756.38   \n",
      "의약품     3297095806791207.00  4385685765528973.00  57420343.14  66224510.31   \n",
      "...                     ...                  ...          ...          ...   \n",
      "수산물판매   1714562520747040.75  1813624526593819.00  41407276.18  42586670.76   \n",
      "고시원      140393217360410.59   271130506892865.09  11848764.38  16466041.02   \n",
      "완구     13933979911827928.00  7829912655514360.00 118042280.19  88486793.68   \n",
      "부동산중개업     2071525093996.14     4352410749408.58   1439279.37   2086243.21   \n",
      "가방       398541670760167.50   604090853835333.75  19963508.48  24578259.78   \n",
      "\n",
      "        train_r2  test_r2   train_mae    test_mae  train_mae_ratio  \\\n",
      "미곡판매        0.88     0.28 29030233.14 47845793.42            37.70   \n",
      "분식전문점       0.81     0.81  3937663.80  3866750.39            21.19   \n",
      "편의점         0.88     0.87 15420761.51 16639555.68            14.53   \n",
      "한식음식점       0.84     0.80  6645764.80  7584013.79            15.59   \n",
      "의약품         0.87     0.83 27566235.39 28398357.06            17.50   \n",
      "...          ...      ...         ...         ...              ...   \n",
      "수산물판매       0.90     0.91 17865256.45 20156650.65            25.89   \n",
      "고시원         0.90     0.88  7657717.11  8907879.34            28.14   \n",
      "완구          0.98     0.98 60274528.78 52002597.97            25.67   \n",
      "부동산중개업      0.85     0.67   763147.98  1189897.45            36.20   \n",
      "가방          0.86     0.86  7100995.56 10122620.02            35.41   \n",
      "\n",
      "        test_mae_ratio  test_mae_ratio_max  test_mae_ratio_min  \\\n",
      "미곡판매             61.05          2158410.57               15.42   \n",
      "분식전문점            22.06          2158410.57               15.42   \n",
      "편의점              15.42          2158410.57               15.42   \n",
      "한식음식점            16.87          2158410.57               15.42   \n",
      "의약품              18.25          2158410.57               15.42   \n",
      "...                ...                 ...                 ...   \n",
      "수산물판매            27.33          2158410.57               15.42   \n",
      "고시원              28.33          2158410.57               15.42   \n",
      "완구               44.49          2158410.57               15.42   \n",
      "부동산중개업           53.16          2158410.57               15.42   \n",
      "가방               32.61          2158410.57               15.42   \n",
      "\n",
      "        test_mae_ratio_mean  \n",
      "미곡판매               47996.52  \n",
      "분식전문점              47996.52  \n",
      "편의점                47996.52  \n",
      "한식음식점              47996.52  \n",
      "의약품                47996.52  \n",
      "...                     ...  \n",
      "수산물판매              47996.52  \n",
      "고시원                47996.52  \n",
      "완구                 47996.52  \n",
      "부동산중개업             47996.52  \n",
      "가방                 47996.52  \n",
      "\n",
      "[63 rows x 13 columns]\n"
     ]
    }
   ],
   "source": [
    "from sklearn.model_selection import train_test_split\n",
    "from sklearn.linear_model import LinearRegression\n",
    "import pandas as pd\n",
    "\n",
    "# 파일 로드\n",
    "file_path = r'D:\\Work\\project\\project2\\oos\\머신러닝\\Merged_Sales_data_v2.5.csv'\n",
    "df = pd.read_csv(file_path)\n",
    "\n",
    "# 업종명 고유값 추출\n",
    "unique_categories = df[\"업종명\"].unique()\n",
    "\n",
    "# 결과를 저장할 딕셔너리 생성\n",
    "results = {}\n",
    "\n",
    "# 각 업종별로 데이터를 나누어 모델 학습 및 예측 수행\n",
    "for category in unique_categories:\n",
    "    # 업종별 데이터 필터링\n",
    "    df_category = df[df['업종명'] == category]\n",
    "    \n",
    "    # 원핫인코딩 수행\n",
    "    df_category = pd.get_dummies(df_category, columns=['행정동'], drop_first=True)\n",
    "    \n",
    "    # 피처와 타겟 설정\n",
    "    features = ['년분기', '인구수', '지역생활인구', '장기외국인', '단기외국인', '주차장면적(면)', '주차장개수(개소)', '학교수', '학생수', '버스정류장수'] + [col for col in df_category.columns if col.startswith('행정동_')]\n",
    "    target = '월매출(점포)'\n",
    "    \n",
    "    # 피처와 타겟 데이터 분리\n",
    "    X = df_category[features]\n",
    "    y = df_category[target]\n",
    "    \n",
    "    # 학습 데이터와 테스트 데이터 분리\n",
    "    X_train, X_test, y_train, y_test = train_test_split(X, y, test_size=0.2, random_state=42)\n",
    "    \n",
    "    # 선형 회귀 모델 학습\n",
    "    model = LinearRegression()\n",
    "    model.fit(X_train, y_train)\n",
    "    \n",
    "    # 성능 평가 호출\n",
    "    evaluation_result = my_def.evaluate_model(model, X_train, X_test, y_train, y_test)\n",
    "    \n",
    "    # 결과 저장\n",
    "    if evaluation_result is not None:\n",
    "        results[category] = evaluation_result\n",
    "\n",
    "# 결과를 데이터프레임으로 변환\n",
    "results_df = pd.DataFrame.from_dict(results, orient='index')\n",
    "results_df = results_df.apply(pd.to_numeric)\n",
    "\n",
    "# test_mae_ratio의 최고, 최저, 평균 추가\n",
    "test_mae_ratio_max = results_df['test_mae_ratio'].max()\n",
    "test_mae_ratio_min = results_df['test_mae_ratio'].min()\n",
    "test_mae_ratio_mean = results_df['test_mae_ratio'].mean()\n",
    "\n",
    "# 모든 행에 공통으로 최고, 최저, 평균 추가\n",
    "test_mae_summary = {\n",
    "    'test_mae_ratio_max': test_mae_ratio_max,\n",
    "    'test_mae_ratio_min': test_mae_ratio_min,\n",
    "    'test_mae_ratio_mean': test_mae_ratio_mean\n",
    "}\n",
    "\n",
    "for key, value in test_mae_summary.items():\n",
    "    results_df[key] = value\n",
    "\n",
    "# 결과를 소수점 2자리로 포맷팅하여 출력\n",
    "pd.options.display.float_format = '{:.2f}'.format\n",
    "print(results_df)\n"
   ]
  },
  {
   "cell_type": "code",
   "execution_count": 57,
   "metadata": {},
   "outputs": [
    {
     "data": {
      "text/plain": [
       "array(['미곡판매', '분식전문점', '편의점', '한식음식점', '의약품', '슈퍼마켓', '반찬가게', '호프-간이주점',\n",
       "       '커피-음료', '일반의원', '치과의원', '육류판매', '자동차수리', '한의원', '의료기기', '양식음식점',\n",
       "       '세탁소', '피부관리실', '화장품', '철물점', '일반교습학원', '스포츠 강습', '스포츠클럽', '골프연습장',\n",
       "       '애완동물', '미용실', '화초', '신발', 'PC방', '안경', '일식음식점', '일반의류', '서적',\n",
       "       '가전제품수리', '예술학원', '컴퓨터및주변장치판매', '제과점', '운동/경기용품', '중식음식점',\n",
       "       '시계및귀금속', '치킨전문점', '패스트푸드점', '노래방', '당구장', '청과상', '외국어학원', '조명용품',\n",
       "       '네일숍', '가전제품', '핸드폰', '전자상거래업', '가구', '문구', '자전거 및 기타운송장비', '섬유제품',\n",
       "       '자동차미용', '여관', '인테리어', '수산물판매', '고시원', '완구', '부동산중개업', '가방'],\n",
       "      dtype=object)"
      ]
     },
     "execution_count": 57,
     "metadata": {},
     "output_type": "execute_result"
    }
   ],
   "source": [
    "df[\"업종명\"].unique()"
   ]
  },
  {
   "cell_type": "code",
   "execution_count": 58,
   "metadata": {},
   "outputs": [
    {
     "name": "stdout",
     "output_type": "stream",
     "text": [
      "train_mse              83970274937360.27\n",
      "test_mse              119656391102099.31\n",
      "train_rmse                    9163529.61\n",
      "test_rmse                    10938756.38\n",
      "train_r2                            0.84\n",
      "test_r2                             0.80\n",
      "train_mae                     6645764.80\n",
      "test_mae                      7584013.79\n",
      "train_mae_ratio                    15.59\n",
      "test_mae_ratio                     16.87\n",
      "test_mae_ratio_max            2158410.57\n",
      "test_mae_ratio_min                 15.42\n",
      "test_mae_ratio_mean             47996.52\n",
      "Name: 한식음식점, dtype: float64\n"
     ]
    }
   ],
   "source": [
    "print(results_df.loc[\"한식음식점\"])"
   ]
  },
  {
   "cell_type": "code",
   "execution_count": 61,
   "metadata": {},
   "outputs": [
    {
     "name": "stdout",
     "output_type": "stream",
     "text": [
      "애완동물      2158410.57\n",
      "PC방        430816.81\n",
      "화초         163130.58\n",
      "운동/경기용품     90813.11\n",
      "여관          84960.74\n",
      "일반교습학원      75618.60\n",
      "치킨전문점       18191.93\n",
      "핸드폰            61.39\n",
      "미곡판매           61.05\n",
      "전자상거래업         60.52\n",
      "Name: test_mae_ratio, dtype: float64\n"
     ]
    }
   ],
   "source": [
    "# test_mae_ratio 값이 큰 순으로 정렬하여 상위 10개 추출\n",
    "top_10_test_mae = results_df['test_mae_ratio'].nlargest(10)\n",
    "\n",
    "# 결과 출력\n",
    "print(top_10_test_mae)\n"
   ]
  },
  {
   "cell_type": "markdown",
   "metadata": {},
   "source": [
    "랜덤포레스트 머신 PolynomialFeatures(x)"
   ]
  },
  {
   "cell_type": "code",
   "execution_count": 59,
   "metadata": {},
   "outputs": [],
   "source": [
    "# # 랜덤 포레스트 회귀 모델 생성 및 학습\n",
    "# from sklearn.ensemble import RandomForestRegressor\n",
    "\n",
    "# rf_model = RandomForestRegressor(n_estimators=100, random_state=42)\n",
    "# rf_model.fit(X_train, y_train)"
   ]
  },
  {
   "cell_type": "code",
   "execution_count": 60,
   "metadata": {},
   "outputs": [],
   "source": [
    "# # 랜덤 포레스트 회귀 모델 평가 수행\n",
    "# print(\"\\n랜덤 포레스트 회귀 모델 평가 결과:\")\n",
    "# my_def.evaluate_model(rf_model, X_train, X_test, y_train, y_test)"
   ]
  }
 ],
 "metadata": {
  "kernelspec": {
   "display_name": "Python 3",
   "language": "python",
   "name": "python3"
  },
  "language_info": {
   "codemirror_mode": {
    "name": "ipython",
    "version": 3
   },
   "file_extension": ".py",
   "mimetype": "text/x-python",
   "name": "python",
   "nbconvert_exporter": "python",
   "pygments_lexer": "ipython3",
   "version": "3.12.7"
  }
 },
 "nbformat": 4,
 "nbformat_minor": 2
}
