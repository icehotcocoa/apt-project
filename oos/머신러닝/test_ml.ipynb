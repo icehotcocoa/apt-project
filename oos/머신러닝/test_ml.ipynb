{
 "cells": [
  {
   "cell_type": "code",
   "execution_count": 54,
   "metadata": {},
   "outputs": [],
   "source": [
    "import pandas as pd"
   ]
  },
  {
   "cell_type": "code",
   "execution_count": 55,
   "metadata": {},
   "outputs": [],
   "source": [
    "import pandas as pd\n",
    "merged_data = pd.read_csv(\"Merged_Sales_data_v2.2.csv\")"
   ]
  },
  {
   "cell_type": "code",
   "execution_count": 56,
   "metadata": {},
   "outputs": [
    {
     "data": {
      "text/plain": [
       "Index(['년분기', '행정동_코드', '행정동', '업종명', '월매출', '주중매출', '주말매출', '인구수', '점포수',\n",
       "       '지역생활인구', '장기외국인', '단기외국인', '주차장면적(면)', '주차장개수(개소)', '학교수', '학생수',\n",
       "       '버스정류장수'],\n",
       "      dtype='object')"
      ]
     },
     "execution_count": 56,
     "metadata": {},
     "output_type": "execute_result"
    }
   ],
   "source": [
    "merged_data.columns"
   ]
  },
  {
   "cell_type": "code",
   "execution_count": 57,
   "metadata": {},
   "outputs": [],
   "source": [
    "merged_data[[\"주차장면적(면)\", \"주차장개수(개소)\"]] = merged_data[[\"주차장면적(면)\", \"주차장개수(개소)\"]].astype(int)"
   ]
  },
  {
   "cell_type": "code",
   "execution_count": 58,
   "metadata": {},
   "outputs": [
    {
     "data": {
      "text/plain": [
       "np.int64(71469)"
      ]
     },
     "execution_count": 58,
     "metadata": {},
     "output_type": "execute_result"
    }
   ],
   "source": [
    "merged_data[\"주차장면적(면)\"].max()"
   ]
  },
  {
   "cell_type": "code",
   "execution_count": 59,
   "metadata": {},
   "outputs": [],
   "source": [
    "test_data = merged_data[merged_data[\"업종명\"] == \"한식음식점\"]\n",
    "test_data = test_data[['년분기', '행정동', '월매출', '주중매출', '주말매출', '인구수', '점포수',\n",
    "       '지역생활인구', '장기외국인', '단기외국인', '주차장면적(면)', '주차장개수(개소)', '학교수', '학생수',\n",
    "       '버스정류장수']]"
   ]
  },
  {
   "cell_type": "code",
   "execution_count": 60,
   "metadata": {},
   "outputs": [
    {
     "data": {
      "text/plain": [
       "'\\nimport pandas as pd\\nimport numpy as np\\nfrom sklearn.model_selection import train_test_split\\nfrom sklearn.preprocessing import PolynomialFeatures, StandardScaler, OneHotEncoder\\nfrom sklearn.linear_model import LinearRegression\\nfrom sklearn.metrics import mean_squared_error, r2_score\\n\\n# Step 1: Feature와 Target 데이터 분리\\n# feature_data = [\\'년분기\\', \\'행정동\\', \\'인구수\\', \\'점포수\\', \\'지역생활인구\\', \\'장기외국인\\', \\n#                 \\'단기외국인\\', \\'주차장면적(면)\\', \\'주차장개수(개소)\\', \\'학교수\\', \\'학생수\\', \\'버스정류장수\\']\\nfeature_data = [\\'년분기\\', \\'행정동\\', \\'인구수\\', \\'점포수\\', \\'지역생활인구\\', \\'장기외국인\\', \\n                \\'단기외국인\\', \\'주차장개수(개소)\\', \\'학교수\\', \\'학생수\\', \\'버스정류장수\\']\\ntarget_data = [\\'월매출\\']\\n\\n# Feature와 Target 분리\\nX = test_data[feature_data]\\ny = test_data[target_data]\\n\\n# Step 2: \\'행정동\\' 원-핫 인코딩\\none_hot_encoded_dong = pd.get_dummies(X[\\'행정동\\'], prefix=\\'행정동\\')\\nX = pd.concat([X.drop(\\'행정동\\', axis=1), one_hot_encoded_dong], axis=1)\\n\\nfor c in X:\\n    # print(X_train[c].dtype == \"int64\")\\n    if X[c].dtype == \"int64\":\\n        X[c] = X[c].astype(\"int16\")\\n    elif X[c].dtype == \"float64\":\\n        X[c] = X[c].astype(\"float16\")\\n\\n# Step 3: Train/Test Split\\nX_train, X_test, y_train, y_test = train_test_split(X, y, test_size=0.2, random_state=42)\\nprint(X_train.dtypes)\\n# for c in X_train:\\n#     # print(X_train[c].dtype == \"int64\")\\n#     if X_train[c].dtype == \"int64\":\\n#         X_train[c] = X_train[c].astype(\"int16\")\\n#     elif X_train[c].dtype == \"float64\":\\n#         X_train[c] = X_train[c].astype(\"float16\")\\n\\n# Step 4: 다항회귀 모델 준비\\ndegree = 2  # 다항 차수\\npoly = PolynomialFeatures(degree=degree, include_bias=False)\\nscaler = StandardScaler()\\nmodel = LinearRegression()\\n\\n# Step 5: 다항회귀 변환 및 학습\\nX_train_poly = poly.fit_transform(X_train)  # 다항 특성 생성\\nX_train_poly_scaled = scaler.fit_transform(X_train_poly)  # 표준화\\nmodel.fit(X_train_poly_scaled, y_train)  # 모델 학습\\n\\n# Step 6: 테스트 데이터 처리 및 예측\\nX_test_poly = poly.transform(X_test)  # 다항 특성 생성\\nX_test_poly_scaled = scaler.transform(X_test_poly)  # 표준화\\ny_pred = model.predict(X_test_poly_scaled)  # 예측\\n\\n# Step 7: 평가\\ntrain_rmse = np.sqrt(mean_squared_error(y_train, model.predict(X_train_poly_scaled)))\\ntest_rmse = np.sqrt(mean_squared_error(y_test, y_pred))\\ntrain_r2 = r2_score(y_train, model.predict(X_train_poly_scaled))\\ntest_r2 = r2_score(y_test, y_pred)\\n\\nprint(f\"훈련 데이터 RMSE: {train_rmse:.2f}\")\\nprint(f\"테스트 데이터 RMSE: {test_rmse:.2f}\")\\nprint(f\"훈련 데이터 R²: {train_r2:.2f}\")\\nprint(f\"테스트 데이터 R²: {test_r2:.2f}\")\\n'"
      ]
     },
     "execution_count": 60,
     "metadata": {},
     "output_type": "execute_result"
    }
   ],
   "source": [
    "# 처음돌린 모델\n",
    "\"\"\"\n",
    "import pandas as pd\n",
    "import numpy as np\n",
    "from sklearn.model_selection import train_test_split\n",
    "from sklearn.preprocessing import PolynomialFeatures, StandardScaler, OneHotEncoder\n",
    "from sklearn.linear_model import LinearRegression\n",
    "from sklearn.metrics import mean_squared_error, r2_score\n",
    "\n",
    "# Step 1: Feature와 Target 데이터 분리\n",
    "# feature_data = ['년분기', '행정동', '인구수', '점포수', '지역생활인구', '장기외국인', \n",
    "#                 '단기외국인', '주차장면적(면)', '주차장개수(개소)', '학교수', '학생수', '버스정류장수']\n",
    "feature_data = ['년분기', '행정동', '인구수', '점포수', '지역생활인구', '장기외국인', \n",
    "                '단기외국인', '주차장개수(개소)', '학교수', '학생수', '버스정류장수']\n",
    "target_data = ['월매출']\n",
    "\n",
    "# Feature와 Target 분리\n",
    "X = test_data[feature_data]\n",
    "y = test_data[target_data]\n",
    "\n",
    "# Step 2: '행정동' 원-핫 인코딩\n",
    "one_hot_encoded_dong = pd.get_dummies(X['행정동'], prefix='행정동')\n",
    "X = pd.concat([X.drop('행정동', axis=1), one_hot_encoded_dong], axis=1)\n",
    "\n",
    "for c in X:\n",
    "    # print(X_train[c].dtype == \"int64\")\n",
    "    if X[c].dtype == \"int64\":\n",
    "        X[c] = X[c].astype(\"int16\")\n",
    "    elif X[c].dtype == \"float64\":\n",
    "        X[c] = X[c].astype(\"float16\")\n",
    "\n",
    "# Step 3: Train/Test Split\n",
    "X_train, X_test, y_train, y_test = train_test_split(X, y, test_size=0.2, random_state=42)\n",
    "print(X_train.dtypes)\n",
    "# for c in X_train:\n",
    "#     # print(X_train[c].dtype == \"int64\")\n",
    "#     if X_train[c].dtype == \"int64\":\n",
    "#         X_train[c] = X_train[c].astype(\"int16\")\n",
    "#     elif X_train[c].dtype == \"float64\":\n",
    "#         X_train[c] = X_train[c].astype(\"float16\")\n",
    "\n",
    "# Step 4: 다항회귀 모델 준비\n",
    "degree = 2  # 다항 차수\n",
    "poly = PolynomialFeatures(degree=degree, include_bias=False)\n",
    "scaler = StandardScaler()\n",
    "model = LinearRegression()\n",
    "\n",
    "# Step 5: 다항회귀 변환 및 학습\n",
    "X_train_poly = poly.fit_transform(X_train)  # 다항 특성 생성\n",
    "X_train_poly_scaled = scaler.fit_transform(X_train_poly)  # 표준화\n",
    "model.fit(X_train_poly_scaled, y_train)  # 모델 학습\n",
    "\n",
    "# Step 6: 테스트 데이터 처리 및 예측\n",
    "X_test_poly = poly.transform(X_test)  # 다항 특성 생성\n",
    "X_test_poly_scaled = scaler.transform(X_test_poly)  # 표준화\n",
    "y_pred = model.predict(X_test_poly_scaled)  # 예측\n",
    "\n",
    "# Step 7: 평가\n",
    "train_rmse = np.sqrt(mean_squared_error(y_train, model.predict(X_train_poly_scaled)))\n",
    "test_rmse = np.sqrt(mean_squared_error(y_test, y_pred))\n",
    "train_r2 = r2_score(y_train, model.predict(X_train_poly_scaled))\n",
    "test_r2 = r2_score(y_test, y_pred)\n",
    "\n",
    "print(f\"훈련 데이터 RMSE: {train_rmse:.2f}\")\n",
    "print(f\"테스트 데이터 RMSE: {test_rmse:.2f}\")\n",
    "print(f\"훈련 데이터 R²: {train_r2:.2f}\")\n",
    "print(f\"테스트 데이터 R²: {test_r2:.2f}\")\n",
    "\"\"\""
   ]
  },
  {
   "cell_type": "code",
   "execution_count": 61,
   "metadata": {},
   "outputs": [
    {
     "name": "stdout",
     "output_type": "stream",
     "text": [
      "훈련 데이터 RMSE: 1807754203.94\n",
      "테스트 데이터 RMSE: 2264427848.33\n",
      "훈련 데이터 R²: 0.97\n",
      "테스트 데이터 R²: 0.96\n"
     ]
    }
   ],
   "source": [
    "import pandas as pd\n",
    "import numpy as np\n",
    "from sklearn.model_selection import train_test_split\n",
    "from sklearn.preprocessing import PolynomialFeatures, StandardScaler\n",
    "from sklearn.linear_model import LinearRegression\n",
    "from sklearn.metrics import mean_squared_error, r2_score\n",
    "\n",
    "# Step 1: Feature와 Target 데이터 분리\n",
    "feature_data = ['년분기', '행정동', '인구수', '점포수', '지역생활인구', '장기외국인', \"주차장면적(면)\", \n",
    "                '단기외국인', '주차장개수(개소)', '학교수', '학생수', '버스정류장수']\n",
    "target_data = ['월매출']\n",
    "\n",
    "# Feature와 Target 분리\n",
    "X = test_data[feature_data]\n",
    "y = test_data[target_data]\n",
    "\n",
    "# Step 2: '행정동' 원-핫 인코딩\n",
    "one_hot_encoded_dong = pd.get_dummies(X['행정동'], prefix='행정동')\n",
    "X_numeric = X.drop('행정동', axis=1)  # 숫자형 데이터만 분리\n",
    "\n",
    "# 데이터 타입 축소 (메모리 절약)\n",
    "for c in X_numeric:\n",
    "    if X_numeric[c].dtype == \"int64\":\n",
    "        X_numeric[c] = X_numeric[c].astype(\"int16\")\n",
    "    elif X_numeric[c].dtype == \"float64\":\n",
    "        X_numeric[c] = X_numeric[c].astype(\"float16\")\n",
    "\n",
    "# Step 3: Train/Test Split\n",
    "X_train_num, X_test_num, y_train, y_test = train_test_split(X_numeric, y, test_size=0.2, random_state=42)\n",
    "X_train_dong, X_test_dong = train_test_split(one_hot_encoded_dong, test_size=0.2, random_state=42)\n",
    "\n",
    "# Step 4: 다항회귀 모델 준비\n",
    "degree = 2  # 다항 차수\n",
    "poly = PolynomialFeatures(degree=degree, include_bias=False)\n",
    "scaler = StandardScaler()\n",
    "model = LinearRegression()\n",
    "\n",
    "# Step 5: 다항회귀 변환 및 학습\n",
    "X_train_poly = poly.fit_transform(X_train_num)  # 다항 특성 생성\n",
    "X_train_poly_scaled = scaler.fit_transform(X_train_poly)  # 표준화\n",
    "\n",
    "# '행정동' 원-핫 인코딩 데이터와 결합\n",
    "X_train_combined = np.hstack([X_train_poly_scaled, X_train_dong.to_numpy()])\n",
    "\n",
    "# 모델 학습\n",
    "model.fit(X_train_combined, y_train)\n",
    "\n",
    "# Step 6: 테스트 데이터 처리 및 예측\n",
    "X_test_poly = poly.transform(X_test_num)  # 다항 특성 생성\n",
    "X_test_poly_scaled = scaler.transform(X_test_poly)  # 표준화\n",
    "\n",
    "# '행정동' 원-핫 인코딩 데이터와 결합\n",
    "X_test_combined = np.hstack([X_test_poly_scaled, X_test_dong.to_numpy()])\n",
    "\n",
    "# 예측\n",
    "y_pred = model.predict(X_test_combined)\n",
    "\n",
    "# Step 7: 평가\n",
    "train_rmse = np.sqrt(mean_squared_error(y_train, model.predict(X_train_combined)))\n",
    "test_rmse = np.sqrt(mean_squared_error(y_test, y_pred))\n",
    "train_r2 = r2_score(y_train, model.predict(X_train_combined))\n",
    "test_r2 = r2_score(y_test, y_pred)\n",
    "\n",
    "print(f\"훈련 데이터 RMSE: {train_rmse:.2f}\")\n",
    "print(f\"테스트 데이터 RMSE: {test_rmse:.2f}\")\n",
    "print(f\"훈련 데이터 R²: {train_r2:.2f}\")\n",
    "print(f\"테스트 데이터 R²: {test_r2:.2f}\")\n"
   ]
  },
  {
   "cell_type": "code",
   "execution_count": 62,
   "metadata": {},
   "outputs": [
    {
     "name": "stdout",
     "output_type": "stream",
     "text": [
      "훈련 데이터 MAE: 1016708802.17\n",
      "테스트 데이터 MAE: 1207602290.63\n",
      "훈련 데이터 MSE: 3267975261855172608.00\n",
      "테스트 데이터 MSE: 5127633480278518784.00\n",
      "훈련 데이터 RMSE: 1807754203.94\n",
      "테스트 데이터 RMSE: 2264427848.33\n"
     ]
    }
   ],
   "source": [
    "from sklearn.metrics import mean_absolute_error, mean_squared_error\n",
    "\n",
    "# MAE, MSE, RMSE 계산\n",
    "train_mae = mean_absolute_error(y_train, model.predict(X_train_combined))\n",
    "test_mae = mean_absolute_error(y_test, y_pred)\n",
    "\n",
    "train_mse = mean_squared_error(y_train, model.predict(X_train_combined))\n",
    "test_mse = mean_squared_error(y_test, y_pred)\n",
    "\n",
    "train_rmse = np.sqrt(train_mse)\n",
    "test_rmse = np.sqrt(test_mse)\n",
    "\n",
    "# 결과 출력\n",
    "print(f\"훈련 데이터 MAE: {train_mae:.2f}\")\n",
    "print(f\"테스트 데이터 MAE: {test_mae:.2f}\")\n",
    "print(f\"훈련 데이터 MSE: {train_mse:.2f}\")\n",
    "print(f\"테스트 데이터 MSE: {test_mse:.2f}\")\n",
    "print(f\"훈련 데이터 RMSE: {train_rmse:.2f}\")\n",
    "print(f\"테스트 데이터 RMSE: {test_rmse:.2f}\")\n"
   ]
  },
  {
   "cell_type": "code",
   "execution_count": 63,
   "metadata": {},
   "outputs": [
    {
     "name": "stdout",
     "output_type": "stream",
     "text": [
      "최고 점포 수   :  1058\n",
      "최소 점포 수   :  4\n",
      "평균 점포 수   :  128.78125\n",
      "최고 분기 매출 :  120193529541\n",
      "최소 분기 매출 :  860310\n",
      "평균 분기 매출 :  7227325776.611321\n"
     ]
    }
   ],
   "source": [
    "a = merged_data[merged_data[\"업종명\"] == \"한식음식점\"]\n",
    "\n",
    "print(\"최고 점포 수   : \", a[\"점포수\"].max())\n",
    "print(\"최소 점포 수   : \", a[\"점포수\"].min())\n",
    "print(\"평균 점포 수   : \", a[\"점포수\"].mean())\n",
    "\n",
    "print(\"최고 분기 매출 : \", a[\"월매출\"].max())\n",
    "print(\"최소 분기 매출 : \", a[\"월매출\"].min())\n",
    "print(\"평균 분기 매출 : \", a[\"월매출\"].mean())"
   ]
  },
  {
   "cell_type": "code",
   "execution_count": 64,
   "metadata": {},
   "outputs": [
    {
     "data": {
      "text/html": [
       "<div>\n",
       "<style scoped>\n",
       "    .dataframe tbody tr th:only-of-type {\n",
       "        vertical-align: middle;\n",
       "    }\n",
       "\n",
       "    .dataframe tbody tr th {\n",
       "        vertical-align: top;\n",
       "    }\n",
       "\n",
       "    .dataframe thead th {\n",
       "        text-align: right;\n",
       "    }\n",
       "</style>\n",
       "<table border=\"1\" class=\"dataframe\">\n",
       "  <thead>\n",
       "    <tr style=\"text-align: right;\">\n",
       "      <th></th>\n",
       "      <th>행정동_코드</th>\n",
       "      <th>행정동</th>\n",
       "      <th>업종명</th>\n",
       "      <th>월매출</th>\n",
       "      <th>주중매출</th>\n",
       "      <th>주말매출</th>\n",
       "      <th>인구수</th>\n",
       "      <th>점포수</th>\n",
       "    </tr>\n",
       "    <tr>\n",
       "      <th>년분기</th>\n",
       "      <th></th>\n",
       "      <th></th>\n",
       "      <th></th>\n",
       "      <th></th>\n",
       "      <th></th>\n",
       "      <th></th>\n",
       "      <th></th>\n",
       "      <th></th>\n",
       "    </tr>\n",
       "  </thead>\n",
       "  <tbody>\n",
       "    <tr>\n",
       "      <th>20191</th>\n",
       "      <td>11110615</td>\n",
       "      <td>종로1·2·3·4가동</td>\n",
       "      <td>한식음식점</td>\n",
       "      <td>66663258944</td>\n",
       "      <td>51368337759</td>\n",
       "      <td>15294921185</td>\n",
       "      <td>8518</td>\n",
       "      <td>1037</td>\n",
       "    </tr>\n",
       "    <tr>\n",
       "      <th>20192</th>\n",
       "      <td>11110615</td>\n",
       "      <td>종로1·2·3·4가동</td>\n",
       "      <td>한식음식점</td>\n",
       "      <td>67594972881</td>\n",
       "      <td>52577031124</td>\n",
       "      <td>15017941757</td>\n",
       "      <td>8500</td>\n",
       "      <td>1044</td>\n",
       "    </tr>\n",
       "    <tr>\n",
       "      <th>20201</th>\n",
       "      <td>11110615</td>\n",
       "      <td>종로1·2·3·4가동</td>\n",
       "      <td>한식음식점</td>\n",
       "      <td>55658290992</td>\n",
       "      <td>44826553499</td>\n",
       "      <td>10831737493</td>\n",
       "      <td>8539</td>\n",
       "      <td>1036</td>\n",
       "    </tr>\n",
       "    <tr>\n",
       "      <th>20202</th>\n",
       "      <td>11110615</td>\n",
       "      <td>종로1·2·3·4가동</td>\n",
       "      <td>한식음식점</td>\n",
       "      <td>56644152057</td>\n",
       "      <td>45616011199</td>\n",
       "      <td>11028140858</td>\n",
       "      <td>8526</td>\n",
       "      <td>1036</td>\n",
       "    </tr>\n",
       "    <tr>\n",
       "      <th>20204</th>\n",
       "      <td>11110615</td>\n",
       "      <td>종로1·2·3·4가동</td>\n",
       "      <td>한식음식점</td>\n",
       "      <td>53794810061</td>\n",
       "      <td>42794982978</td>\n",
       "      <td>10999827083</td>\n",
       "      <td>8448</td>\n",
       "      <td>1036</td>\n",
       "    </tr>\n",
       "    <tr>\n",
       "      <th>20213</th>\n",
       "      <td>11680640</td>\n",
       "      <td>역삼1동</td>\n",
       "      <td>한식음식점</td>\n",
       "      <td>56326836066</td>\n",
       "      <td>47444756770</td>\n",
       "      <td>8882079296</td>\n",
       "      <td>36560</td>\n",
       "      <td>1037</td>\n",
       "    </tr>\n",
       "    <tr>\n",
       "      <th>20214</th>\n",
       "      <td>11680640</td>\n",
       "      <td>역삼1동</td>\n",
       "      <td>한식음식점</td>\n",
       "      <td>84453117856</td>\n",
       "      <td>70957247471</td>\n",
       "      <td>13495870385</td>\n",
       "      <td>36590</td>\n",
       "      <td>1055</td>\n",
       "    </tr>\n",
       "    <tr>\n",
       "      <th>20221</th>\n",
       "      <td>11680640</td>\n",
       "      <td>역삼1동</td>\n",
       "      <td>한식음식점</td>\n",
       "      <td>69952384233</td>\n",
       "      <td>58275632338</td>\n",
       "      <td>11676751895</td>\n",
       "      <td>36431</td>\n",
       "      <td>1051</td>\n",
       "    </tr>\n",
       "    <tr>\n",
       "      <th>20223</th>\n",
       "      <td>11680640</td>\n",
       "      <td>역삼1동</td>\n",
       "      <td>한식음식점</td>\n",
       "      <td>105523677136</td>\n",
       "      <td>88528620174</td>\n",
       "      <td>16995056962</td>\n",
       "      <td>35780</td>\n",
       "      <td>1047</td>\n",
       "    </tr>\n",
       "    <tr>\n",
       "      <th>20242</th>\n",
       "      <td>11680640</td>\n",
       "      <td>역삼1동</td>\n",
       "      <td>한식음식점</td>\n",
       "      <td>104635068716</td>\n",
       "      <td>88012559952</td>\n",
       "      <td>16622508764</td>\n",
       "      <td>35457</td>\n",
       "      <td>1043</td>\n",
       "    </tr>\n",
       "  </tbody>\n",
       "</table>\n",
       "</div>"
      ],
      "text/plain": [
       "         행정동_코드          행정동    업종명           월매출         주중매출         주말매출  \\\n",
       "년분기                                                                           \n",
       "20191  11110615  종로1·2·3·4가동  한식음식점   66663258944  51368337759  15294921185   \n",
       "20192  11110615  종로1·2·3·4가동  한식음식점   67594972881  52577031124  15017941757   \n",
       "20201  11110615  종로1·2·3·4가동  한식음식점   55658290992  44826553499  10831737493   \n",
       "20202  11110615  종로1·2·3·4가동  한식음식점   56644152057  45616011199  11028140858   \n",
       "20204  11110615  종로1·2·3·4가동  한식음식점   53794810061  42794982978  10999827083   \n",
       "20213  11680640         역삼1동  한식음식점   56326836066  47444756770   8882079296   \n",
       "20214  11680640         역삼1동  한식음식점   84453117856  70957247471  13495870385   \n",
       "20221  11680640         역삼1동  한식음식점   69952384233  58275632338  11676751895   \n",
       "20223  11680640         역삼1동  한식음식점  105523677136  88528620174  16995056962   \n",
       "20242  11680640         역삼1동  한식음식점  104635068716  88012559952  16622508764   \n",
       "\n",
       "         인구수   점포수  \n",
       "년분기                 \n",
       "20191   8518  1037  \n",
       "20192   8500  1044  \n",
       "20201   8539  1036  \n",
       "20202   8526  1036  \n",
       "20204   8448  1036  \n",
       "20213  36560  1037  \n",
       "20214  36590  1055  \n",
       "20221  36431  1051  \n",
       "20223  35780  1047  \n",
       "20242  35457  1043  "
      ]
     },
     "execution_count": 64,
     "metadata": {},
     "output_type": "execute_result"
    }
   ],
   "source": [
    "sorted_indices = a[\"점포수\"].sort_values(ascending=False).index\n",
    "\n",
    "top_10_rows = a.loc[sorted_indices[1:11], :]\n",
    "top_10_rows.iloc[:10,:9].groupby(\"년분기\").max()\n"
   ]
  },
  {
   "cell_type": "code",
   "execution_count": 65,
   "metadata": {},
   "outputs": [
    {
     "name": "stdout",
     "output_type": "stream",
     "text": [
      "훈련 데이터 평균값: 7070385023.617914\n",
      "테스트 데이터 평균값: 7855006231.639664\n",
      "훈련 데이터 MAE 비율: 14.38%\n",
      "테스트 데이터 MAE 비율: 15.37%\n"
     ]
    }
   ],
   "source": [
    "# 평균값 계산\n",
    "train_mean = y_train.mean().values[0]  # Series에서 실제 값 추출\n",
    "test_mean = y_test.mean().values[0]\n",
    "\n",
    "print(f\"훈련 데이터 평균값: {train_mean}\")\n",
    "print(f\"테스트 데이터 평균값: {test_mean}\")\n",
    "\n",
    "# MAE 대비 비율 계산\n",
    "train_mae = mean_absolute_error(y_train, model.predict(X_train_combined))\n",
    "test_mae = mean_absolute_error(y_test, y_pred)\n",
    "\n",
    "train_mae_ratio = (train_mae / train_mean) * 100\n",
    "test_mae_ratio = (test_mae / test_mean) * 100\n",
    "\n",
    "print(f\"훈련 데이터 MAE 비율: {train_mae_ratio:.2f}%\")\n",
    "print(f\"테스트 데이터 MAE 비율: {test_mae_ratio:.2f}%\")\n"
   ]
  }
 ],
 "metadata": {
  "kernelspec": {
   "display_name": "Python 3",
   "language": "python",
   "name": "python3"
  },
  "language_info": {
   "codemirror_mode": {
    "name": "ipython",
    "version": 3
   },
   "file_extension": ".py",
   "mimetype": "text/x-python",
   "name": "python",
   "nbconvert_exporter": "python",
   "pygments_lexer": "ipython3",
   "version": "3.13.0"
  }
 },
 "nbformat": 4,
 "nbformat_minor": 2
}
