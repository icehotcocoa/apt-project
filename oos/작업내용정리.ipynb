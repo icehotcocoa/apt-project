{
 "cells": [
  {
   "cell_type": "markdown",
   "metadata": {},
   "source": [
    "데이터수집"
   ]
  },
  {
   "cell_type": "markdown",
   "metadata": {},
   "source": [
    "전처리<br>\n",
    "상일1동 -> 상일동<br>\n",
    "상일2동 -> 강일동<br>\n",
    "항동 -> 오류2동<br>\n",
    "개포3동 -> 일원2동<br>\n",
    "오류 1동 삭제<br>"
   ]
  },
  {
   "cell_type": "markdown",
   "metadata": {},
   "source": [
    "머신러닝 테스트 시작"
   ]
  },
  {
   "cell_type": "markdown",
   "metadata": {},
   "source": [
    "점포수 오류 발견<br>\n",
    "수정파일 : Sorted_Number_of_Stores_v1.3(점포수+프렌차이즈점포수) -> re_merged_store_241202(merged_data + Sorted_Number_of_Stores_v1.3)"
   ]
  },
  {
   "cell_type": "markdown",
   "metadata": {},
   "source": [
    "Merged_Sales_data_v2.5 월매출 / 점포수"
   ]
  },
  {
   "cell_type": "markdown",
   "metadata": {},
   "source": [
    "Merged_Sales_data_v2.6 업종수 선택 63 -> 56"
   ]
  },
  {
   "cell_type": "markdown",
   "metadata": {},
   "source": [
    "중분류 분류"
   ]
  },
  {
   "cell_type": "markdown",
   "metadata": {},
   "source": [
    "1분기, 2분기 뒤 타겟 매칭"
   ]
  },
  {
   "cell_type": "markdown",
   "metadata": {},
   "source": [
    "각종 모델 테스트"
   ]
  },
  {
   "cell_type": "markdown",
   "metadata": {},
   "source": [
    "가장 성능이 좋게나온 랜덤포레스트로 컬럼선택 및 하이퍼파라미터 조절 작업"
   ]
  },
  {
   "cell_type": "markdown",
   "metadata": {},
   "source": []
  }
 ],
 "metadata": {
  "kernelspec": {
   "display_name": "Python 3",
   "language": "python",
   "name": "python3"
  },
  "language_info": {
   "codemirror_mode": {
    "name": "ipython",
    "version": 3
   },
   "file_extension": ".py",
   "mimetype": "text/x-python",
   "name": "python",
   "nbconvert_exporter": "python",
   "pygments_lexer": "ipython3",
   "version": "3.13.0"
  }
 },
 "nbformat": 4,
 "nbformat_minor": 2
}
