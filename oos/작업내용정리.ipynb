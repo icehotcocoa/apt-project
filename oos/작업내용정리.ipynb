{
 "cells": [
  {
   "cell_type": "markdown",
   "metadata": {},
   "source": [
    "데이터수집"
   ]
  },
  {
   "cell_type": "markdown",
   "metadata": {},
   "source": [
    "전처리<br>\n",
    "상일1동 -> 상일동<br>\n",
    "상일2동 -> 강일동<br>\n",
    "항동 -> 오류2동<br>\n",
    "개포3동 -> 일원2동<br>\n",
    "오류 1동 삭제<br>"
   ]
  },
  {
   "cell_type": "markdown",
   "metadata": {},
   "source": [
    "머신러닝 테스트 시작"
   ]
  },
  {
   "cell_type": "markdown",
   "metadata": {},
   "source": [
    "점포수 오류 발견<br>\n",
    "수정파일 : Sorted_Number_of_Stores_v1.3(점포수+프렌차이즈점포수) -> re_merged_store_241202(merged_data + Sorted_Number_of_Stores_v1.3)"
   ]
  },
  {
   "cell_type": "markdown",
   "metadata": {},
   "source": []
  }
 ],
 "metadata": {
  "language_info": {
   "name": "python"
  }
 },
 "nbformat": 4,
 "nbformat_minor": 2
}
